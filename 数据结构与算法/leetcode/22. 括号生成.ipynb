{
 "cells": [
  {
   "cell_type": "markdown",
   "metadata": {},
   "source": [
    "## 括号生成\n",
    "给出 n 代表生成括号的对数，请你写出一个函数，使其能够生成所有可能的并且有效的括号组合。\n",
    "例如，给出 n = 3，生成结果为：\n",
    "\n",
    "[  \n",
    "  \"((()))\",  \n",
    "  \"(()())\",  \n",
    "  \"(())()\",  \n",
    "  \"()(())\",  \n",
    "  \"()()()\"  \n",
    "]"
   ]
  },
  {
   "cell_type": "code",
   "execution_count": 13,
   "metadata": {},
   "outputs": [],
   "source": [
    "# 回溯法\n",
    "class Solution:\n",
    "    def generateParenthesis(self, n: int) -> list:\n",
    "        res = []\n",
    "        def backtrack(s='', left=0, right=0):\n",
    "#             print(s)\n",
    "            if len(s) == n*2:\n",
    "                res.append(s)\n",
    "                return\n",
    "            if left < n:\n",
    "                backtrack(s+'(', left+1, right)\n",
    "            if right < left:\n",
    "                backtrack(s+')', left, right+1)\n",
    "        backtrack()\n",
    "        return res"
   ]
  },
  {
   "cell_type": "code",
   "execution_count": 14,
   "metadata": {},
   "outputs": [
    {
     "data": {
      "text/plain": [
       "['((()))', '(()())', '(())()', '()(())', '()()()']"
      ]
     },
     "execution_count": 14,
     "metadata": {},
     "output_type": "execute_result"
    }
   ],
   "source": [
    "s = Solution()\n",
    "s.generateParenthesis(3)"
   ]
  },
  {
   "cell_type": "code",
   "execution_count": null,
   "metadata": {},
   "outputs": [],
   "source": []
  }
 ],
 "metadata": {
  "kernelspec": {
   "display_name": "Python 3",
   "language": "python",
   "name": "python3"
  },
  "language_info": {
   "codemirror_mode": {
    "name": "ipython",
    "version": 3
   },
   "file_extension": ".py",
   "mimetype": "text/x-python",
   "name": "python",
   "nbconvert_exporter": "python",
   "pygments_lexer": "ipython3",
   "version": "3.7.3"
  }
 },
 "nbformat": 4,
 "nbformat_minor": 2
}
