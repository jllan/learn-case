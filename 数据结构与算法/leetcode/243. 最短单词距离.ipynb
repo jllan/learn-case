{
 "cells": [
  {
   "cell_type": "markdown",
   "metadata": {},
   "source": [
    "### 题目描述\n",
    "\n",
    "Given a list of words and two words word1 and word2, return the shortest distance between these two words in the list.\n",
    "\n",
    "Example:\n",
    "\n",
    ">Assume that words = [\"practice\", \"makes\", \"perfect\", \"coding\", \"makes\"].  \n",
    "\n",
    ">Input: word1 = “coding”, word2 = “practice”  \n",
    "Output: 3  \n",
    "\n",
    ">Input: word1 = \"makes\", word2 = \"coding\"  \n",
    "Output: 1  \n",
    "\n",
    "Note:\n",
    "You may assume that word1 does not equal to word2, and word1 and word2 are both in the list."
   ]
  },
  {
   "cell_type": "code",
   "execution_count": 8,
   "metadata": {},
   "outputs": [],
   "source": [
    "class Solution:\n",
    "    def shortestDistance(self, words, word1, word2):\n",
    "        w1_inx, w2_inx = None, None\n",
    "        min_distance = len(words)\n",
    "        for i, w in enumerate(words):\n",
    "            if w == word1:\n",
    "                w1_inx = i\n",
    "            if w == word2:\n",
    "                w2_inx = i\n",
    "            print(w1_inx, w2_inx)\n",
    "            if (w1_inx is not None) and (w2_inx is not None):\n",
    "                min_distance = min(min_distance, abs(w1_inx-w2_inx))\n",
    "        return min_distance"
   ]
  },
  {
   "cell_type": "code",
   "execution_count": 10,
   "metadata": {},
   "outputs": [
    {
     "name": "stdout",
     "output_type": "stream",
     "text": [
      "None None\n",
      "None 1\n",
      "None 1\n",
      "3 1\n",
      "3 4\n"
     ]
    },
    {
     "data": {
      "text/plain": [
       "1"
      ]
     },
     "execution_count": 10,
     "metadata": {},
     "output_type": "execute_result"
    }
   ],
   "source": [
    "s = Solution()\n",
    "\n",
    "words = [\"practice\", \"makes\", \"perfect\", \"coding\", \"makes\"]\n",
    "word1 = \"coding\" \n",
    "word2 = \"makes\"\n",
    "s.shortestDistance(words, word1, word2)"
   ]
  },
  {
   "cell_type": "code",
   "execution_count": null,
   "metadata": {},
   "outputs": [],
   "source": []
  }
 ],
 "metadata": {
  "kernelspec": {
   "display_name": "Python 3.7.3 64-bit ('base': conda)",
   "language": "python",
   "name": "python37364bitbasecondaabe6c6509053462d980e903b25d40641"
  },
  "language_info": {
   "codemirror_mode": {
    "name": "ipython",
    "version": 3
   },
   "file_extension": ".py",
   "mimetype": "text/x-python",
   "name": "python",
   "nbconvert_exporter": "python",
   "pygments_lexer": "ipython3",
   "version": "3.7.3"
  }
 },
 "nbformat": 4,
 "nbformat_minor": 2
}
