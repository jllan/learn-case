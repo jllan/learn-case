{
 "cells": [
  {
   "cell_type": "markdown",
   "source": [
    "## 136. 只出现一次的数字\n",
    "\n",
    "给定一个非空整数数组，除了某个元素只出现一次以外，其余每个元素均出现两次。找出那个只出现了一次的元素。  \n",
    "说明：\n",
    "你的算法应该具有线性时间复杂度。 你可以不使用额外空间来实现吗？\n",
    "\n",
    "示例 1:\n",
    ">输入: [2,2,1]  \n",
    "输出: 1\n",
    "\n",
    "示例 2:\n",
    ">输入: [4,1,2,1,2]  \n",
    "输出: 4\n",
    "\n",
    "链接：https://leetcode-cn.com/problems/single-number"
   ],
   "metadata": {}
  },
  {
   "cell_type": "markdown",
   "source": [],
   "metadata": {}
  },
  {
   "cell_type": "code",
   "execution_count": 3,
   "source": [
    "# 方法一：使用一个set存储已出现的数字，如果当前数字已出现则remove，最后剩下的那个即为只出现一次的数字\n",
    "\n",
    "from typing import List\n",
    "\n",
    "class Solution:\n",
    "    def singleNumber(self, nums: List[int]) -> int:\n",
    "        tmp = set()\n",
    "        for i in nums:\n",
    "            if i in tmp:\n",
    "                tmp.remove(i)\n",
    "            else:\n",
    "                tmp.add(i)\n",
    "        return tmp.pop()"
   ],
   "outputs": [],
   "metadata": {}
  },
  {
   "cell_type": "code",
   "execution_count": 4,
   "source": [
    "# 方法二：异或运算，参考https://leetcode-cn.com/problems/single-number/solution/zhi-chu-xian-yi-ci-de-shu-zi-by-leetcode-solution/\n",
    "\n",
    "from functools import reduce\n",
    "\n",
    "class Solution:\n",
    "    def singleNumber(self, nums: List[int]) -> int:\n",
    "        return reduce(lambda x, y: x^y, nums)"
   ],
   "outputs": [],
   "metadata": {}
  },
  {
   "cell_type": "code",
   "execution_count": null,
   "source": [],
   "outputs": [],
   "metadata": {}
  }
 ],
 "metadata": {
  "orig_nbformat": 4,
  "language_info": {
   "name": "python",
   "version": "3.8.3",
   "mimetype": "text/x-python",
   "codemirror_mode": {
    "name": "ipython",
    "version": 3
   },
   "pygments_lexer": "ipython3",
   "nbconvert_exporter": "python",
   "file_extension": ".py"
  },
  "kernelspec": {
   "name": "python3",
   "display_name": "Python 3.8.3 64-bit ('base': conda)"
  },
  "interpreter": {
   "hash": "1b91b148f4b8007e59823b14d9317380dae844febf09e4e24329d7a832eb78b0"
  }
 },
 "nbformat": 4,
 "nbformat_minor": 2
}