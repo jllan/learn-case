{
 "cells": [
  {
   "cell_type": "markdown",
   "source": [
    "## 66. 加一\n",
    "\n",
    "给定一个由 整数 组成的 非空 数组所表示的非负整数，在该数的基础上加一。\n",
    "最高位数字存放在数组的首位， 数组中每个元素只存储单个数字。\n",
    "你可以假设除了整数 0 之外，这个整数不会以零开头。\n",
    "\n",
    " \n",
    "示例 1：\n",
    ">输入：digits = [1,2,3]  \n",
    "输出：[1,2,4]  \n",
    "解释：输入数组表示数字 123。\n",
    "\n",
    "示例 2：\n",
    ">输入：digits = [4,3,2,1]  \n",
    "输出：[4,3,2,2]  \n",
    "解释：输入数组表示数字 4321。\n",
    "\n",
    "示例 3：\n",
    ">输入：digits = [0]  \n",
    "输出：[1]\n",
    "\n",
    "链接：https://leetcode-cn.com/problems/plus-one"
   ],
   "metadata": {}
  },
  {
   "cell_type": "code",
   "execution_count": 1,
   "source": [
    "from typing import List"
   ],
   "outputs": [],
   "metadata": {}
  },
  {
   "cell_type": "code",
   "execution_count": 2,
   "source": [
    "class Solution:\n",
    "    def plusOne(self, digits: List[int]) -> List[int]:\n",
    "        a = [str(i) for i in digits]\n",
    "        a = ''.join(a)\n",
    "        a = int(a)+1\n",
    "        a = str(a)\n",
    "        a = list(a)\n",
    "        a = [int(i) for i in a]\n",
    "        return a"
   ],
   "outputs": [],
   "metadata": {}
  },
  {
   "cell_type": "code",
   "execution_count": 6,
   "source": [
    "s = Solution()\n",
    "\n",
    "digits = [1,2,3,9]\n",
    "s.plusOne(digits)"
   ],
   "outputs": [
    {
     "output_type": "execute_result",
     "data": {
      "text/plain": [
       "[2, 4, 0]"
      ]
     },
     "metadata": {},
     "execution_count": 6
    }
   ],
   "metadata": {}
  },
  {
   "cell_type": "code",
   "execution_count": 14,
   "source": [
    "class Solution:\n",
    "    def plusOne(self, digits: List[int]) -> List[int]:\n",
    "        res = []\n",
    "        i = len(digits)-1\n",
    "        tmp = digits[i]+1\n",
    "        while True:\n",
    "            print(i, tmp)\n",
    "            current_val = tmp%10\n",
    "            res.insert(0, current_val)\n",
    "            next_val = tmp//10\n",
    "            if i == 0:\n",
    "                if next_val == 0:\n",
    "                    break\n",
    "                else:\n",
    "                    tmp = next_val\n",
    "            else:\n",
    "                tmp = digits[i-1]+next_val\n",
    "                i -= 1\n",
    "        return res\n"
   ],
   "outputs": [],
   "metadata": {}
  },
  {
   "cell_type": "code",
   "execution_count": 16,
   "source": [
    "s = Solution()\n",
    "\n",
    "digits = [9,9,9]\n",
    "s.plusOne(digits)"
   ],
   "outputs": [
    {
     "output_type": "stream",
     "name": "stdout",
     "text": [
      "2 10\n",
      "1 10\n",
      "0 10\n",
      "0 1\n"
     ]
    },
    {
     "output_type": "execute_result",
     "data": {
      "text/plain": [
       "[1, 0, 0, 0]"
      ]
     },
     "metadata": {},
     "execution_count": 16
    }
   ],
   "metadata": {}
  },
  {
   "cell_type": "code",
   "execution_count": null,
   "source": [],
   "outputs": [],
   "metadata": {}
  }
 ],
 "metadata": {
  "orig_nbformat": 4,
  "language_info": {
   "name": "python",
   "version": "3.8.3",
   "mimetype": "text/x-python",
   "codemirror_mode": {
    "name": "ipython",
    "version": 3
   },
   "pygments_lexer": "ipython3",
   "nbconvert_exporter": "python",
   "file_extension": ".py"
  },
  "kernelspec": {
   "name": "python3",
   "display_name": "Python 3.8.3 64-bit ('base': conda)"
  },
  "interpreter": {
   "hash": "1b91b148f4b8007e59823b14d9317380dae844febf09e4e24329d7a832eb78b0"
  }
 },
 "nbformat": 4,
 "nbformat_minor": 2
}