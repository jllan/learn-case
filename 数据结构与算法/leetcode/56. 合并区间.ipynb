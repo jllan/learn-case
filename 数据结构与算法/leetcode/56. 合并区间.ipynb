{
 "cells": [
  {
   "cell_type": "markdown",
   "metadata": {},
   "source": [
    "## 题目描述\n",
    "\n",
    "以数组 intervals 表示若干个区间的集合，其中单个区间为 intervals[i] = [starti, endi] 。请你合并所有重叠的区间，并返回 一个不重叠的区间数组，该数组需恰好覆盖输入中的所有区间 。\n",
    "\n",
    "示例 1：\n",
    ">输入：intervals = [[1,3],[2,6],[8,10],[15,18]]  \n",
    "输出：[[1,6],[8,10],[15,18]]\n",
    "\n",
    "解释：区间 [1,3] 和 [2,6] 重叠, 将它们合并为 [1,6].\n",
    "\n",
    "示例 2：\n",
    ">输入：intervals = [[1,4],[4,5]]  \n",
    "输出：[[1,5]]\n",
    "\n",
    "解释：区间 [1,4] 和 [4,5] 可被视为重叠区间。\n"
   ]
  },
  {
   "cell_type": "code",
   "execution_count": 5,
   "metadata": {},
   "outputs": [
    {
     "data": {
      "text/plain": [
       "[[1, 4]]"
      ]
     },
     "execution_count": 5,
     "metadata": {},
     "output_type": "execute_result"
    }
   ],
   "source": [
    "from typing import List\n",
    "\n",
    "class Solution:\n",
    "    def merge(self, intervals: List[List[int]]) -> List[List[int]]:\n",
    "        intervals.sort(key=lambda x: x[0])\n",
    "\n",
    "        results = []\n",
    "        for interval in intervals:\n",
    "            if not results or results[-1][1]<interval[0]:\n",
    "                results.append(interval)\n",
    "            else:\n",
    "                results[-1][1] = max(interval[1], results[-1][1])\n",
    "\n",
    "        return results\n",
    "\n",
    "\n",
    "s = Solution()\n",
    "# intervals = [[1,3],[2,6],[8,10],[15,18]]\n",
    "# intervals = [[1,4],[4,5]]\n",
    "intervals = [[1,4],[2,3]]\n",
    "s.merge(intervals)"
   ]
  },
  {
   "cell_type": "code",
   "execution_count": null,
   "metadata": {},
   "outputs": [],
   "source": []
  }
 ],
 "metadata": {
  "interpreter": {
   "hash": "7c5d7306b163118f89fe049a1651390081b6f92596746532cb2761966b8ffecc"
  },
  "kernelspec": {
   "display_name": "Python 3.8.3 ('base')",
   "language": "python",
   "name": "python3"
  },
  "language_info": {
   "codemirror_mode": {
    "name": "ipython",
    "version": 3
   },
   "file_extension": ".py",
   "mimetype": "text/x-python",
   "name": "python",
   "nbconvert_exporter": "python",
   "pygments_lexer": "ipython3",
   "version": "3.8.3"
  },
  "orig_nbformat": 4
 },
 "nbformat": 4,
 "nbformat_minor": 2
}
