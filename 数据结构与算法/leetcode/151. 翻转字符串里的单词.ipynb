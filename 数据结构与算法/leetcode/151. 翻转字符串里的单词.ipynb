{
 "cells": [
  {
   "cell_type": "markdown",
   "metadata": {},
   "source": [
    "## 题目描述\n",
    "\n",
    "给你一个字符串 s ，逐个翻转字符串中的所有 单词 。  \n",
    "单词 是由非空格字符组成的字符串。s 中使用至少一个空格将字符串中的 单词 分隔开。  \n",
    "请你返回一个翻转 s 中单词顺序并用单个空格相连的字符串。\n",
    "\n",
    "说明：\n",
    "- 输入字符串 s 可以在前面、后面或者单词间包含多余的空格。\n",
    "- 翻转后单词间应当仅用一个空格分隔。\n",
    "- 翻转后的字符串中不应包含额外的空格。\n",
    " \n",
    "\n",
    "示例 1：\n",
    "> 输入：s = \"the sky is blue\"  \n",
    "输出：\"blue is sky the\"\n",
    "\n",
    "示例 2：\n",
    ">输入：s = \"  hello world  \"  \n",
    "输出：\"world hello\"\n",
    "\n",
    "解释：输入字符串可以在前面或者后面包含多余的空格，但是翻转后的字符不能包括。\n",
    "\n",
    "示例 3：\n",
    ">输入：s = \"a good   example\" \n",
    "输出：\"example good a\"\n",
    "\n",
    "解释：如果两个单词间有多余的空格，将翻转后单词间的空格减少到只含一个。\n",
    "\n",
    "示例 4：\n",
    ">输入：s = \"  Bob    Loves  Alice   \"  \n",
    "输出：\"Alice Loves Bob\"\n",
    "\n",
    "示例 5：\n",
    ">输入：s = \"Alice does not even like bob\"  \n",
    "输出：\"bob like even not does Alice\"\n",
    "\n",
    "来源：力扣（LeetCode）\n",
    "链接：https://leetcode-cn.com/problems/reverse-words-in-a-string\n",
    "著作权归领扣网络所有。商业转载请联系官方授权，非商业转载请注明出处。"
   ]
  },
  {
   "cell_type": "code",
   "execution_count": 2,
   "metadata": {},
   "outputs": [],
   "source": [
    "class Solution:\n",
    "    def reverseWords(self, s: str) -> str:\n",
    "        return ' '.join([i.strip() for i in s.split()][::-1])"
   ]
  },
  {
   "cell_type": "code",
   "execution_count": 3,
   "metadata": {},
   "outputs": [],
   "source": [
    "# 不改变原文中的空格\n",
    "\n",
    "class Solution:\n",
    "    def reverseWords(self, s: str) -> str:\n",
    "        print(s)\n",
    "        l1 = []\n",
    "        l2 = []\n",
    "        special_tok = 'TOK'\n",
    "        special_tok_pos = []\n",
    "        cur_w = ''\n",
    "        for i in s:\n",
    "            if i == ' ':\n",
    "                l1.append(i)\n",
    "                # print(l1)\n",
    "                if cur_w:\n",
    "                    l2.append(cur_w)\n",
    "                    cur_w = ''\n",
    "            else:\n",
    "                if not cur_w:\n",
    "                    l1.append(special_tok)\n",
    "                    special_tok_pos.append(len(l1)-1)\n",
    "                cur_w += i\n",
    "        if cur_w:\n",
    "            l2.append(cur_w)\n",
    "            #special_tok_pos.append(len(l1))\n",
    "        l2 = l2[::-1]\n",
    "        print(l1)\n",
    "        print(l2)\n",
    "        print(special_tok_pos)\n",
    "        # l2 = l2[::-1]\n",
    "        for idx, special_tok_p in enumerate(special_tok_pos):\n",
    "            print(idx, special_tok_p)\n",
    "            l1[special_tok_p] = l2[idx]\n",
    "            print(l1)\n",
    "        result = ''\n",
    "        for i in l1:\n",
    "            result += i\n",
    "        return result"
   ]
  },
  {
   "cell_type": "code",
   "execution_count": 4,
   "metadata": {},
   "outputs": [
    {
     "name": "stdout",
     "output_type": "stream",
     "text": [
      " Welcome to   China!\n",
      "[' ', 'TOK', ' ', 'TOK', ' ', ' ', ' ', 'TOK']\n",
      "['China!', 'to', 'Welcome']\n",
      "[1, 3, 7]\n",
      "0 1\n",
      "[' ', 'China!', ' ', 'TOK', ' ', ' ', ' ', 'TOK']\n",
      "1 3\n",
      "[' ', 'China!', ' ', 'to', ' ', ' ', ' ', 'TOK']\n",
      "2 7\n",
      "[' ', 'China!', ' ', 'to', ' ', ' ', ' ', 'Welcome']\n"
     ]
    },
    {
     "data": {
      "text/plain": [
       "' China! to   Welcome'"
      ]
     },
     "execution_count": 4,
     "metadata": {},
     "output_type": "execute_result"
    }
   ],
   "source": [
    "s = ' Welcome to   China!'\n",
    "so = Solution()\n",
    "so.reverseWords(s)"
   ]
  },
  {
   "cell_type": "code",
   "execution_count": null,
   "metadata": {},
   "outputs": [],
   "source": []
  }
 ],
 "metadata": {
  "interpreter": {
   "hash": "7c5d7306b163118f89fe049a1651390081b6f92596746532cb2761966b8ffecc"
  },
  "kernelspec": {
   "display_name": "Python 3.8.3 ('base')",
   "language": "python",
   "name": "python3"
  },
  "language_info": {
   "codemirror_mode": {
    "name": "ipython",
    "version": 3
   },
   "file_extension": ".py",
   "mimetype": "text/x-python",
   "name": "python",
   "nbconvert_exporter": "python",
   "pygments_lexer": "ipython3",
   "version": "3.8.3"
  },
  "orig_nbformat": 4
 },
 "nbformat": 4,
 "nbformat_minor": 2
}
