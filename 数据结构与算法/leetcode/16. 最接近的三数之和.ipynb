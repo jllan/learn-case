{
 "cells": [
  {
   "cell_type": "markdown",
   "metadata": {},
   "source": [
    "## 最接近的三数之和\n",
    "\n",
    "给定一个包括 n 个整数的数组 nums 和 一个目标值 target。找出 nums 中的三个整数，使得它们的和与 target 最接近。返回这三个数的和。假定每组输入只存在唯一答案。\n",
    "\n",
    "示例：\n",
    ">输入：nums = [-1,2,1,-4], target = 1  \n",
    "输出：2  \n",
    "解释：与 target 最接近的和是 2 (-1 + 2 + 1 = 2) 。\n",
    " \n",
    "来源：力扣（LeetCode）\n",
    "链接：https://leetcode-cn.com/problems/3sum-closest"
   ]
  },
  {
   "cell_type": "code",
   "execution_count": 6,
   "metadata": {},
   "outputs": [],
   "source": [
    "from typing import List\n",
    "\n",
    "class Solution:\n",
    "    def threeSumClosest(self, nums: List[int], target: int) -> int:\n",
    "        nums.sort()\n",
    "        mini_diff = float('inf')\n",
    "        closest_sum  = None\n",
    "        for i in range(len(nums)):\n",
    "            left, right = i+1, len(nums)-1\n",
    "            while left < right:\n",
    "                three_num_sum = nums[i]+nums[left]+nums[right]\n",
    "                diff = three_num_sum - target\n",
    "                if diff == 0:\n",
    "                    return target\n",
    "                elif diff < 0:\n",
    "                    left += 1\n",
    "                else:\n",
    "                    right -= 1\n",
    "                if mini_diff > abs(diff):\n",
    "                    mini_diff = abs(diff)\n",
    "                    closest_sum = three_num_sum\n",
    "                \n",
    "        return closest_sum"
   ]
  },
  {
   "cell_type": "code",
   "execution_count": 10,
   "metadata": {},
   "outputs": [],
   "source": [
    "class Solution:\n",
    "    def threeSumClosest(self, nums: List[int], target: int) -> int:\n",
    "        nums.sort()\n",
    "        closest_sum = float('inf')\n",
    "        for i in range(len(nums)):\n",
    "            left, right = i+1, len(nums)-1\n",
    "            while left < right:\n",
    "                three_num_sum = nums[i]+nums[left]+nums[right]\n",
    "                if three_num_sum == target:\n",
    "                    return target\n",
    "                elif three_num_sum < target:\n",
    "                    left += 1\n",
    "                else:\n",
    "                    right -= 1\n",
    "                if abs(closest_sum-target) > abs(three_num_sum-target):\n",
    "                    closest_sum = three_num_sum\n",
    "                \n",
    "        return closest_sum"
   ]
  },
  {
   "cell_type": "code",
   "execution_count": 11,
   "metadata": {},
   "outputs": [
    {
     "data": {
      "text/plain": [
       "2"
      ]
     },
     "execution_count": 11,
     "metadata": {},
     "output_type": "execute_result"
    }
   ],
   "source": [
    "s = Solution()\n",
    "\n",
    "nums = [-1,2,1,-4]\n",
    "target = 1\n",
    "s.threeSumClosest(nums, target)"
   ]
  },
  {
   "cell_type": "code",
   "execution_count": null,
   "metadata": {},
   "outputs": [],
   "source": []
  }
 ],
 "metadata": {
  "interpreter": {
   "hash": "7c5d7306b163118f89fe049a1651390081b6f92596746532cb2761966b8ffecc"
  },
  "kernelspec": {
   "display_name": "Python 3.8.3 64-bit ('base': conda)",
   "name": "python3"
  },
  "language_info": {
   "codemirror_mode": {
    "name": "ipython",
    "version": 3
   },
   "file_extension": ".py",
   "mimetype": "text/x-python",
   "name": "python",
   "nbconvert_exporter": "python",
   "pygments_lexer": "ipython3",
   "version": "3.8.3"
  },
  "orig_nbformat": 4
 },
 "nbformat": 4,
 "nbformat_minor": 2
}
