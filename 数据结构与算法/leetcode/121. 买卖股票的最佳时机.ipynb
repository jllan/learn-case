{
 "cells": [
  {
   "cell_type": "markdown",
   "metadata": {},
   "source": [
    "## 买卖股票的最佳时机\n",
    "给定一个数组，它的第 i 个元素是一支给定股票第 i 天的价格。  \n",
    "如果你最多只允许完成一笔交易（即买入和卖出一支股票），设计一个算法来计算你所能获取的最大利润。  \n",
    "注意你不能在买入股票前卖出股票。\n",
    "\n",
    "示例 1:\n",
    ">输入: [7,1,5,3,6,4]  \n",
    "输出: 5  \n",
    "解释: 在第 2 天（股票价格 = 1）的时候买入，在第 5 天（股票价格 = 6）的时候卖出，最大利润 = 6-1 = 5 。  \n",
    "     注意利润不能是 7-1 = 6, 因为卖出价格需要大于买入价格。\n",
    "\n",
    "示例 2:\n",
    ">输入: [7,6,4,3,1]  \n",
    "输出: 0  \n",
    "解释: 在这种情况下, 没有交易完成, 所以最大利润为 0。\n",
    "\n",
    "链接：https://leetcode-cn.com/problems/best-time-to-buy-and-sell-stock"
   ]
  },
  {
   "cell_type": "code",
   "execution_count": 6,
   "metadata": {},
   "outputs": [],
   "source": [
    "# 解法一：暴力法，两层循环\n",
    "from typing import List\n",
    "\n",
    "class Solution:\n",
    "    def maxProfit(self, prices: List[int]) -> int:\n",
    "        max_profit = 0\n",
    "        for sale in range(1, len(prices)):\n",
    "            for buy in range(sale):\n",
    "                max_profit = max(max_profit, prices[sale]-prices[buy])\n",
    "        return max_profit"
   ]
  },
  {
   "cell_type": "code",
   "execution_count": 7,
   "metadata": {},
   "outputs": [
    {
     "data": {
      "text/plain": [
       "0"
      ]
     },
     "execution_count": 7,
     "metadata": {},
     "output_type": "execute_result"
    }
   ],
   "source": [
    "s = Solution()\n",
    "s.maxProfit([7,6,4,3,1])"
   ]
  },
  {
   "cell_type": "code",
   "execution_count": 13,
   "metadata": {},
   "outputs": [],
   "source": [
    "# 解法二：动态规划\n",
    "# 遍历数组, 获取其最小值\n",
    "# 将当前值 - 最小值 = 当前的最大利润\n",
    "from typing import List\n",
    "\n",
    "class Solution:\n",
    "    def maxProfit(self, prices: List[int]) -> int:\n",
    "        if len(prices)<2:\n",
    "            return 0\n",
    "        min_buy = prices[0]\n",
    "        max_profit = 0\n",
    "#         for i in range(1, len(prices)):\n",
    "#             if prices[i]<min_buy:\n",
    "#                 min_buy = prices[i]\n",
    "#             elif prices[i]-min_buy>max_profit:\n",
    "#                 max_profit = prices[i]-min_buy\n",
    "        \n",
    "        for i in range(1, len(prices)):\n",
    "            min_buy = min(min_buy, prices[i])\n",
    "            max_profit = max(max_profit, prices[i]-min_buy)\n",
    "                \n",
    "        return max_profit"
   ]
  },
  {
   "cell_type": "code",
   "execution_count": 12,
   "metadata": {},
   "outputs": [
    {
     "data": {
      "text/plain": [
       "5"
      ]
     },
     "execution_count": 12,
     "metadata": {},
     "output_type": "execute_result"
    }
   ],
   "source": [
    "s = Solution()\n",
    "s.maxProfit([7,6,4,9,3,1])"
   ]
  },
  {
   "cell_type": "code",
   "execution_count": null,
   "metadata": {},
   "outputs": [],
   "source": []
  }
 ],
 "metadata": {
  "kernelspec": {
   "display_name": "Python 3",
   "language": "python",
   "name": "python3"
  },
  "language_info": {
   "codemirror_mode": {
    "name": "ipython",
    "version": 3
   },
   "file_extension": ".py",
   "mimetype": "text/x-python",
   "name": "python",
   "nbconvert_exporter": "python",
   "pygments_lexer": "ipython3",
   "version": "3.7.3"
  }
 },
 "nbformat": 4,
 "nbformat_minor": 2
}
