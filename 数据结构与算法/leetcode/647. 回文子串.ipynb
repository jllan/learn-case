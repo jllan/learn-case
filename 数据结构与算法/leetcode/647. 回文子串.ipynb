{
 "cells": [
  {
   "cell_type": "markdown",
   "metadata": {},
   "source": [
    "## 题目说明\n",
    "\n",
    "给你一个字符串 s ，请你统计并返回这个字符串中 回文子串 的数目。  \n",
    "回文字符串 是正着读和倒过来读一样的字符串。  \n",
    "子字符串 是字符串中的由连续字符组成的一个序列。  \n",
    "具有不同开始位置或结束位置的子串，即使是由相同的字符组成，也会被视作不同的子串。  \n",
    "来源：力扣（LeetCode）  \n",
    "链接：https://leetcode-cn.com/problems/palindromic-substrings  \n",
    "著作权归领扣网络所有。商业转载请联系官方授权，非商业转载请注明出处。\n",
    "\n",
    "示例 1：\n",
    ">输入：s = \"abc\"  \n",
    "输出：3  \n",
    "\n",
    "解释：三个回文子串: \"a\", \"b\", \"c\"\n",
    "\n",
    "示例 2：\n",
    ">输入：s = \"aaa\"  \n",
    "输出：6\n",
    "\n",
    "解释：6个回文子串: \"a\", \"a\", \"a\", \"aa\", \"aa\", \"aaa\"\n",
    " \n",
    "\n",
    "提示：\n",
    "1 <= s.length <= 1000  \n",
    "s 由小写英文字母组成"
   ]
  },
  {
   "cell_type": "code",
   "execution_count": null,
   "metadata": {},
   "outputs": [],
   "source": [
    "# 解法1：暴力遍历\n",
    "\n",
    "class Solution:\n",
    "    def countSubstrings(self, s: str) -> int:\n",
    "        num = 0\n",
    "        for i in range(len(s)+1):\n",
    "            for j in range(i):\n",
    "                if s[j:i] == s[j:i][::-1]:\n",
    "                    num += 1\n",
    "        return num\n",
    "\n"
   ]
  },
  {
   "cell_type": "code",
   "execution_count": 11,
   "metadata": {},
   "outputs": [],
   "source": [
    "# 解法2：动态规划\n",
    "\n",
    "class Solution:\n",
    "    def countSubstrings(self, s: str) -> str:\n",
    "\n",
    "        n = 0\n",
    "        dp = [[False for _ in range(len(s))] for _ in range(len(s))]\n",
    "\n",
    "        for i in range\n",
    "        for r in range(len(s)):\n",
    "            for l in range(r+1):\n",
    "                # print(l, r, s[l], s[r], dp[l+1][r-1])\n",
    "                if s[l] == s[r] and (r-l<=2 or dp[l+1][r-1]):\n",
    "                    dp[l][r] = True\n",
    "                    n += 1\n",
    "                # print(l, r, s[l], s[r], dp[l+1][r-1])\n",
    "                print(l, r, s[l], s[r])\n",
    "        return n"
   ]
  },
  {
   "cell_type": "code",
   "execution_count": 13,
   "metadata": {},
   "outputs": [
    {
     "name": "stdout",
     "output_type": "stream",
     "text": [
      "0 0 a a\n",
      "0 1 a a\n",
      "1 1 a a\n",
      "0 2 a b\n",
      "1 2 a b\n",
      "2 2 b b\n",
      "0 3 a c\n",
      "1 3 a c\n",
      "2 3 b c\n",
      "3 3 c c\n",
      "0 4 a b\n",
      "1 4 a b\n",
      "2 4 b b\n",
      "3 4 c b\n",
      "4 4 b b\n",
      "0 5 a a\n",
      "1 5 a a\n",
      "2 5 b a\n",
      "3 5 c a\n",
      "4 5 b a\n",
      "5 5 a a\n",
      "9\n"
     ]
    }
   ],
   "source": [
    "s = Solution()\n",
    "\n",
    "res = s.countSubstrings('aabcba')\n",
    "print(res)"
   ]
  },
  {
   "cell_type": "code",
   "execution_count": null,
   "metadata": {},
   "outputs": [],
   "source": []
  }
 ],
 "metadata": {
  "interpreter": {
   "hash": "7c5d7306b163118f89fe049a1651390081b6f92596746532cb2761966b8ffecc"
  },
  "kernelspec": {
   "display_name": "Python 3.8.3 ('base')",
   "language": "python",
   "name": "python3"
  },
  "language_info": {
   "codemirror_mode": {
    "name": "ipython",
    "version": 3
   },
   "file_extension": ".py",
   "mimetype": "text/x-python",
   "name": "python",
   "nbconvert_exporter": "python",
   "pygments_lexer": "ipython3",
   "version": "3.8.3"
  },
  "orig_nbformat": 4
 },
 "nbformat": 4,
 "nbformat_minor": 2
}
