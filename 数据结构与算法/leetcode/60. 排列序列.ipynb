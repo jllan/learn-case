{
 "cells": [
  {
   "cell_type": "markdown",
   "metadata": {},
   "source": [
    "## 题目描述\n",
    "\n",
    "给出集合 [1,2,3,...,n]，其所有元素共有 n! 种排列。\n",
    "按大小顺序列出所有排列情况，并一一标记，当 n = 3 时, 所有排列如下：\n",
    "```\n",
    "\"123\"\n",
    "\"132\"\n",
    "\"213\"\n",
    "\"231\"\n",
    "\"312\"\n",
    "\"321\"\n",
    "```\n",
    "给定 n 和 k，返回第 k 个排列。\n",
    "\n",
    "示例 1：\n",
    ">输入：n = 3, k = 3  \n",
    "输出：\"213\"\n",
    "\n",
    "示例 2：\n",
    ">输入：n = 4, k = 9  \n",
    "输出：\"2314\"\n",
    "\n",
    "示例 3：\n",
    ">输入：n = 3, k = 1  \n",
    "输出：\"123\""
   ]
  },
  {
   "cell_type": "code",
   "execution_count": 28,
   "metadata": {},
   "outputs": [
    {
     "name": "stdout",
     "output_type": "stream",
     "text": [
      "[1, 2, 3, 4, 5] 25\n",
      "24 1 1\n",
      "[2, 1, 3, 4, 5]\n",
      "['21345']\n"
     ]
    },
    {
     "data": {
      "text/plain": [
       "'21345'"
      ]
     },
     "execution_count": 28,
     "metadata": {},
     "output_type": "execute_result"
    }
   ],
   "source": [
    "class Solution:\n",
    "    def getPermutation(self, n: int, k: int) -> str:\n",
    "        results = []\n",
    "        def backtracking(nums, res):\n",
    "            if len(res) == n:\n",
    "                results.append(res[:])\n",
    "                return \n",
    "            for idx in range(len(nums)):\n",
    "                backtracking(nums[:idx]+nums[idx+1:], res+str(nums[idx]))\n",
    "                if len(results) == k:\n",
    "                    break\n",
    "\n",
    "        nums = list(range(1, n+1))\n",
    "        print(nums, k)\n",
    "        x = 1\n",
    "        for i in range(1, n):\n",
    "            x *= i\n",
    "        \n",
    "        m, k = k//x, k%x\n",
    "        if k == 0:\n",
    "            m -= 1\n",
    "            k = x\n",
    "        print(x, m, k)\n",
    "        nums = [nums[m]]+nums[:m]+nums[m+1:]\n",
    "        print(nums)\n",
    "        backtracking(nums, '')\n",
    "        print(results)\n",
    "        return results[-1]\n",
    "\n",
    "\n",
    "s = Solution()\n",
    "s.getPermutation(5, 25)"
   ]
  }
 ],
 "metadata": {
  "interpreter": {
   "hash": "7c5d7306b163118f89fe049a1651390081b6f92596746532cb2761966b8ffecc"
  },
  "kernelspec": {
   "display_name": "Python 3.8.3 ('base')",
   "language": "python",
   "name": "python3"
  },
  "language_info": {
   "codemirror_mode": {
    "name": "ipython",
    "version": 3
   },
   "file_extension": ".py",
   "mimetype": "text/x-python",
   "name": "python",
   "nbconvert_exporter": "python",
   "pygments_lexer": "ipython3",
   "version": "3.8.3"
  },
  "orig_nbformat": 4
 },
 "nbformat": 4,
 "nbformat_minor": 2
}
