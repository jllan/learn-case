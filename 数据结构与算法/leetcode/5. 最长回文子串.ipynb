{
 "cells": [
  {
   "cell_type": "markdown",
   "metadata": {},
   "source": [
    "## 最长回文子串\n",
    "给定一个字符串 s，找到 s 中最长的回文子串。你可以假设 s 的最大长度为 1000。\n",
    "\n",
    "示例 1：\n",
    ">输入: \"babad\"  \n",
    "输出: \"bab\"  \n",
    "注意: \"aba\" 也是一个有效答案。  \n",
    "\n",
    "示例 2：\n",
    ">输入: \"cbbd\"  \n",
    "输出: \"bb\""
   ]
  },
  {
   "cell_type": "code",
   "execution_count": 22,
   "metadata": {},
   "outputs": [],
   "source": [
    "# 解法一\n",
    "# 暴力法：找出所有的子串，看每个子串是否是回文串\n",
    "class Solution:\n",
    "    def longestPalindrome(self, s: str) -> str:\n",
    "        res = ''\n",
    "        if not s:\n",
    "            return ''\n",
    "        \n",
    "        if len(s)==1:\n",
    "            return s\n",
    "        \n",
    "        for i in range(len(s)):\n",
    "            for j in range(i+1, len(s)+1):\n",
    "#                 print(i, j, s[i:j], s[i: j][::-1])\n",
    "                if s[i:j] == s[i: j][::-1]:\n",
    "                    print(s[i:j])\n",
    "                    if j-i+1>len(res):\n",
    "                        res = s[i:j]\n",
    "                        \n",
    "        return res"
   ]
  },
  {
   "cell_type": "code",
   "execution_count": 25,
   "metadata": {},
   "outputs": [
    {
     "name": "stdout",
     "output_type": "stream",
     "text": [
      "\"\n",
      "a\n",
      "b\n",
      "c\n",
      "d\n",
      "b\n",
      "bb\n",
      "b\n",
      "f\n",
      "c\n",
      "b\n",
      "a\n"
     ]
    },
    {
     "data": {
      "text/plain": [
       "'bb'"
      ]
     },
     "execution_count": 25,
     "metadata": {},
     "output_type": "execute_result"
    }
   ],
   "source": [
    "s = Solution()\n",
    "s.longestPalindrome('\"abcdbbfcba')"
   ]
  },
  {
   "cell_type": "code",
   "execution_count": 57,
   "metadata": {},
   "outputs": [],
   "source": [
    "# 中心扩散法\n",
    "# 给两个中心位置（如果回文串长度是奇数，有一个中心，如果是偶数会有两个中心），然后从两个中心往外扩展\n",
    "def isPalindrome(m1, m2, s):\n",
    "    \"\"\"\n",
    "    m1和m2是两个中心点\n",
    "    \"\"\"\n",
    "    res = ''\n",
    "    while m1>=0 and m2<=len(s)-1:\n",
    "        if s[m1]==s[m2]:\n",
    "            res = s[m1:m2+1]\n",
    "#             print(res)\n",
    "            m1-=1\n",
    "            m2+=1\n",
    "            \n",
    "        else:\n",
    "            break\n",
    "    return res\n",
    "\n",
    "class Solution:\n",
    "    def longestPalindrome(self, s: str) -> str:\n",
    "        res = ''\n",
    "        if not s:\n",
    "            return ''\n",
    "        \n",
    "        if len(s)==1:\n",
    "            return s\n",
    "        for i in range(len(s)-1):\n",
    "            tmp = isPalindrome(i, i, s)\n",
    "            if len(tmp)>len(res):\n",
    "                res = tmp\n",
    "            tmp = isPalindrome(i, i+1, s)\n",
    "            if len(tmp)>len(res):\n",
    "                res = tmp\n",
    "        return res"
   ]
  },
  {
   "cell_type": "code",
   "execution_count": 122,
   "metadata": {},
   "outputs": [
    {
     "name": "stdout",
     "output_type": "stream",
     "text": [
      "0 1 a b\n",
      "0 2 a a\n",
      "hhh 0 2 False\n",
      "0 3 a c\n",
      "1 2 b a\n",
      "1 3 b c\n",
      "2 3 a c\n"
     ]
    },
    {
     "data": {
      "text/plain": [
       "'aba'"
      ]
     },
     "execution_count": 122,
     "metadata": {},
     "output_type": "execute_result"
    }
   ],
   "source": [
    "# isPalindrome(4,5,'abcdbbfcba')\n",
    "s = Solution()\n",
    "s.longestPalindrome('abcdbbfcba')"
   ]
  },
  {
   "cell_type": "code",
   "execution_count": 5,
   "metadata": {},
   "outputs": [],
   "source": [
    "# 解法三\n",
    "# 动态规划\n",
    "class Solution:\n",
    "    def longestPalindrome(self, s: str) -> str:\n",
    "        if not s:\n",
    "            return ''\n",
    "        \n",
    "        if len(s)==1:\n",
    "            return s\n",
    "        \n",
    "        res = [[False for _ in range(len(s))] for _ in range(len(s))]\n",
    "        res[0][0] = True\n",
    "        palindrome = s[0]\n",
    "        for r in range(1, len(s)):\n",
    "            for l in range(r):\n",
    "                print(l, r, s[l], s[r], res[l+1][r-1])\n",
    "                if s[l] == s[r] and (r-l<=2 or res[l+1][r-1]):\n",
    "#                     print('hhh', l, r, res[l+1][r-1])\n",
    "                    res[l][r] = True\n",
    "                    if r-l+1 > len(palindrome):\n",
    "                        palindrome = s[l:r+1]\n",
    "        return palindrome"
   ]
  },
  {
   "cell_type": "code",
   "execution_count": 6,
   "metadata": {},
   "outputs": [
    {
     "name": "stdout",
     "output_type": "stream",
     "text": [
      "0 1 b a False\n",
      "0 2 b b False\n",
      "1 2 a b False\n",
      "0 3 b a False\n",
      "1 3 a a False\n",
      "2 3 b a False\n",
      "0 4 b d True\n",
      "1 4 a d False\n",
      "2 4 b d False\n",
      "3 4 a d False\n",
      "0 5 b a False\n",
      "1 5 a a False\n",
      "2 5 b a False\n",
      "3 5 a a False\n",
      "4 5 d a False\n",
      "0 6 b d False\n",
      "1 6 a d False\n",
      "2 6 b d True\n",
      "3 6 a d False\n",
      "4 6 d d False\n",
      "5 6 a d False\n",
      "0 7 b a False\n",
      "1 7 a a False\n",
      "2 7 b a False\n",
      "3 7 a a True\n",
      "4 7 d a False\n",
      "5 7 a a False\n",
      "6 7 d a False\n"
     ]
    },
    {
     "data": {
      "text/plain": [
       "'adada'"
      ]
     },
     "execution_count": 6,
     "metadata": {},
     "output_type": "execute_result"
    }
   ],
   "source": [
    "s = Solution()\n",
    "s.longestPalindrome(\"babadada\")"
   ]
  },
  {
   "cell_type": "code",
   "execution_count": null,
   "metadata": {},
   "outputs": [],
   "source": []
  }
 ],
 "metadata": {
  "kernelspec": {
   "display_name": "Python 3",
   "language": "python",
   "name": "python3"
  },
  "language_info": {
   "codemirror_mode": {
    "name": "ipython",
    "version": 3
   },
   "file_extension": ".py",
   "mimetype": "text/x-python",
   "name": "python",
   "nbconvert_exporter": "python",
   "pygments_lexer": "ipython3",
   "version": "3.7.3"
  }
 },
 "nbformat": 4,
 "nbformat_minor": 2
}
