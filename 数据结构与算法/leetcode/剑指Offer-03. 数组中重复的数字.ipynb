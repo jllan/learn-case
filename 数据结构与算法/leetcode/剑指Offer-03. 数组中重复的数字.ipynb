{
 "cells": [
  {
   "cell_type": "markdown",
   "metadata": {},
   "source": [
    "## 题目描述\n",
    "\n",
    "找出数组中重复的数字。  \n",
    "在一个长度为 n 的数组 nums 里的所有数字都在 0～n-1 的范围内。数组中某些数字是重复的，但不知道有几个数字重复了，也不知道每个数字重复了几次。请找出数组中任意一个重复的数字。\n",
    "\n",
    "示例 1：\n",
    ">输入：  \n",
    "[2, 3, 1, 0, 2, 5, 3]  \n",
    "\n",
    "输出：2 或 3 \n",
    "\n",
    "来源：力扣（LeetCode）  \n",
    "链接：https://leetcode-cn.com/problems/shu-zu-zhong-zhong-fu-de-shu-zi-lcof  \n",
    "著作权归领扣网络所有。商业转载请联系官方授权，非商业转载请注明出处。"
   ]
  },
  {
   "cell_type": "code",
   "execution_count": 5,
   "metadata": {},
   "outputs": [],
   "source": [
    "# 一个长度为 n 的数组 nums 里的所有数字都在 0～n-1 的 范围内，这个范围恰好与数组的下标可以一一对应。\n",
    "# 所以我们可以执行某种操作，使索引与值一一对应，即索引 0 的值为 0，索引 1 的值为 1。\n",
    "# 而一旦某个索引的值不只一个，则找到了重复的数字，也即发生了 哈希冲突。\n",
    "# 参考：https://leetcode-cn.com/problems/shu-zu-zhong-zhong-fu-de-shu-zi-lcof/solution/jian-zhi-offer-mian-shi-ti-jing-xuan-tu-jie-03-shu/\n",
    "\n",
    "from typing import List\n",
    "\n",
    "class Solution:\n",
    "    def findRepeatNumber(self, nums: List[int]) -> int:\n",
    "        idx = 0\n",
    "        while idx < len(nums):\n",
    "            n = nums[idx]\n",
    "            if idx != n:\n",
    "                if n != nums[n]:\n",
    "                    nums[idx], nums[n] = nums[n], nums[idx]\n",
    "                else:\n",
    "                    return n\n",
    "            else:\n",
    "                idx += 1\n"
   ]
  },
  {
   "cell_type": "code",
   "execution_count": 6,
   "metadata": {},
   "outputs": [
    {
     "name": "stdout",
     "output_type": "stream",
     "text": [
      "2\n"
     ]
    }
   ],
   "source": [
    "s = Solution()\n",
    "\n",
    "nums = [2, 3, 1, 0, 2, 5, 3]\n",
    "res = s.findRepeatNumber(nums)\n",
    "print(res)"
   ]
  },
  {
   "cell_type": "code",
   "execution_count": null,
   "metadata": {},
   "outputs": [],
   "source": []
  }
 ],
 "metadata": {
  "interpreter": {
   "hash": "7c5d7306b163118f89fe049a1651390081b6f92596746532cb2761966b8ffecc"
  },
  "kernelspec": {
   "display_name": "Python 3.8.3 ('base')",
   "language": "python",
   "name": "python3"
  },
  "language_info": {
   "codemirror_mode": {
    "name": "ipython",
    "version": 3
   },
   "file_extension": ".py",
   "mimetype": "text/x-python",
   "name": "python",
   "nbconvert_exporter": "python",
   "pygments_lexer": "ipython3",
   "version": "3.8.3"
  },
  "orig_nbformat": 4
 },
 "nbformat": 4,
 "nbformat_minor": 2
}
