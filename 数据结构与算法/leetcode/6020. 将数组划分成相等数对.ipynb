{
 "cells": [
  {
   "cell_type": "markdown",
   "metadata": {},
   "source": [
    "## 题目描述\n",
    "\n",
    "给你一个整数数组 nums ，它包含 2 * n 个整数。  \n",
    "你需要将 nums 划分成 n 个数对，满足：  \n",
    "- 每个元素 只属于一个 数对。\n",
    "- 同一数对中的元素 相等 。\n",
    "如果可以将 nums 划分成 n 个数对，请你返回 true ，否则返回 false 。\n",
    "\n",
    " \n",
    "\n",
    "示例 1：\n",
    ">输入：nums = [3,2,3,2,2,2]  \n",
    "输出：true\n",
    "\n",
    "解释：\n",
    "nums 中总共有 6 个元素，所以它们应该被划分成 6 / 2 = 3 个数对。  \n",
    "nums 可以划分成 (2, 2) ，(3, 3) 和 (2, 2) ，满足所有要求。\n",
    "\n",
    "示例 2：\n",
    ">输入：nums = [1,2,3,4]  \n",
    "输出：false\n",
    "\n",
    "解释：\n",
    "无法将 nums 划分成 4 / 2 = 2 个数对且满足所有要求。"
   ]
  },
  {
   "cell_type": "code",
   "execution_count": 4,
   "metadata": {},
   "outputs": [],
   "source": [
    "from typing import List\n",
    "\n",
    "\n",
    "# 有错误\n",
    "class Solution:\n",
    "    def divideArray(self, nums: List[int]) -> bool:\n",
    "        tmp = dict()\n",
    "        for n in nums:\n",
    "            if n in tmp:\n",
    "                tmp.pop(n)\n",
    "            else:\n",
    "                tmp[n] = 1\n",
    "        if not tmp:\n",
    "            return True\n",
    "        else:\n",
    "            return False"
   ]
  },
  {
   "cell_type": "code",
   "execution_count": null,
   "metadata": {},
   "outputs": [],
   "source": []
  }
 ],
 "metadata": {
  "interpreter": {
   "hash": "7c5d7306b163118f89fe049a1651390081b6f92596746532cb2761966b8ffecc"
  },
  "kernelspec": {
   "display_name": "Python 3.8.3 ('base')",
   "language": "python",
   "name": "python3"
  },
  "language_info": {
   "codemirror_mode": {
    "name": "ipython",
    "version": 3
   },
   "file_extension": ".py",
   "mimetype": "text/x-python",
   "name": "python",
   "nbconvert_exporter": "python",
   "pygments_lexer": "ipython3",
   "version": "3.8.3"
  },
  "orig_nbformat": 4
 },
 "nbformat": 4,
 "nbformat_minor": 2
}
