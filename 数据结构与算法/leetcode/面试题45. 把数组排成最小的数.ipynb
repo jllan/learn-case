{
 "cells": [
  {
   "cell_type": "markdown",
   "metadata": {},
   "source": [
    "## 把数组排成最小的数\n",
    "\n",
    "输入一个正整数数组，把数组里所有数字拼接起来排成一个数，打印能拼接出的所有数字中最小的一个。\n",
    "\n",
    "示例 1:  \n",
    ">输入: [10,2]  \n",
    "输出: \"102\"  \n",
    "\n",
    "示例 2:  \n",
    ">输入: [3,30,34,5,9]  \n",
    "输出: \"3033459\"  \n",
    "\n",
    "提示:\n",
    ">0 < nums.length <= 100  \n",
    "说明:\n",
    "\n",
    "输出结果可能非常大，所以你需要返回一个字符串而不是整数\n",
    "拼接起来的数字可能会有前导 0，最后结果不需要去掉前导 0\n",
    "\n",
    "链接：https://leetcode-cn.com/problems/ba-shu-zu-pai-cheng-zui-xiao-de-shu-lcof"
   ]
  },
  {
   "cell_type": "markdown",
   "metadata": {},
   "source": [
    "### 解法1\n",
    "先排序再组合，\n",
    "1. 比较n1与n2，转成字符串s1与s2\n",
    "2. 比较s1s2与s2s1大小，小的放前面\n",
    "3. 依次输出所有字符串\n",
    "\n",
    "举例\n",
    ">['3', '12', '1']-->['12', '3', '1']-->['1', '12', '3']"
   ]
  },
  {
   "cell_type": "code",
   "execution_count": 123,
   "metadata": {},
   "outputs": [],
   "source": [
    "from typing import List\n",
    "from functools import cmp_to_key\n",
    "\n",
    "def cmp(x, y):\n",
    "    if (x+y)<(y+x):\n",
    "        return -1\n",
    "    else:\n",
    "        return 1\n",
    "        \n",
    "class Solution:\n",
    "    def minNumber(self, nums: List[int]) -> str:\n",
    "        nums = map(str, nums)\n",
    "#         res = sorted(nums, key=cmp_to_key(cmp))\n",
    "        res = sorted(nums, key=cmp_to_key(lambda x, y: int(x+y)-int(y+x)), reverse=False)\n",
    "        return ''.join(res)"
   ]
  },
  {
   "cell_type": "code",
   "execution_count": 124,
   "metadata": {},
   "outputs": [
    {
     "data": {
      "text/plain": [
       "'1303349'"
      ]
     },
     "execution_count": 124,
     "metadata": {},
     "output_type": "execute_result"
    }
   ],
   "source": [
    "s = Solution()\n",
    "l = [3,30,34,1,9]\n",
    "s.minNumber(l)"
   ]
  },
  {
   "cell_type": "code",
   "execution_count": 102,
   "metadata": {},
   "outputs": [],
   "source": [
    "# 冒泡排序从小到大\n",
    "\n",
    "from typing import List\n",
    "        \n",
    "class Solution:\n",
    "    def minNumber(self, nums: List[int]) -> str:\n",
    "        nums = [str(i) for i in nums]\n",
    "        for i in range(len(nums)):\n",
    "            for j in range(i+1, len(nums)):\n",
    "                if (nums[i]+nums[j])>(nums[j]+nums[i]):\n",
    "                    nums[i], nums[j]=nums[j], nums[i]\n",
    "        return ''.join(nums)"
   ]
  },
  {
   "cell_type": "code",
   "execution_count": 103,
   "metadata": {},
   "outputs": [
    {
     "data": {
      "text/plain": [
       "'1303349'"
      ]
     },
     "execution_count": 103,
     "metadata": {},
     "output_type": "execute_result"
    }
   ],
   "source": [
    "s = Solution()\n",
    "l = [3,30,34,1,9]\n",
    "s.minNumber(l)"
   ]
  },
  {
   "cell_type": "code",
   "execution_count": null,
   "metadata": {},
   "outputs": [],
   "source": []
  }
 ],
 "metadata": {
  "kernelspec": {
   "display_name": "Python 3",
   "language": "python",
   "name": "python3"
  },
  "language_info": {
   "codemirror_mode": {
    "name": "ipython",
    "version": 3
   },
   "file_extension": ".py",
   "mimetype": "text/x-python",
   "name": "python",
   "nbconvert_exporter": "python",
   "pygments_lexer": "ipython3",
   "version": "3.7.3"
  }
 },
 "nbformat": 4,
 "nbformat_minor": 2
}
