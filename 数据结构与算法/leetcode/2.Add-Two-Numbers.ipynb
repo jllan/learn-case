{
 "cells": [
  {
   "cell_type": "markdown",
   "source": [
    "# Add Two Numbers\n",
    "You are given two non-empty linked lists representing two non-negative integers. The digits are stored in reverse order and each of their nodes contain a single digit. Add the two numbers and return it as a linked list.\n",
    "You may assume the two numbers do not contain any leading zero, except the number 0 itself.\n",
    "\n",
    "Example:\n",
    ">Input: (2 -> 4 -> 3) + (5 -> 6 -> 4)  \n",
    "Output: 7 -> 0 -> 8  \n",
    "Explanation: 342 + 465 = 807."
   ],
   "metadata": {}
  },
  {
   "cell_type": "markdown",
   "source": [
    "## 方法一"
   ],
   "metadata": {}
  },
  {
   "cell_type": "code",
   "execution_count": 1,
   "source": [
    "# Definition for singly-linked list.\r\n",
    "class ListNode:\r\n",
    "    def __init__(self, x, next=None):\r\n",
    "        self.val = x\r\n",
    "        self.next = next\r\n",
    "\r\n",
    "class Solution:\r\n",
    "    def addTwoNumbers(self, l1: ListNode, l2: ListNode) -> ListNode:\r\n",
    "        result = ListNode(0)\r\n",
    "        head = result   # 用来记录result的头节点，最后需要返回head\r\n",
    "        result_pre = ListNode(0)  # 用来记录result的前一个节点，因为最后如果result.val是0，该节点是不需要的，所以上一个节点的next需要设为None\r\n",
    "        while l1 and l2:\r\n",
    "            one_sum = l1.val+l2.val+result.val\r\n",
    "            result.val = one_sum%10  # 当前节点的值取除10的余数\r\n",
    "            result.next = ListNode(one_sum//10)  # 直接用进位的值来创建下一个节点\r\n",
    "            print(f'one_sum: {one_sum}; current val: {result.val}; next val: {result.next.val}')\r\n",
    "            \r\n",
    "            result_pre = result  # 记录当前节点\r\n",
    "            result = result.next  # 往下走一步\r\n",
    "            l1 = l1.next\r\n",
    "            l2 = l2.next\r\n",
    "            \r\n",
    "        if l1:\r\n",
    "            while l1:\r\n",
    "                one_sum = l1.val+result.val\r\n",
    "                result.val = one_sum%10\r\n",
    "                result.next = ListNode(one_sum//10)\r\n",
    "                print(f'one_sum: {one_sum}; current val: {result.val}; next val: {result.next.val}')\r\n",
    "                result_pre = result\r\n",
    "                result = result.next\r\n",
    "                l1 = l1.next\r\n",
    "        if l2:\r\n",
    "            while l2:\r\n",
    "                one_sum = l2.val+result.val\r\n",
    "                result.val = one_sum%10\r\n",
    "                result.next = ListNode(one_sum//10)\r\n",
    "                print(f'one_sum: {one_sum}; current val: {result.val}; next val: {result.next.val}')\r\n",
    "                result_pre = result\r\n",
    "                result = result.next\r\n",
    "                l2 = l2.next\r\n",
    "        if not result.val:\r\n",
    "            result = result_pre\r\n",
    "            result.next = None\r\n",
    "        else:\r\n",
    "            result.next = None\r\n",
    "        return head"
   ],
   "outputs": [],
   "metadata": {}
  },
  {
   "cell_type": "code",
   "execution_count": 2,
   "source": [
    "l1 = ListNode(2, ListNode(8, ListNode(9)))"
   ],
   "outputs": [],
   "metadata": {}
  },
  {
   "cell_type": "code",
   "execution_count": 3,
   "source": [
    "l2 = ListNode(5, ListNode(6, ListNode(7, ListNode(9))))"
   ],
   "outputs": [],
   "metadata": {}
  },
  {
   "cell_type": "code",
   "execution_count": 4,
   "source": [
    "s = Solution()\r\n",
    "res = s.addTwoNumbers(l1, l2)"
   ],
   "outputs": [
    {
     "output_type": "stream",
     "name": "stdout",
     "text": [
      "one_sum: 7; current val: 7; next val: 0\n",
      "one_sum: 14; current val: 4; next val: 1\n",
      "one_sum: 17; current val: 7; next val: 1\n",
      "one_sum: 10; current val: 0; next val: 1\n"
     ]
    }
   ],
   "metadata": {}
  },
  {
   "cell_type": "code",
   "execution_count": 5,
   "source": [
    "while res:\r\n",
    "    print(res.val)\r\n",
    "    res = res.next"
   ],
   "outputs": [
    {
     "output_type": "stream",
     "name": "stdout",
     "text": [
      "7\n",
      "4\n",
      "7\n",
      "0\n",
      "1\n"
     ]
    }
   ],
   "metadata": {}
  },
  {
   "cell_type": "code",
   "execution_count": null,
   "source": [],
   "outputs": [],
   "metadata": {}
  }
 ],
 "metadata": {
  "kernelspec": {
   "name": "python3",
   "display_name": "Python 3.7.7 64-bit ('base': conda)"
  },
  "language_info": {
   "codemirror_mode": {
    "name": "ipython",
    "version": 3
   },
   "file_extension": ".py",
   "mimetype": "text/x-python",
   "name": "python",
   "nbconvert_exporter": "python",
   "pygments_lexer": "ipython3",
   "version": "3.7.7"
  },
  "interpreter": {
   "hash": "9f5ef424211e353b75c2fb348434d5b3933903a5e8b96bdb4ddf30efa41ef533"
  }
 },
 "nbformat": 4,
 "nbformat_minor": 2
}