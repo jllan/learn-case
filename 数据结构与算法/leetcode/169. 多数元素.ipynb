{
 "cells": [
  {
   "cell_type": "markdown",
   "metadata": {},
   "source": [
    "# 多数元素\n",
    "\n",
    "给定一个大小为 n 的数组，找到其中的多数元素。多数元素是指在数组中出现次数 大于 ⌊ n/2 ⌋ 的元素。\n",
    "你可以假设数组是非空的，并且给定的数组总是存在多数元素。\n",
    "\n",
    "示例 1：\n",
    ">输入：[3,2,3]  \n",
    "输出：3\n",
    " \n",
    "示例 2：\n",
    ">输入：[2,2,1,1,1,2,2]  \n",
    "输出：2\n",
    "\n",
    "来源：力扣（LeetCode）  \n",
    "链接：https://leetcode-cn.com/problems/majority-element  \n",
    "著作权归领扣网络所有。商业转载请联系官方授权，非商业转载请注明出处。"
   ]
  },
  {
   "cell_type": "code",
   "execution_count": 6,
   "metadata": {},
   "outputs": [],
   "source": [
    "# 摩尔投票法，参考：https://leetcode-cn.com/problems/majority-element/solution/3chong-fang-fa-by-gfu-2/\n",
    "\n",
    "from typing import List\n",
    "\n",
    "class Solution:\n",
    "    def majorityElement(self, nums: List[int]) -> int:\n",
    "        count = 1\n",
    "        major = nums[0]\n",
    "        for i in range(1, len(nums)):\n",
    "            if major == nums[i]:\n",
    "                count += 1\n",
    "            else:\n",
    "                count -= 1\n",
    "                if count == 0:\n",
    "                    major = nums[i+1]\n",
    "        return major"
   ]
  },
  {
   "cell_type": "code",
   "execution_count": 11,
   "metadata": {},
   "outputs": [],
   "source": [
    "class Solution:\n",
    "    def majorityElement(self, nums: List[int]) -> int:\n",
    "        count_dict = dict()\n",
    "        for n in nums:\n",
    "            if n not in count_dict:\n",
    "                count_dict[n] = 1\n",
    "            else:\n",
    "                count_dict[n] += 1\n",
    "        print(count_dict)\n",
    "        for n, count in count_dict.items():\n",
    "            if count > len(nums)//2:\n",
    "                return n"
   ]
  },
  {
   "cell_type": "code",
   "execution_count": 12,
   "metadata": {},
   "outputs": [
    {
     "name": "stdout",
     "output_type": "stream",
     "text": [
      "{6: 1, 5: 2}\n"
     ]
    },
    {
     "data": {
      "text/plain": [
       "5"
      ]
     },
     "execution_count": 12,
     "metadata": {},
     "output_type": "execute_result"
    }
   ],
   "source": [
    "nums = [6, 5, 5]\n",
    "\n",
    "s = Solution()\n",
    "s.majorityElement(nums)"
   ]
  },
  {
   "cell_type": "code",
   "execution_count": null,
   "metadata": {},
   "outputs": [],
   "source": []
  }
 ],
 "metadata": {
  "interpreter": {
   "hash": "7c5d7306b163118f89fe049a1651390081b6f92596746532cb2761966b8ffecc"
  },
  "kernelspec": {
   "display_name": "Python 3.7.7 64-bit ('base': conda)",
   "language": "python",
   "name": "python3"
  },
  "language_info": {
   "codemirror_mode": {
    "name": "ipython",
    "version": 3
   },
   "file_extension": ".py",
   "mimetype": "text/x-python",
   "name": "python",
   "nbconvert_exporter": "python",
   "pygments_lexer": "ipython3",
   "version": "3.7.7"
  },
  "orig_nbformat": 4
 },
 "nbformat": 4,
 "nbformat_minor": 2
}
