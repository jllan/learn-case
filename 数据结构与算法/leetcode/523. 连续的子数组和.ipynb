{
 "cells": [
  {
   "cell_type": "markdown",
   "metadata": {},
   "source": [
    "## 连续的子数组和\n",
    "\n",
    "给定一个包含非负数的数组和一个目标整数 k，编写一个函数来判断该数组是否含有连续的子数组，其大小至少为 2，总和为 k 的倍数，即总和为 n*k，其中 n 也是一个整数。\n",
    "\n",
    "示例 1:\n",
    ">输入: [23,2,4,6,7], k = 6  \n",
    "输出: True  \n",
    "解释: [2,4] 是一个大小为 2 的子数组，并且和为 6。\n",
    "\n",
    "示例 2:\n",
    ">输入: [23,2,6,4,7], k = 6  \n",
    "输出: True  \n",
    "解释: [23,2,6,4,7]是大小为 5 的子数组，并且和为 42。\n",
    "\n",
    "说明:\n",
    "数组的长度不会超过10,000。\n",
    "你可以认为所有数字总和在 32 位有符号整数范围内。\n",
    "\n",
    "链接：https://leetcode-cn.com/problems/continuous-subarray-sum"
   ]
  },
  {
   "cell_type": "markdown",
   "metadata": {},
   "source": [
    "### 方法一\n",
    "暴力解法1"
   ]
  },
  {
   "cell_type": "code",
   "execution_count": 45,
   "metadata": {},
   "outputs": [],
   "source": [
    "from typing import List\n",
    "\n",
    "class Solution:    \n",
    "    def check(self, nums: List[int], k: int):\n",
    "        for i in range(len(nums)-1):\n",
    "            if (k==0 and sum(nums[:i+2])==0) or (k!=0 and sum(nums[:i+2])%k == 0):\n",
    "                return True      \n",
    "        return False\n",
    "    \n",
    "    def checkSubarraySum(self, nums: List[int], k: int) -> bool:\n",
    "        start = 0\n",
    "        while start<len(nums):\n",
    "            if self.check(nums[start:], k):\n",
    "                return True\n",
    "            start += 1\n",
    "        return False"
   ]
  },
  {
   "cell_type": "code",
   "execution_count": 46,
   "metadata": {},
   "outputs": [
    {
     "data": {
      "text/plain": [
       "True"
      ]
     },
     "execution_count": 46,
     "metadata": {},
     "output_type": "execute_result"
    }
   ],
   "source": [
    "s = Solution()\n",
    "nums = [2,1,4,2,7]\n",
    "k = 6\n",
    "s.checkSubarraySum(nums, k)"
   ]
  },
  {
   "cell_type": "markdown",
   "metadata": {},
   "source": [
    "暴力解法2，两层for循环，计算nums中第i-j位的和"
   ]
  },
  {
   "cell_type": "code",
   "execution_count": 44,
   "metadata": {},
   "outputs": [],
   "source": [
    "from typing import List\n",
    "\n",
    "class Solution:    \n",
    "    def checkSubarraySum(self, nums: List[int], k: int) -> bool:\n",
    "        start = 0\n",
    "        for i in range(len(nums)-1):\n",
    "            sum = nums[i]\n",
    "            for j in range(1, len(nums)):\n",
    "                sum += nums[j]\n",
    "                if (k==0 and sum==0) or (k!=0 and sum%k==0):\n",
    "                    return True\n",
    "        return False"
   ]
  },
  {
   "cell_type": "code",
   "execution_count": 38,
   "metadata": {},
   "outputs": [
    {
     "data": {
      "text/plain": [
       "True"
      ]
     },
     "execution_count": 38,
     "metadata": {},
     "output_type": "execute_result"
    }
   ],
   "source": [
    "s = Solution()\n",
    "nums = [2,1,4,2,7]\n",
    "k = 6\n",
    "s.checkSubarraySum(nums, k)"
   ]
  },
  {
   "cell_type": "markdown",
   "metadata": {},
   "source": [
    "### 方法二\n",
    "动态规划，使用dp[i]存储截止到第i位的和，(dp[j]-dp[i]+nums[i])就是第i-j的和。  \n",
    "需要两层循环，复杂度也是O(n<sup>2</sup>)，还需要额外的存储空间"
   ]
  },
  {
   "cell_type": "code",
   "execution_count": 42,
   "metadata": {},
   "outputs": [],
   "source": [
    "from typing import List\n",
    "\n",
    "class Solution:    \n",
    "    def checkSubarraySum(self, nums: List[int], k: int) -> bool:\n",
    "        if len(nums)<2:\n",
    "            return False\n",
    "        dp = [nums[0]]+[0]*(len(nums)-1)\n",
    "        for i in range(1, len(nums)):\n",
    "            dp[i] = dp[i-1]+nums[i]\n",
    "        for i in range(len(nums)-1):\n",
    "            for j in range(i+1, len(nums)):\n",
    "                sum_ij = dp[j]-dp[i]+nums[i]\n",
    "                if (sum_ij==0 and k==0) or (k!=0 and sum_ij%k==0):\n",
    "                    return True\n",
    "        return False"
   ]
  },
  {
   "cell_type": "code",
   "execution_count": 43,
   "metadata": {},
   "outputs": [
    {
     "data": {
      "text/plain": [
       "True"
      ]
     },
     "execution_count": 43,
     "metadata": {},
     "output_type": "execute_result"
    }
   ],
   "source": [
    "s = Solution()\n",
    "nums = [2,1,4,2,7]\n",
    "k = 6\n",
    "s.checkSubarraySum(nums, k)"
   ]
  },
  {
   "cell_type": "code",
   "execution_count": null,
   "metadata": {},
   "outputs": [],
   "source": []
  }
 ],
 "metadata": {
  "kernelspec": {
   "display_name": "Python 3",
   "language": "python",
   "name": "python3"
  },
  "language_info": {
   "codemirror_mode": {
    "name": "ipython",
    "version": 3
   },
   "file_extension": ".py",
   "mimetype": "text/x-python",
   "name": "python",
   "nbconvert_exporter": "python",
   "pygments_lexer": "ipython3",
   "version": "3.7.3"
  }
 },
 "nbformat": 4,
 "nbformat_minor": 2
}
