{
 "cells": [
  {
   "cell_type": "markdown",
   "metadata": {},
   "source": [
    "## 39. candidates中所有和为target的组合\n",
    "candidates 中的同一个数字可以无限制重复被选取\n",
    "\n",
    "给你一个 无重复元素 的整数数组 candidates 和一个目标整数 target ，找出 candidates 中可以使数字和为目标数 target 的 所有 不同组合 ，并以列表形式返回。你可以按 任意顺序 返回这些组合。\n",
    "\n",
    "candidates 中的 **同一个 数字可以 无限制重复被选取** 。如果至少一个数字的被选数量不同，则两种组合是不同的。 \n",
    "对于给定的输入，保证和为 target 的不同组合数少于 150 个。\n",
    "\n",
    " \n",
    "示例 1：\n",
    ">输入：candidates = [2,3,6,7], target = 7  \n",
    "输出：[[2,2,3],[7]]\n",
    "\n",
    "解释：\n",
    "2 和 3 可以形成一组候选，2 + 2 + 3 = 7 。注意 2 可以使用多次。  \n",
    "7 也是一个候选， 7 = 7 。  \n",
    "仅有这两种组合。\n",
    "\n",
    "示例 2：\n",
    ">输入: candidates = [2,3,5], target = 8  \n",
    "输出: [[2,2,2,2],[2,3,3],[3,5]]\n",
    "\n",
    "示例 3：\n",
    ">输入: candidates = [2], target = 1  \n",
    "输出: []\n",
    "\n",
    "来源：力扣（LeetCode）\n",
    "链接：https://leetcode-cn.com/problems/combination-sum\n",
    "著作权归领扣网络所有。商业转载请联系官方授权，非商业转载请注明出处。"
   ]
  },
  {
   "cell_type": "code",
   "execution_count": 44,
   "metadata": {},
   "outputs": [
    {
     "data": {
      "text/plain": [
       "[[2, 2, 2, 2], [2, 3, 3], [3, 5]]"
      ]
     },
     "execution_count": 44,
     "metadata": {},
     "output_type": "execute_result"
    }
   ],
   "source": [
    "from typing import List\n",
    "\n",
    "class Solution:\n",
    "    def combinationSum(self, candidates: List[int], target: int) -> List[List[int]]:\n",
    "        results = []\n",
    "        def backtracking(nums, target, res):\n",
    "            \n",
    "            if not nums or target < 0:\n",
    "                return\n",
    "            if target == 0:\n",
    "                results.append(res[:])\n",
    "                return\n",
    "\n",
    "            for idx in range(len(nums)):\n",
    "                num = nums[idx]\n",
    "\n",
    "                residue = target - num\n",
    "                if residue < 0:\n",
    "                    break\n",
    "\n",
    "                res.append(num)\n",
    "                backtracking(nums[idx:], residue, res)\n",
    "                res.pop()\n",
    "\n",
    "        backtracking(candidates, target, [])\n",
    "        return results\n",
    "\n",
    "\n",
    "s = Solution()\n",
    "# candidates = [2, 3, 6, 7]\n",
    "# target = 7\n",
    "\n",
    "candidates = [2, 3, 5]\n",
    "target = 8  \n",
    "\n",
    "s.combinationSum(candidates, target)"
   ]
  },
  {
   "cell_type": "code",
   "execution_count": 43,
   "metadata": {},
   "outputs": [
    {
     "data": {
      "text/plain": [
       "[[2, 2, 2, 2], [2, 3, 3], [3, 5]]"
      ]
     },
     "execution_count": 43,
     "metadata": {},
     "output_type": "execute_result"
    }
   ],
   "source": [
    "# 链接：https://leetcode-cn.com/problems/combination-sum/solution/hui-su-suan-fa-jian-zhi-python-dai-ma-java-dai-m-2/\n",
    "\n",
    "from typing import List\n",
    "\n",
    "\n",
    "class Solution:\n",
    "    def combinationSum(self, candidates: List[int], target: int) -> List[List[int]]:\n",
    "\n",
    "        def backtracking(begin, target, res):\n",
    "            if target == 0:\n",
    "                results.append(res[:])\n",
    "                return\n",
    "\n",
    "            for idx in range(begin, len(candidates)):\n",
    "                num = candidates[idx]\n",
    "                residue = target - num\n",
    "                if residue < 0:\n",
    "                    break\n",
    "\n",
    "                res.append(num)\n",
    "                backtracking(idx, residue, res)\n",
    "                res.pop()\n",
    "\n",
    "        candidates.sort()\n",
    "        results = []\n",
    "        backtracking(0, target, [])\n",
    "        return results\n",
    "\n",
    "candidates = [2, 3, 5]\n",
    "target = 8  \n",
    "\n",
    "s = Solution()\n",
    "s.combinationSum(candidates, target)"
   ]
  },
  {
   "cell_type": "markdown",
   "metadata": {},
   "source": [
    "## 40. candidates中所有和为target的组合，candidates 中的每个数字在每个组合中只能使用一次"
   ]
  },
  {
   "cell_type": "code",
   "execution_count": 8,
   "metadata": {},
   "outputs": [
    {
     "data": {
      "text/plain": [
       "[(2, 6), (1, 1, 6), (1, 2, 5), (1, 7)]"
      ]
     },
     "execution_count": 8,
     "metadata": {},
     "output_type": "execute_result"
    }
   ],
   "source": [
    "# 解法与39相同，最后再去重，会超时\n",
    "\n",
    "from typing import List\n",
    "\n",
    "class Solution:\n",
    "    def combinationSum2(self, candidates: List[int], target: int) -> List[List[int]]:\n",
    "        def backtracking(nums, target, res):\n",
    "            if (not nums and target > 0) or target < 0:\n",
    "                return\n",
    "            if target == 0:\n",
    "                # results.append(res[:])\n",
    "                results.append(tuple(sorted(res[:])))\n",
    "                return\n",
    "\n",
    "            for idx in range(len(nums)):\n",
    "                n = nums[idx]\n",
    "                res.append(n)\n",
    "                backtracking(nums[idx+1:], target-n, res)\n",
    "                res.pop()\n",
    "\n",
    "        results = []\n",
    "        candidates.sort()\n",
    "        backtracking(candidates, target, [])\n",
    "\n",
    "        results = list(set(results))\n",
    "        return results\n",
    "\n",
    "\n",
    "s = Solution()\n",
    "# candidates = [2, 3, 6, 7]\n",
    "# target = 7\n",
    "\n",
    "candidates = [10,1,2,7,6,1,5]\n",
    "target = 8  \n",
    "\n",
    "s.combinationSum2(candidates, target)"
   ]
  },
  {
   "cell_type": "code",
   "execution_count": 56,
   "metadata": {},
   "outputs": [
    {
     "name": "stdout",
     "output_type": "stream",
     "text": [
      "[1, 1, 2, 5]\n"
     ]
    },
    {
     "data": {
      "text/plain": [
       "[[1, 2, 5]]"
      ]
     },
     "execution_count": 56,
     "metadata": {},
     "output_type": "execute_result"
    }
   ],
   "source": [
    "class Solution:\n",
    "    def combinationSum2(self, candidates: List[int], target: int) -> List[List[int]]:\n",
    "\n",
    "        def backtracking(begin, target, res):\n",
    "            if target == 0:\n",
    "                results.append(res[:])\n",
    "                return\n",
    "\n",
    "            for idx in range(begin, len(candidates)):\n",
    "                # print(begin, idx, res)\n",
    "                num = candidates[idx]\n",
    "                residue = target - num\n",
    "                if residue < 0:\n",
    "                    break\n",
    "\n",
    "                if idx>begin and candidates[idx]==candidates[idx-1]:\n",
    "                    continue\n",
    "\n",
    "                res.append(num)\n",
    "                backtracking(idx+1, residue, res)\n",
    "                res.pop()\n",
    "\n",
    "        candidates.sort()\n",
    "        print(candidates)\n",
    "        results = []\n",
    "        backtracking(0, target, [])\n",
    "        return results\n",
    "\n",
    "# candidates = [2, 3, 5]\n",
    "# target = 8\n",
    "\n",
    "candidates = [1,2,1,5]\n",
    "target = 8  \n",
    "\n",
    "s = Solution()\n",
    "s.combinationSum2(candidates, target)"
   ]
  },
  {
   "cell_type": "markdown",
   "metadata": {},
   "source": [
    "## 77. [1, n]中所有可能的k个数的组合\n",
    "\n",
    "给定两个整数 n 和 k，返回范围 [1, n] 中所有可能的 k 个数的组合。\n",
    "你可以按 任何顺序 返回答案。\n",
    "\n",
    "示例 1：\n",
    ">输入：n = 4, k = 2  \n",
    "输出：\n",
    "```\n",
    "[\n",
    "  [2,4],\n",
    "  [3,4],\n",
    "  [2,3],\n",
    "  [1,2],\n",
    "  [1,3],\n",
    "  [1,4],\n",
    "]\n",
    "```\n",
    "\n",
    "示例 2：\n",
    ">输入：n = 1, k = 1  \n",
    "输出：[[1]]"
   ]
  },
  {
   "cell_type": "code",
   "execution_count": 2,
   "metadata": {},
   "outputs": [
    {
     "data": {
      "text/plain": [
       "[[1, 2], [1, 3], [1, 4], [2, 3], [2, 4], [3, 4]]"
      ]
     },
     "execution_count": 2,
     "metadata": {},
     "output_type": "execute_result"
    }
   ],
   "source": [
    "from typing import List\n",
    "\n",
    "class Solution:\n",
    "    def combine(self, n: int, k: int) -> List[List[int]]:\n",
    "        results = []\n",
    "        def backtracking(begin, res):\n",
    "            if len(res) == k:\n",
    "                results.append(res[:])\n",
    "                return\n",
    "            for idx in range(begin, n+1):\n",
    "                backtracking(idx+1, res+[idx])\n",
    "\n",
    "        backtracking(1, [])\n",
    "        return results\n",
    "\n",
    "\n",
    "# class Solution:\n",
    "#     def combine(self, n: int, k: int) -> List[List[int]]:\n",
    "#         results = []\n",
    "#         def backtracking(nums, res):\n",
    "#             if len(res) == k:\n",
    "#                 results.append(res[:])\n",
    "#                 return\n",
    "#             for idx in range(len(nums)):\n",
    "#                 backtracking(nums[idx+1:], res+[nums[idx]])\n",
    "\n",
    "#         nums = range(1, n+1)\n",
    "#         backtracking(nums, [])\n",
    "#         return results\n",
    "\n",
    "s = Solution()\n",
    "s.combine(4, 2)"
   ]
  },
  {
   "cell_type": "markdown",
   "metadata": {},
   "source": [
    "## 78. 返回数组所有可能的子集\n",
    "\n",
    "给你一个整数数组 nums ，数组中的元素 互不相同 。返回该数组所有可能的子集（幂集）。\n",
    "解集 不能 包含重复的子集。你可以按 任意顺序 返回解集。\n",
    "\n",
    "示例 1：\n",
    ">输入：nums = [1,2,3]  \n",
    "输出：[[],[1],[2],[1,2],[3],[1,3],[2,3],[1,2,3]]\n",
    "\n",
    "示例 2：\n",
    ">输入：nums = [0]  \n",
    "输出：[[],[0]]"
   ]
  },
  {
   "cell_type": "code",
   "execution_count": 2,
   "metadata": {},
   "outputs": [
    {
     "data": {
      "text/plain": [
       "[[], [1], [1, 2], [1, 2, 3], [1, 3], [2], [2, 3], [3]]"
      ]
     },
     "execution_count": 2,
     "metadata": {},
     "output_type": "execute_result"
    }
   ],
   "source": [
    "from typing import List\n",
    "\n",
    "class Solution:\n",
    "    def subsets(self, nums: List[int]) -> List[List[int]]:\n",
    "        results = []\n",
    "        def backtracking(begin, res):\n",
    "            results.append(res[:])\n",
    "\n",
    "            for idx in range(begin, len(nums)):\n",
    "                n = nums[idx]\n",
    "                backtracking(idx+1, res+[n])\n",
    "\n",
    "        backtracking(0, [])\n",
    "        return results\n",
    "\n",
    "\n",
    "s = Solution()\n",
    "nums = [1,2,3]\n",
    "s.subsets(nums)"
   ]
  },
  {
   "cell_type": "code",
   "execution_count": null,
   "metadata": {},
   "outputs": [],
   "source": []
  }
 ],
 "metadata": {
  "interpreter": {
   "hash": "7c5d7306b163118f89fe049a1651390081b6f92596746532cb2761966b8ffecc"
  },
  "kernelspec": {
   "display_name": "Python 3.8.3 ('base')",
   "language": "python",
   "name": "python3"
  },
  "language_info": {
   "codemirror_mode": {
    "name": "ipython",
    "version": 3
   },
   "file_extension": ".py",
   "mimetype": "text/x-python",
   "name": "python",
   "nbconvert_exporter": "python",
   "pygments_lexer": "ipython3",
   "version": "3.8.3"
  },
  "orig_nbformat": 4
 },
 "nbformat": 4,
 "nbformat_minor": 2
}
