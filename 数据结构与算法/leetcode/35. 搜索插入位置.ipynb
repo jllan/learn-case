{
 "cells": [
  {
   "cell_type": "markdown",
   "source": [
    "## 35. 搜索插入位置\n",
    "给定一个排序数组和一个目标值，在数组中找到目标值，并返回其索引。如果目标值不存在于数组中，返回它将会被按顺序插入的位置。\n",
    "请必须使用时间复杂度为 O(log n) 的算法。\n",
    "\n",
    "示例 1:\n",
    ">输入: nums = [1,3,5,6], target = 5  \n",
    "输出: 2  \n",
    "\n",
    "示例 2:\n",
    ">输入: nums = [1,3,5,6], target = 2  \n",
    "输出: 1  \n",
    "\n",
    "示例 3:\n",
    ">输入: nums = [1,3,5,6], target = 7  \n",
    "输出: 4\n",
    "\n",
    "示例 4:\n",
    ">输入: nums = [1,3,5,6], target = 0  \n",
    "输出: 0\n",
    "\n",
    "示例 5:\n",
    ">输入: nums = [1], target = 0  \n",
    "输出: 0\n",
    "\n",
    "链接：https://leetcode-cn.com/problems/search-insert-position"
   ],
   "metadata": {}
  },
  {
   "cell_type": "markdown",
   "source": [],
   "metadata": {}
  },
  {
   "cell_type": "code",
   "execution_count": 5,
   "source": [
    "from typing import List\n",
    "\n",
    "class Solution:\n",
    "    def searchInsert(self, nums: List[int], target: int) -> int:\n",
    "        left, right = 0, len(nums)-1\n",
    "        while left <= right:\n",
    "            # mid = (left+right)//2\n",
    "            mid = left + (right - left)/2\n",
    "            print(left, mid, right)\n",
    "            if nums[mid] > target:\n",
    "                right = mid-1\n",
    "            elif nums[mid] < target:\n",
    "                left = mid+1\n",
    "            else:\n",
    "                return mid\n",
    "        return left\n",
    "            "
   ],
   "outputs": [],
   "metadata": {}
  },
  {
   "cell_type": "code",
   "execution_count": 9,
   "source": [
    "s = Solution()\n",
    "\n",
    "nums = [1,3,5,6]\n",
    "target = 4\n",
    "s.searchInsert(nums, target)"
   ],
   "outputs": [
    {
     "output_type": "stream",
     "name": "stdout",
     "text": [
      "0 1 3\n",
      "2 2 3\n"
     ]
    },
    {
     "output_type": "execute_result",
     "data": {
      "text/plain": [
       "2"
      ]
     },
     "metadata": {},
     "execution_count": 9
    }
   ],
   "metadata": {}
  },
  {
   "cell_type": "code",
   "execution_count": null,
   "source": [],
   "outputs": [],
   "metadata": {}
  }
 ],
 "metadata": {
  "orig_nbformat": 4,
  "language_info": {
   "name": "python",
   "version": "3.8.3",
   "mimetype": "text/x-python",
   "codemirror_mode": {
    "name": "ipython",
    "version": 3
   },
   "pygments_lexer": "ipython3",
   "nbconvert_exporter": "python",
   "file_extension": ".py"
  },
  "kernelspec": {
   "name": "python3",
   "display_name": "Python 3.8.3 64-bit ('base': conda)"
  },
  "interpreter": {
   "hash": "1b91b148f4b8007e59823b14d9317380dae844febf09e4e24329d7a832eb78b0"
  }
 },
 "nbformat": 4,
 "nbformat_minor": 2
}