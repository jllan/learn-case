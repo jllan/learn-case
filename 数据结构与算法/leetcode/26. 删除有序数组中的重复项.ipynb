{
 "cells": [
  {
   "cell_type": "markdown",
   "source": [
    "## 删除有序数组中的重复项\n",
    "\n",
    "给你一个有序数组 nums ，请你 原地 删除重复出现的元素，使每个元素 只出现一次 ，返回删除后数组的新长度。\n",
    "不要使用额外的数组空间，你必须在 原地 修改输入数组 并在使用 O(1) 额外空间的条件下完成。\n",
    "\n",
    "示例 1：\n",
    ">输入：nums = [1,1,2]  \n",
    "输出：2, nums = [1,2]  \n",
    "解释：函数应该返回新的长度 2 ，并且原数组 nums 的前两个元素被修改为 1, 2 。不需要考虑数组中超出新长度后面的元素。\n",
    "\n",
    "示例 2：\n",
    ">输入：nums = [0,0,1,1,1,2,2,3,3,4]  \n",
    "输出：5, nums = [0,1,2,3,4]  \n",
    "解释：函数应该返回新的长度 5 ， 并且原数组 nums 的前五个元素被修改为 0, 1, 2, 3, 4 。不需要考虑数组中超出新长度后面的元素。\n",
    "\n",
    "链接：https://leetcode-cn.com/problems/remove-duplicates-from-sorted-array"
   ],
   "metadata": {}
  },
  {
   "cell_type": "markdown",
   "source": [],
   "metadata": {}
  },
  {
   "cell_type": "code",
   "execution_count": 2,
   "source": [
    "from typing import List\n",
    "\n",
    "class Solution:\n",
    "    def removeDuplicates(self, nums: List[int]) -> int:\n",
    "        i = 1\n",
    "        while i < len(nums):\n",
    "            if nums[i] == nums[i-1]:\n",
    "                j = i\n",
    "                while j < len(nums)-1:\n",
    "                    nums[j] = nums[j+1]\n",
    "                    j += 1\n",
    "                nums.pop()\n",
    "            else:\n",
    "                i += 1\n",
    "\n",
    "        return nums"
   ],
   "outputs": [],
   "metadata": {}
  },
  {
   "cell_type": "code",
   "execution_count": 12,
   "source": [
    "class Solution:\n",
    "    def removeDuplicates(self, nums: List[int]) -> int:\n",
    "        n = len(nums)\n",
    "        slow, fast = 1, 1\n",
    "        while fast < n:\n",
    "            if nums[fast] == nums[fast-1]:\n",
    "                fast += 1\n",
    "            else:\n",
    "                nums[slow] = nums[fast]\n",
    "                slow += 1\n",
    "                fast += 1\n",
    "        return slow"
   ],
   "outputs": [],
   "metadata": {}
  },
  {
   "cell_type": "code",
   "execution_count": 18,
   "source": [
    "# 方法3，有序数组，重复项一定是相邻元素，删除重复项，即把不重复的排在一起。\n",
    "# 构造双指针p和q，if nums[p]==nums[q], q+=1; if nums[p]!=nums[q], nums[p+1]=nums[q], p+=1, q+=1\n",
    "# 参考：https://leetcode-cn.com/problems/remove-duplicates-from-sorted-array/solution/shuang-zhi-zhen-shan-chu-zhong-fu-xiang-dai-you-hu/\n",
    "\n",
    "class Solution:\n",
    "    def removeDuplicates(self, nums: List[int]) -> int:\n",
    "        p, q = 0, 1\n",
    "        while q<len(nums):\n",
    "            if nums[p]==nums[q]:\n",
    "                q+= 1\n",
    "            else:\n",
    "                nums[p+1] = nums[q]\n",
    "                p += 1\n",
    "                q += 1\n",
    "        return p+1"
   ],
   "outputs": [],
   "metadata": {}
  },
  {
   "cell_type": "code",
   "execution_count": 19,
   "source": [
    "s = Solution()\n",
    "\n",
    "nums = [0,0,0, 1,2,3,3,4,4]\n",
    "s.removeDuplicates(nums)"
   ],
   "outputs": [
    {
     "output_type": "execute_result",
     "data": {
      "text/plain": [
       "5"
      ]
     },
     "metadata": {},
     "execution_count": 19
    }
   ],
   "metadata": {}
  },
  {
   "cell_type": "code",
   "execution_count": null,
   "source": [],
   "outputs": [],
   "metadata": {}
  }
 ],
 "metadata": {
  "orig_nbformat": 4,
  "language_info": {
   "name": "python",
   "version": "3.8.3",
   "mimetype": "text/x-python",
   "codemirror_mode": {
    "name": "ipython",
    "version": 3
   },
   "pygments_lexer": "ipython3",
   "nbconvert_exporter": "python",
   "file_extension": ".py"
  },
  "kernelspec": {
   "name": "python3",
   "display_name": "Python 3.8.3 64-bit ('base': conda)"
  },
  "interpreter": {
   "hash": "1b91b148f4b8007e59823b14d9317380dae844febf09e4e24329d7a832eb78b0"
  }
 },
 "nbformat": 4,
 "nbformat_minor": 2
}