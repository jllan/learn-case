{
 "cells": [
  {
   "cell_type": "markdown",
   "metadata": {},
   "source": [
    "## 题目描述\n",
    "\n",
    "给定一个 m x n 二维字符网格 board 和一个字符串单词 word 。如果 word 存在于网格中，返回 true ；否则，返回 false 。\n",
    "\n",
    "单词必须按照字母顺序，通过相邻的单元格内的字母构成，其中“相邻”单元格是那些水平相邻或垂直相邻的单元格。同一个单元格内的字母不允许被重复使用。\n",
    "\n",
    "示例 1：\n",
    "![](https://assets.leetcode.com/uploads/2020/11/04/word2.jpg)\n",
    ">输入：board = [[\"A\",\"B\",\"C\",\"E\"],[\"S\",\"F\",\"C\",\"S\"],[\"A\",\"D\",\"E\",\"E\"]], word = \"ABCCED\"  \n",
    "输出：true\n",
    "\n",
    "示例2：\n",
    "![](https://assets.leetcode.com/uploads/2020/11/04/word-1.jpg)\n",
    ">输入：board = [[\"A\",\"B\",\"C\",\"E\"],[\"S\",\"F\",\"C\",\"S\"],[\"A\",\"D\",\"E\",\"E\"]], word = \"SEE\"  \n",
    "输出：true\n",
    "\n",
    "示例3：\n",
    "![](https://assets.leetcode.com/uploads/2020/10/15/word3.jpg)\n",
    ">输入：board = [[\"A\",\"B\",\"C\",\"E\"],[\"S\",\"F\",\"C\",\"S\"],[\"A\",\"D\",\"E\",\"E\"]], word = \"ABCB\"  \n",
    "输出：false\n",
    "\n",
    "\n",
    "链接：https://leetcode-cn.com/problems/word-search"
   ]
  },
  {
   "cell_type": "code",
   "execution_count": 13,
   "metadata": {},
   "outputs": [
    {
     "data": {
      "text/plain": [
       "True"
      ]
     },
     "execution_count": 13,
     "metadata": {},
     "output_type": "execute_result"
    }
   ],
   "source": [
    "from typing import List\n",
    "\n",
    "\n",
    "class Solution:\n",
    "    def exist(self, board: List[List[str]], word: str) -> bool:\n",
    "        #之前一维的情况是写完回溯函数之后调用一次，这种二维的就要对每个格子作为起始点调用一次回溯函数了\n",
    "        #整体思路就是使用idx定位word中待匹配的那个字母，x,y来定位地图中当前搜索到的字母\n",
    "        def isvalid(x, y): #定义函数判断坐标是否非法\n",
    "            return 0 <= x <= m-1 and 0 <= y <= n-1\n",
    "\n",
    "        def backstrack(x, y, idx): #定义回溯函数\n",
    "            if idx == len(word) -1: \n",
    "            #如果当前待匹配字母已经是word中的最后一位，\n",
    "            #就只需要判断一下当前搜索到的字母是否匹配                               \n",
    "                return board[x][y] == word[idx]\n",
    "            if board[x][y] == word[idx]:\n",
    "            #如果刚才没返回，证明还没到最后，此时如果搜索到的字母和当前待匹配字母相同，\n",
    "            # 就证明匹配上了，可以递归进入下一层了\n",
    "                used[x][y] = True #当前字母标记为已使用\n",
    "                for d in directions: #对于四个方向                                   \n",
    "                    new_x, new_y = x+d[0], y+d[1]                       \n",
    "                    if isvalid(new_x, new_y) and not used[new_x][new_y]: \n",
    "                        #如果下一个坐标合法且没被用                   \n",
    "                        if backstrack(new_x, new_y, idx+1): \n",
    "                            #递归进入下一层搜索，如果搜索到匹配成功的            \n",
    "                            return True #直接返回True                                               \n",
    "                used[x][y] = False \n",
    "                #如果执行到这证明四个坐标都没匹配成功，那当前的这个位置的肯定行不通了，就回溯回去，使用状态还原为未使用\n",
    "            return False \n",
    "            #这里返回的False包含两种情况：四种方向都搜索完证明当前坐标点往下走不可能匹配，或者是当前的坐标根本就不匹配word[idx]                                               \n",
    "\n",
    "        m = len(board)                                              \n",
    "        n = len(board[0])    #获取地图维度                                       \n",
    "        directions = [[-1, 0], [0, +1], [+1, 0], [0, -1]] #指定四个方向，按顺序分别是↑，→，↓，←，每次进行下一次递归的时候都按照这个顺序进行         \n",
    "        used = [[False for _ in range(n)] for _ in range(m)] #定义一个和地图形状相同的的数组用来表示坐标的使用状态       \n",
    "        for i in range(m):                                          \n",
    "            for j in range(n):                                      \n",
    "                if backstrack(i, j, 0): #对于每个坐标都当做起点尝试一次                            \n",
    "                #如果通过回溯搜索到了匹配的字符串\n",
    "                    return True   #但凡有匹配的直接返回                                  \n",
    "        return False                                                \n",
    "        # 如果遍历了所有位置都没回溯出来匹配的，就返回否\n",
    "\n",
    "\n",
    "s = Solution()\n",
    "\n",
    "# board = [[\"A\", \"B\", \"C\", \"E\"],[\"S\", \"F\", \"C\", \"S\"],[\"A\", \"D\", \"E\", \"E\"]]\n",
    "# word = \"ABCCED\"\n",
    "\n",
    "board = [[\"A\",\"B\",\"C\",\"E\"],[\"S\",\"F\",\"C\",\"S\"],[\"A\",\"D\",\"E\",\"E\"]]\n",
    "word = \"SEE\"\n",
    "\n",
    "# board = [[\"A\",\"B\",\"C\",\"E\"],[\"S\",\"F\",\"C\",\"S\"],[\"A\",\"D\",\"E\",\"E\"]]\n",
    "# word = \"ABCB\"\n",
    "\n",
    "# board = [[\"b\"],[\"a\"],[\"b\"]]\n",
    "# word = 'bbabab'\n",
    "s.exist(board, word)"
   ]
  },
  {
   "cell_type": "code",
   "execution_count": null,
   "metadata": {},
   "outputs": [],
   "source": []
  }
 ],
 "metadata": {
  "interpreter": {
   "hash": "7c5d7306b163118f89fe049a1651390081b6f92596746532cb2761966b8ffecc"
  },
  "kernelspec": {
   "display_name": "Python 3.8.3 ('base')",
   "language": "python",
   "name": "python3"
  },
  "language_info": {
   "codemirror_mode": {
    "name": "ipython",
    "version": 3
   },
   "file_extension": ".py",
   "mimetype": "text/x-python",
   "name": "python",
   "nbconvert_exporter": "python",
   "pygments_lexer": "ipython3",
   "version": "3.8.3"
  },
  "orig_nbformat": 4
 },
 "nbformat": 4,
 "nbformat_minor": 2
}
