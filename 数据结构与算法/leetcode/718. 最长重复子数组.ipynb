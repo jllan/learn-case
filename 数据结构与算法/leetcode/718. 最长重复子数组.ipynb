{
 "cells": [
  {
   "cell_type": "markdown",
   "metadata": {},
   "source": [
    "## 最长重复子数组\n",
    "给两个整数数组 A 和 B ，返回两个数组中公共的、长度最长的子数组的长度。\n",
    "\n",
    "示例 1:\n",
    ">输入:  \n",
    "A: [1,2,3,2,1]  \n",
    "B: [3,2,1,4,7]  \n",
    "输出: 3  \n",
    "解释: 长度最长的公共子数组是 [3, 2, 1]。  \n",
    "\n",
    "说明:  \n",
    "1 <= len(A), len(B) <= 1000  \n",
    "0 <= A[i], B[i] < 100"
   ]
  },
  {
   "cell_type": "code",
   "execution_count": 6,
   "metadata": {},
   "outputs": [],
   "source": [
    "from typing import List\n",
    "\n",
    "class Solution:\n",
    "    def findLength(self, A: List[int], B: List[int]) -> int:\n",
    "        m = len(A)\n",
    "        n = len(B)\n",
    "        if not (A and B):\n",
    "            return 0\n",
    "        dp = [[0 for _ in range(m)] for _ in range(n)]\n",
    "        print(dp)\n",
    "        max_len = 0\n",
    "        for i in range(m):\n",
    "            for j in range(n):\n",
    "                if A[i]==B[j]:\n",
    "                    if i==0 or j==0:\n",
    "                        dp[j][i]=1\n",
    "                    else:\n",
    "                        dp[j][i]=dp[j-1][i-1]+1\n",
    "                    max_len = max(max_len, dp[j][i])\n",
    "        return max_len"
   ]
  },
  {
   "cell_type": "code",
   "execution_count": 7,
   "metadata": {},
   "outputs": [
    {
     "name": "stdout",
     "output_type": "stream",
     "text": [
      "[[0, 0, 0, 0, 0, 0, 0], [0, 0, 0, 0, 0, 0, 0], [0, 0, 0, 0, 0, 0, 0], [0, 0, 0, 0, 0, 0, 0], [0, 0, 0, 0, 0, 0, 0]]\n"
     ]
    },
    {
     "data": {
      "text/plain": [
       "4"
      ]
     },
     "execution_count": 7,
     "metadata": {},
     "output_type": "execute_result"
    }
   ],
   "source": [
    "A = [1,2,3,2,1,4,5]\n",
    "B = [3,2,1,4,7]\n",
    "s = Solution()\n",
    "s.findLength(A, B)"
   ]
  },
  {
   "cell_type": "markdown",
   "metadata": {},
   "source": [
    "## 美团面试:最长公共子串\n",
    "给定两个字符串str1和str2,输出两个字符串的最长公共子串，如果最长公共子串为空，输出-1。\n",
    "输入描述:输入包括两行，第一行代表字符串srr1，第二行代表字符串str2。\n",
    "输出描述:输出包括一行，代表最长公共子串。\n",
    "\n",
    "示例1  \n",
    "输入\n",
    ">1AB2345CD  \n",
    "12345EF\n",
    "\n",
    "输出\n",
    ">2345"
   ]
  },
  {
   "cell_type": "code",
   "execution_count": 17,
   "metadata": {},
   "outputs": [],
   "source": [
    "def find_common_str(s1, s2):\n",
    "    if not (s1 or s2):\n",
    "        return -1\n",
    "    m = len(s1)\n",
    "    n = len(s2)\n",
    "    max_len = 0\n",
    "    max_common_str = ''\n",
    "    dp = [['' for _ in range(m)] for _ in range(n)]\n",
    "    for i in range(m):\n",
    "        for j in range(n):\n",
    "            if s1[i]==s2[j]:\n",
    "                if i==0 or j==0:\n",
    "                    dp[i][j]=s1[i]\n",
    "                else:\n",
    "                    dp[i][j]=dp[i-1][j-1]+s1[i]\n",
    "                if len(dp[i][j])>len(max_common_str):\n",
    "                    max_common_str = dp[i][j]\n",
    "                    max_len = len(dp[i][j])\n",
    "    if not max_len:\n",
    "        return -1\n",
    "    return max_common_str"
   ]
  },
  {
   "cell_type": "code",
   "execution_count": 18,
   "metadata": {},
   "outputs": [
    {
     "name": "stdout",
     "output_type": "stream",
     "text": [
      "2345\n"
     ]
    }
   ],
   "source": [
    "s1 = '1AB2345CD'\n",
    "s2 = '12345EF'\n",
    "res = find_common_str(s1, s2)\n",
    "print(res)"
   ]
  },
  {
   "cell_type": "code",
   "execution_count": null,
   "metadata": {},
   "outputs": [],
   "source": []
  }
 ],
 "metadata": {
  "kernelspec": {
   "display_name": "Python 3",
   "language": "python",
   "name": "python3"
  },
  "language_info": {
   "codemirror_mode": {
    "name": "ipython",
    "version": 3
   },
   "file_extension": ".py",
   "mimetype": "text/x-python",
   "name": "python",
   "nbconvert_exporter": "python",
   "pygments_lexer": "ipython3",
   "version": "3.7.3"
  }
 },
 "nbformat": 4,
 "nbformat_minor": 2
}
