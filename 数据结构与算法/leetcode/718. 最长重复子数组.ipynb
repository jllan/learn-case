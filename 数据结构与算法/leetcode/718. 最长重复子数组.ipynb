{
 "cells": [
  {
   "cell_type": "markdown",
   "metadata": {},
   "source": [
    "给两个整数数组 A 和 B ，返回两个数组中公共的、长度最长的子数组的长度。\n",
    "\n",
    "示例 1:\n",
    ">输入:  \n",
    "A: [1,2,3,2,1]  \n",
    "B: [3,2,1,4,7]  \n",
    "输出: 3  \n",
    "解释: 长度最长的公共子数组是 [3, 2, 1]。  \n",
    "\n",
    "说明:  \n",
    "1 <= len(A), len(B) <= 1000  \n",
    "0 <= A[i], B[i] < 100"
   ]
  },
  {
   "cell_type": "code",
   "execution_count": 6,
   "metadata": {},
   "outputs": [],
   "source": [
    "from typing import List\n",
    "\n",
    "class Solution:\n",
    "    def findLength(self, A: List[int], B: List[int]) -> int:\n",
    "        m = len(A)\n",
    "        n = len(B)\n",
    "        if not (A and B):\n",
    "            return 0\n",
    "        dp = [[0 for _ in range(m)] for _ in range(n)]\n",
    "        print(dp)\n",
    "        max_len = 0\n",
    "        for i in range(m):\n",
    "            for j in range(n):\n",
    "                if A[i]==B[j]:\n",
    "                    if i==0 or j==0:\n",
    "                        dp[j][i]=1\n",
    "                    else:\n",
    "                        dp[j][i]=dp[j-1][i-1]+1\n",
    "                    max_len = max(max_len, dp[j][i])\n",
    "        return max_len"
   ]
  },
  {
   "cell_type": "code",
   "execution_count": 7,
   "metadata": {},
   "outputs": [
    {
     "name": "stdout",
     "output_type": "stream",
     "text": [
      "[[0, 0, 0, 0, 0, 0, 0], [0, 0, 0, 0, 0, 0, 0], [0, 0, 0, 0, 0, 0, 0], [0, 0, 0, 0, 0, 0, 0], [0, 0, 0, 0, 0, 0, 0]]\n"
     ]
    },
    {
     "data": {
      "text/plain": [
       "4"
      ]
     },
     "execution_count": 7,
     "metadata": {},
     "output_type": "execute_result"
    }
   ],
   "source": [
    "A = [1,2,3,2,1,4,5]\n",
    "B = [3,2,1,4,7]\n",
    "s = Solution()\n",
    "s.findLength(A, B)"
   ]
  },
  {
   "cell_type": "code",
   "execution_count": null,
   "metadata": {},
   "outputs": [],
   "source": []
  }
 ],
 "metadata": {
  "kernelspec": {
   "display_name": "Python 3",
   "language": "python",
   "name": "python3"
  },
  "language_info": {
   "codemirror_mode": {
    "name": "ipython",
    "version": 3
   },
   "file_extension": ".py",
   "mimetype": "text/x-python",
   "name": "python",
   "nbconvert_exporter": "python",
   "pygments_lexer": "ipython3",
   "version": "3.7.3"
  }
 },
 "nbformat": 4,
 "nbformat_minor": 2
}
