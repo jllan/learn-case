{
 "cells": [
  {
   "cell_type": "markdown",
   "metadata": {},
   "source": [
    "## 46. 全排列一\n",
    "给定一个没有重复数字的序列，返回其所有可能的全排列。\n",
    "\n",
    "示例:\n",
    ">输入: [1,2,3]  \n",
    "输出:  \n",
    "[\n",
    "  [1,2,3],  \n",
    "  [1,3,2],  \n",
    "  [2,1,3],  \n",
    "  [2,3,1],  \n",
    "  [3,1,2],  \n",
    "  [3,2,1]  \n",
    "]"
   ]
  },
  {
   "cell_type": "code",
   "execution_count": 3,
   "metadata": {},
   "outputs": [],
   "source": [
    "from typing import List\n",
    "\n",
    "class Solution:\n",
    "    def permute(self, nums: List[int]) -> List[List[int]]:\n",
    "        res = []\n",
    "        def dfs(nums, start=0, path=[]):\n",
    "            if not nums:\n",
    "                res.append(path[:])\n",
    "                return \n",
    "            for i in range(len(nums)):\n",
    "                # path.append(nums[i])\n",
    "                # dfs(nums[:i]+nums[i+1:], i, path)\n",
    "                # path.pop()\n",
    "                dfs(nums[:i]+nums[i+1:], i, path+[nums[i]])\n",
    "        dfs(nums[:])\n",
    "        return res"
   ]
  },
  {
   "cell_type": "code",
   "execution_count": 4,
   "metadata": {},
   "outputs": [
    {
     "data": {
      "text/plain": [
       "[[1, 2, 1], [1, 1, 2], [2, 1, 1], [2, 1, 1], [1, 1, 2], [1, 2, 1]]"
      ]
     },
     "execution_count": 4,
     "metadata": {},
     "output_type": "execute_result"
    }
   ],
   "source": [
    "s = Solution()\n",
    "s.permute([1,2,1])"
   ]
  },
  {
   "cell_type": "markdown",
   "metadata": {},
   "source": [
    "## 47. 全排列二\n",
    "给定一个可包含重复数字的序列 nums ，按任意顺序 返回所有不重复的全排列。\n",
    "\n",
    " \n",
    "示例 1：\n",
    ">输入：nums = [1,1,2]  \n",
    "输出：  \n",
    "[[1,1,2],  \n",
    " [1,2,1],  \n",
    " [2,1,1]]\n",
    "\n",
    "示例 2：\n",
    ">输入：nums = [1,2,3]  \n",
    "输出：[[1,2,3],[1,3,2],[2,1,3],[2,3,1],[3,1,2],[3,2,1]]  \n",
    "\n",
    "来源：力扣（LeetCode）  \n",
    "链接：https://leetcode-cn.com/problems/permutations-ii  \n",
    "著作权归领扣网络所有。商业转载请联系官方授权，非商业转载请注明出处。"
   ]
  },
  {
   "cell_type": "code",
   "execution_count": 7,
   "metadata": {},
   "outputs": [],
   "source": [
    "from typing import List\n",
    "\n",
    "class Solution:\n",
    "    def permuteUnique(self, nums: List[int]) -> List[List[int]]:\n",
    "        results = []\n",
    "        def backtracking(nums, res):\n",
    "            if not nums:\n",
    "                results.append(tuple(res[:]))\n",
    "                return\n",
    "\n",
    "            for i in range(len(nums)):\n",
    "                res.append(nums[i])\n",
    "                backtracking(nums[:i]+nums[i+1:], res)\n",
    "                res.pop()\n",
    "\n",
    "        backtracking(nums, [])\n",
    "        results = list(set(results))\n",
    "        return results"
   ]
  },
  {
   "cell_type": "code",
   "execution_count": 9,
   "metadata": {},
   "outputs": [
    {
     "data": {
      "text/plain": [
       "[(1, 2, 1), (2, 1, 1), (1, 1, 2)]"
      ]
     },
     "execution_count": 9,
     "metadata": {},
     "output_type": "execute_result"
    }
   ],
   "source": [
    "s = Solution()\n",
    "nums = [1, 2, 1]\n",
    "s.permuteUnique(nums)"
   ]
  },
  {
   "cell_type": "markdown",
   "metadata": {},
   "source": [
    "## 60. 第k个排列\n",
    "\n",
    "给出集合 [1,2,3,...,n]，其所有元素共有 n! 种排列。\n",
    "按大小顺序列出所有排列情况，并一一标记，当 n = 3 时, 所有排列如下：\n",
    "```\n",
    "\"123\"\n",
    "\"132\"\n",
    "\"213\"\n",
    "\"231\"\n",
    "\"312\"\n",
    "\"321\"\n",
    "```\n",
    "给定 n 和 k，返回第 k 个排列。\n",
    "\n",
    "示例 1：\n",
    ">输入：n = 3, k = 3  \n",
    "输出：\"213\"\n",
    "\n",
    "示例 2：\n",
    ">输入：n = 4, k = 9  \n",
    "输出：\"2314\"\n",
    "\n",
    "示例 3：\n",
    ">输入：n = 3, k = 1  \n",
    "输出：\"123\""
   ]
  },
  {
   "cell_type": "code",
   "execution_count": 1,
   "metadata": {},
   "outputs": [
    {
     "name": "stdout",
     "output_type": "stream",
     "text": [
      "[1, 2, 3, 4, 5] 25\n",
      "24 1 1\n",
      "[2, 1, 3, 4, 5]\n",
      "['21345']\n"
     ]
    },
    {
     "data": {
      "text/plain": [
       "'21345'"
      ]
     },
     "execution_count": 1,
     "metadata": {},
     "output_type": "execute_result"
    }
   ],
   "source": [
    "class Solution:\n",
    "    def getPermutation(self, n: int, k: int) -> str:\n",
    "        results = []\n",
    "        def backtracking(nums, res):\n",
    "            if len(res) == n:\n",
    "                results.append(res[:])\n",
    "                return \n",
    "            for idx in range(len(nums)):\n",
    "                backtracking(nums[:idx]+nums[idx+1:], res+str(nums[idx]))\n",
    "                if len(results) == k:\n",
    "                    break\n",
    "\n",
    "        nums = list(range(1, n+1))\n",
    "        print(nums, k)\n",
    "        x = 1\n",
    "        for i in range(1, n):\n",
    "            x *= i\n",
    "        \n",
    "        m, k = k//x, k%x\n",
    "        if k == 0:\n",
    "            m -= 1\n",
    "            k = x\n",
    "        print(x, m, k)\n",
    "        nums = [nums[m]]+nums[:m]+nums[m+1:]\n",
    "        print(nums)\n",
    "        backtracking(nums, '')\n",
    "        print(results)\n",
    "        return results[-1]\n",
    "\n",
    "\n",
    "s = Solution()\n",
    "s.getPermutation(5, 25)"
   ]
  },
  {
   "cell_type": "code",
   "execution_count": null,
   "metadata": {},
   "outputs": [],
   "source": []
  }
 ],
 "metadata": {
  "interpreter": {
   "hash": "7c5d7306b163118f89fe049a1651390081b6f92596746532cb2761966b8ffecc"
  },
  "kernelspec": {
   "display_name": "Python 3.8.3 64-bit ('base': conda)",
   "name": "python3"
  },
  "language_info": {
   "codemirror_mode": {
    "name": "ipython",
    "version": 3
   },
   "file_extension": ".py",
   "mimetype": "text/x-python",
   "name": "python",
   "nbconvert_exporter": "python",
   "pygments_lexer": "ipython3",
   "version": "3.7.7"
  }
 },
 "nbformat": 4,
 "nbformat_minor": 2
}
