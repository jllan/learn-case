{
 "cells": [
  {
   "cell_type": "markdown",
   "metadata": {},
   "source": [
    "## 31. 下一个排列\n",
    "实现获取 下一个排列 的函数，算法需要将给定数字序列重新排列成字典序中下一个更大的排列（即，组合出下一个更大的整数）。\n",
    "如果不存在下一个更大的排列，则将数字重新排列成最小的排列（即升序排列）。\n",
    "必须 原地 修改，只允许使用额外常数空间。\n",
    "\n",
    " \n",
    "示例 1：\n",
    ">输入：nums = [1,2,3]  \n",
    "输出：[1,3,2]\n",
    "\n",
    "示例 2：\n",
    ">输入：nums = [3,2,1]  \n",
    "输出：[1,2,3]\n",
    "\n",
    "示例 3：\n",
    ">输入：nums = [1,1,5]  \n",
    "输出：[1,5,1]\n",
    "\n",
    "示例 4：\n",
    ">输入：nums = [1]  \n",
    "输出：[1]\n",
    " \n",
    "\n",
    "链接：https://leetcode-cn.com/problems/next-permutation"
   ]
  },
  {
   "cell_type": "code",
   "execution_count": 20,
   "metadata": {},
   "outputs": [],
   "source": [
    "# 如果把所有排列都找出来，所谓下一个更大的排列就是仅大于当前排列的那一个\n",
    "# 设nums = [4,5,7,6,3,2,1]，下一个排列是[4,6,1,2,3,5,7]\n",
    "# 参考：https://leetcode-cn.com/problems/next-permutation/solution/xia-yi-ge-pai-lie-by-leetcode-solution/\n",
    "\n",
    "\n",
    "from typing import List\n",
    "\n",
    "class Solution:\n",
    "    def nextPermutation(self, nums: List[int]) -> None:\n",
    "        \"\"\"\n",
    "        Do not return anything, modify nums in-place instead.\n",
    "        \"\"\"\n",
    "        # 设nums = [4,5,7,6,3,2,1]\n",
    "        # 第一步：从右向左找较小的数m=5\n",
    "        i = len(nums)-2\n",
    "        while i>=0:\n",
    "            if nums[i]>=nums[i+1]:\n",
    "                i -= 1\n",
    "            else:  # 找到较小的数\n",
    "                print(f'小数: {nums[i]}')\n",
    "                break\n",
    "        \n",
    "        # 第二步：m后的数是从大到小排列的，从中找到最小那个大于m的数n=6，找到后交换m和n\n",
    "        if i >= 0:\n",
    "            j = len(nums)-1\n",
    "            while j>i:\n",
    "                if nums[j]<=nums[i]:\n",
    "                    j -= 1\n",
    "                else:\n",
    "                    print(f'大数: {nums[j]}')\n",
    "                    break  # 找到较大的数\n",
    "            nums[i], nums[j] = nums[j], nums[i]\n",
    "\n",
    "        # 第三步：交换后，对后边部分逆序排列\n",
    "        # 如果第一步未找到较小的数，说明nums是从大到小排列，直接对nums进行逆序\n",
    "        i = i+1\n",
    "        j = len(nums)-1\n",
    "        while i<j:\n",
    "            nums[i], nums[j] = nums[j], nums[i]\n",
    "            i += 1\n",
    "            j -= 1\n",
    "        return nums"
   ]
  },
  {
   "cell_type": "code",
   "execution_count": 21,
   "metadata": {},
   "outputs": [
    {
     "name": "stdout",
     "output_type": "stream",
     "text": [
      "小数: 5\n",
      "大数: 6\n"
     ]
    },
    {
     "data": {
      "text/plain": [
       "[4, 6, 1, 2, 3, 5, 7]"
      ]
     },
     "execution_count": 21,
     "metadata": {},
     "output_type": "execute_result"
    }
   ],
   "source": [
    "\n",
    "nums = [4,5,7,6,3,2,1]\n",
    "\n",
    "s = Solution()\n",
    "s.nextPermutation(nums)"
   ]
  },
  {
   "cell_type": "code",
   "execution_count": null,
   "metadata": {},
   "outputs": [],
   "source": []
  }
 ],
 "metadata": {
  "interpreter": {
   "hash": "7c5d7306b163118f89fe049a1651390081b6f92596746532cb2761966b8ffecc"
  },
  "kernelspec": {
   "display_name": "Python 3.8.3 64-bit ('base': conda)",
   "name": "python3"
  },
  "language_info": {
   "codemirror_mode": {
    "name": "ipython",
    "version": 3
   },
   "file_extension": ".py",
   "mimetype": "text/x-python",
   "name": "python",
   "nbconvert_exporter": "python",
   "pygments_lexer": "ipython3",
   "version": "3.8.3"
  },
  "orig_nbformat": 4
 },
 "nbformat": 4,
 "nbformat_minor": 2
}
