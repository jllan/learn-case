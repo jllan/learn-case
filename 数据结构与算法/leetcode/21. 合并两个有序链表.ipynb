{
 "cells": [
  {
   "cell_type": "markdown",
   "source": [
    "将两个升序链表合并为一个新的 升序 链表并返回。新链表是通过拼接给定的两个链表的所有节点组成的。 \n",
    "\n",
    "示例 1：\n",
    "> 输入：l1 = [1,2,4], l2 = [1,3,4]  \n",
    "输出：[1,1,2,3,4,4]\n",
    "\n",
    "示例 2：\n",
    "> 输入：l1 = [], l2 = []  \n",
    "输出：[]\n",
    "\n",
    "示例 3：\n",
    "> 输入：l1 = [], l2 = [0]  \n",
    "输出：[0]\n",
    "\n",
    "提示：  \n",
    "- 两个链表的节点数目范围是 [0, 50]  \n",
    "- -100 <= Node.val <= 100  \n",
    "- l1 和 l2 均按 非递减顺序 排列  \n",
    "\n",
    "链接：https://leetcode-cn.com/problems/merge-two-sorted-lists"
   ],
   "metadata": {}
  },
  {
   "cell_type": "code",
   "execution_count": 2,
   "source": [
    "class ListNode:\n",
    "    def __init__(self, val=0, next=None):\n",
    "        self.val = val\n",
    "        self.next = next"
   ],
   "outputs": [],
   "metadata": {}
  },
  {
   "cell_type": "code",
   "execution_count": 4,
   "source": [
    "class Solution:\n",
    "    def mergeTwoLists(self, l1: ListNode, l2: ListNode) -> ListNode:\n",
    "        merged_link = ListNode()\n",
    "        head = merged_link\n",
    "        \n",
    "        while l1 and l2:\n",
    "            print(head.val)\n",
    "            if l1.val <= l2.val:\n",
    "                head.val = l1.val\n",
    "                l1 = l1.next\n",
    "            else:\n",
    "                head.val = l2.val\n",
    "                l2 = l2.next\n",
    "            head.next = ListNode()\n",
    "            head = head.next\n",
    "\n",
    "        if l1:\n",
    "            while l1:\n",
    "                head.val = l1.val\n",
    "                head.next = ListNode()\n",
    "                l1 = l1.next\n",
    "                head = head.next\n",
    "\n",
    "        if l2:\n",
    "            while l2:\n",
    "                head.val = l2.val\n",
    "                head.next = ListNode()\n",
    "                l2 = l2.next\n",
    "                head = head.next\n",
    "\n",
    "        return merged_link"
   ],
   "outputs": [],
   "metadata": {}
  },
  {
   "cell_type": "code",
   "execution_count": 5,
   "source": [
    "class Solution:\n",
    "    def mergeTwoLists(self, l1: ListNode, l2: ListNode) -> ListNode:\n",
    "        merged_link = ListNode()\n",
    "        head = merged_link\n",
    "        while l1 and l2:\n",
    "            if l1.val <= l2.val:\n",
    "                head.next = l1\n",
    "                l1 = l1.next\n",
    "            else:\n",
    "                head.next = l2\n",
    "                l2 = l2.next\n",
    "            head = head.next\n",
    "\n",
    "        if l1:\n",
    "            head.next = l1\n",
    "\n",
    "        if l2:\n",
    "            head.next = l2\n",
    "\n",
    "        return merged_link.next"
   ],
   "outputs": [],
   "metadata": {}
  },
  {
   "cell_type": "code",
   "execution_count": null,
   "source": [],
   "outputs": [],
   "metadata": {}
  }
 ],
 "metadata": {
  "interpreter": {
   "hash": "1b91b148f4b8007e59823b14d9317380dae844febf09e4e24329d7a832eb78b0"
  },
  "kernelspec": {
   "name": "python3",
   "display_name": "Python 3.8.3 64-bit ('base': conda)"
  },
  "language_info": {
   "name": "python",
   "version": "3.8.3",
   "mimetype": "text/x-python",
   "codemirror_mode": {
    "name": "ipython",
    "version": 3
   },
   "pygments_lexer": "ipython3",
   "nbconvert_exporter": "python",
   "file_extension": ".py"
  },
  "orig_nbformat": 4
 },
 "nbformat": 4,
 "nbformat_minor": 2
}