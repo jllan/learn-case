{
 "cells": [
  {
   "cell_type": "markdown",
   "metadata": {},
   "source": [
    "## 题目描述\n",
    "\n",
    "给定一个非负整数数组 nums ，你最初位于数组的 第一个下标 。  \n",
    "数组中的每个元素代表你在该位置可以跳跃的最大长度。  \n",
    "判断你是否能够到达最后一个下标。\n",
    "\n",
    "示例 1：\n",
    ">输入：nums = [2,3,1,1,4]  \n",
    "输出：true\n",
    "\n",
    "解释：可以先跳 1 步，从下标 0 到达下标 1, 然后再从下标 1 跳 3 步到达最后一个下标。\n",
    "\n",
    "示例 2：\n",
    ">输入：nums = [3,2,1,0,4]  \n",
    "输出：false\n",
    "\n",
    "解释：无论怎样，总会到达下标为 3 的位置。但该下标的最大跳跃长度是 0 ， 所以永远不可能到达最后一个下标。"
   ]
  },
  {
   "cell_type": "code",
   "execution_count": 8,
   "metadata": {},
   "outputs": [
    {
     "data": {
      "text/plain": [
       "False"
      ]
     },
     "execution_count": 8,
     "metadata": {},
     "output_type": "execute_result"
    }
   ],
   "source": [
    "from typing import List\n",
    "\n",
    "class Solution:\n",
    "    def canJump(self, nums: List[int]) -> bool:\n",
    "        dp = [False] * len(nums)\n",
    "        dp[0] = True\n",
    "        for i in range(1, len(nums)):\n",
    "            # for j in range(i):  # 超时\n",
    "            #     if dp[j] and i-j<=nums[j]:\n",
    "            #         dp[i] = True\n",
    "            #         break\n",
    "            for j in range(i-1, -1, -1):\n",
    "                if dp[j] and i-j<=nums[j]:\n",
    "                    dp[i] = True\n",
    "                    break\n",
    "\n",
    "        return dp[-1]\n",
    "\n",
    "\n",
    "s = Solution()\n",
    "nums = [3,2,1,0,4]\n",
    "s.canJump(nums)\n"
   ]
  },
  {
   "cell_type": "code",
   "execution_count": 15,
   "metadata": {},
   "outputs": [
    {
     "data": {
      "text/plain": [
       "True"
      ]
     },
     "execution_count": 15,
     "metadata": {},
     "output_type": "execute_result"
    }
   ],
   "source": [
    "from typing import List\n",
    "\n",
    "\n",
    "# 如果所有元素都不为0， 那么一定可以跳到最后；\n",
    "# 从后往前遍历，如果遇到nums[i] = 0，就找i前面的元素j，使得nums[j] > i - j。如果找不到，则不可能跳跃到num[i+1]，返回false。\n",
    "\n",
    "class Solution:\n",
    "    def canJump(self, nums: List[int]) -> bool:\n",
    "        if len(nums) == 1:\n",
    "            return True\n",
    "        idx = len(nums)-1-1\n",
    "        while idx>=0:\n",
    "            if nums[idx] == 0:\n",
    "                i = idx-1\n",
    "                while i>=0:\n",
    "                    if idx-i<nums[i]:\n",
    "                        idx = i+1\n",
    "                        break\n",
    "                    i -= 1\n",
    "                if i < 0:\n",
    "                    return False\n",
    "            idx -= 1\n",
    "        return True\n",
    "\n",
    "\n",
    "s = Solution()\n",
    "# nums = [3,2,1,0,4]\n",
    "# nums = [2,3,1,1,4]\n",
    "nums = [2,0,0]\n",
    "s.canJump(nums)"
   ]
  },
  {
   "cell_type": "code",
   "execution_count": null,
   "metadata": {},
   "outputs": [],
   "source": []
  }
 ],
 "metadata": {
  "interpreter": {
   "hash": "7c5d7306b163118f89fe049a1651390081b6f92596746532cb2761966b8ffecc"
  },
  "kernelspec": {
   "display_name": "Python 3.7.7 ('base')",
   "language": "python",
   "name": "python3"
  },
  "language_info": {
   "codemirror_mode": {
    "name": "ipython",
    "version": 3
   },
   "file_extension": ".py",
   "mimetype": "text/x-python",
   "name": "python",
   "nbconvert_exporter": "python",
   "pygments_lexer": "ipython3",
   "version": "3.7.7"
  },
  "orig_nbformat": 4
 },
 "nbformat": 4,
 "nbformat_minor": 2
}
