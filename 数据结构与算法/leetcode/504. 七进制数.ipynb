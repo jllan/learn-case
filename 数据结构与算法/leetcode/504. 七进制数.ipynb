{
 "cells": [
  {
   "cell_type": "markdown",
   "metadata": {},
   "source": [
    "## 题目描述\n",
    "\n",
    "给定一个整数 num，将其转化为 7 进制，并以字符串形式输出。\n",
    "\n",
    "示例 1:\n",
    ">输入: num = 100  \n",
    "输出: \"202\"\n",
    "\n",
    "示例 2:\n",
    ">输入: num = -7  \n",
    "输出: \"-10\""
   ]
  },
  {
   "cell_type": "code",
   "execution_count": 8,
   "metadata": {},
   "outputs": [
    {
     "data": {
      "text/plain": [
       "'20'"
      ]
     },
     "execution_count": 8,
     "metadata": {},
     "output_type": "execute_result"
    }
   ],
   "source": [
    "class Solution:\n",
    "    def convertToBase7(self, num: int) -> str:\n",
    "        if num == 0:\n",
    "            return 0\n",
    "        res = ''\n",
    "        is_negative = num<0\n",
    "        num = abs(num)\n",
    "        while num:\n",
    "            x = num%7\n",
    "            res += str(x)\n",
    "            num = num//7\n",
    "        res = res[::-1]\n",
    "        if is_negative:\n",
    "            res = '-'+res\n",
    "\n",
    "        return res\n",
    "\n",
    "\n",
    "s = Solution()\n",
    "s.convertToBase7(14)"
   ]
  },
  {
   "cell_type": "code",
   "execution_count": 11,
   "metadata": {},
   "outputs": [
    {
     "data": {
      "text/plain": [
       "'216'"
      ]
     },
     "execution_count": 11,
     "metadata": {},
     "output_type": "execute_result"
    }
   ],
   "source": [
    "class Solution:\n",
    "    def convertToBase7(self, num: int) -> str:\n",
    "        res = 0\n",
    "        x = abs(num)\n",
    "        multi = 1  # 当作十进制数进行处理\n",
    "        while x:\n",
    "            temp = x % 7\n",
    "            res += temp * multi\n",
    "            multi *= 10\n",
    "            x //= 7\n",
    "        if num < 0:\n",
    "            res = -res\n",
    "        return str(res)\n",
    "\n",
    "\n",
    "s = Solution()\n",
    "s.convertToBase7(111)"
   ]
  },
  {
   "cell_type": "code",
   "execution_count": null,
   "metadata": {},
   "outputs": [],
   "source": []
  }
 ],
 "metadata": {
  "interpreter": {
   "hash": "7c5d7306b163118f89fe049a1651390081b6f92596746532cb2761966b8ffecc"
  },
  "kernelspec": {
   "display_name": "Python 3.8.3 ('base')",
   "language": "python",
   "name": "python3"
  },
  "language_info": {
   "codemirror_mode": {
    "name": "ipython",
    "version": 3
   },
   "file_extension": ".py",
   "mimetype": "text/x-python",
   "name": "python",
   "nbconvert_exporter": "python",
   "pygments_lexer": "ipython3",
   "version": "3.8.3"
  },
  "orig_nbformat": 4
 },
 "nbformat": 4,
 "nbformat_minor": 2
}
