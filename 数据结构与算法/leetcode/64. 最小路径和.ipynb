{
 "cells": [
  {
   "cell_type": "markdown",
   "metadata": {},
   "source": [
    "## 最小路径和\n",
    "给定一个包含非负整数的 m x n 网格，请找出一条从左上角到右下角的路径，使得路径上的数字总和为最小。\n",
    "\n",
    "说明：每次只能向下或者向右移动一步。\n",
    "\n",
    "示例:\n",
    ">输入:  \n",
    "[  \n",
    "  [1,3,1],  \n",
    "  [1,5,1],  \n",
    "  [4,2,1]  \n",
    "]  \n",
    "输出: 7  \n",
    "解释: 因为路径 1→3→1→1→1 的总和最小。\n",
    "\n",
    "链接：https://leetcode-cn.com/problems/minimum-path-sum"
   ]
  },
  {
   "cell_type": "code",
   "execution_count": 5,
   "metadata": {},
   "outputs": [],
   "source": [
    "from typing import List\n",
    "\n",
    "class Solution:\n",
    "    def minPathSum(self, grid: List[List[int]]) -> int:\n",
    "        m = len(grid)\n",
    "        n = len(grid[0])\n",
    "        if m==1 and n==1:\n",
    "            return grid[0][0]\n",
    "        if not m or not n:\n",
    "            return 0\n",
    "        dp = [[0 for _ in range(m)] for _ in range(n)]\n",
    "        dp[0][0] = grid[0][0]\n",
    "        for i in range(n):\n",
    "            for j in range(m):\n",
    "                if i==0 and j>0:\n",
    "                    dp[i][j] = dp[i][j-1]+grid[j][i]\n",
    "                elif i>0 and j==0:\n",
    "                    dp[i][j] = dp[i-1][j]+grid[j][i]\n",
    "                else:\n",
    "                    dp[i][j] = min(dp[i-1][j], dp[i][j-1])+grid[j][i]\n",
    "        return dp[-1][-1]"
   ]
  },
  {
   "cell_type": "code",
   "execution_count": 6,
   "metadata": {},
   "outputs": [
    {
     "data": {
      "text/plain": [
       "7"
      ]
     },
     "execution_count": 6,
     "metadata": {},
     "output_type": "execute_result"
    }
   ],
   "source": [
    "s = Solution()\n",
    "grid = [\n",
    "  [1,3,1],\n",
    "  [1,5,1],\n",
    "  [4,2,1]\n",
    "]\n",
    "s.minPathSum(grid)"
   ]
  },
  {
   "cell_type": "code",
   "execution_count": null,
   "metadata": {},
   "outputs": [],
   "source": []
  }
 ],
 "metadata": {
  "kernelspec": {
   "display_name": "Python 3",
   "language": "python",
   "name": "python3"
  },
  "language_info": {
   "codemirror_mode": {
    "name": "ipython",
    "version": 3
   },
   "file_extension": ".py",
   "mimetype": "text/x-python",
   "name": "python",
   "nbconvert_exporter": "python",
   "pygments_lexer": "ipython3",
   "version": "3.7.3"
  }
 },
 "nbformat": 4,
 "nbformat_minor": 2
}
