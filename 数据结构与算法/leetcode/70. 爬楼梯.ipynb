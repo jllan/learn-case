{
 "cells": [
  {
   "cell_type": "markdown",
   "metadata": {},
   "source": [
    "## 爬楼梯\n"
   ]
  },
  {
   "cell_type": "code",
   "execution_count": 46,
   "metadata": {},
   "outputs": [],
   "source": [
    "## 一次能爬1个台阶或2个台阶\n",
    "class Solution1:\n",
    "    def climbStairs(self, n: int) -> int:\n",
    "        dp = [1]*(n+1)\n",
    "        for i in range(1, n+1):\n",
    "            if i==1 or i==2:\n",
    "                dp[i]=i\n",
    "            else:\n",
    "                dp[i]=dp[i-1]+dp[i-2]\n",
    "            print(dp)\n",
    "        return dp[-1]"
   ]
  },
  {
   "cell_type": "code",
   "execution_count": 85,
   "metadata": {
    "scrolled": true
   },
   "outputs": [
    {
     "name": "stdout",
     "output_type": "stream",
     "text": [
      "[1, 1, 1, 1]\n",
      "[1, 1, 2, 1]\n",
      "[1, 1, 2, 3]\n"
     ]
    },
    {
     "data": {
      "text/plain": [
       "3"
      ]
     },
     "execution_count": 85,
     "metadata": {},
     "output_type": "execute_result"
    }
   ],
   "source": [
    "s = Solution1()\n",
    "s.climbStairs(3)"
   ]
  },
  {
   "cell_type": "code",
   "execution_count": 98,
   "metadata": {},
   "outputs": [],
   "source": [
    "## 一次能爬1个台阶或2个台阶或3个台阶\n",
    "class Solution2:\n",
    "    def climbStairs(self, n: int) -> int:\n",
    "        dp = [1]+[0]*n\n",
    "        for i in range(1, n+1):\n",
    "            if i==1 or i==2:\n",
    "                dp[i]=i\n",
    "            elif i==3:\n",
    "                dp[i]=4\n",
    "            else:\n",
    "                dp[i]=dp[i-1]+dp[i-2]+dp[i-3]\n",
    "            print(dp)\n",
    "        return dp[-1]"
   ]
  },
  {
   "cell_type": "code",
   "execution_count": 99,
   "metadata": {},
   "outputs": [
    {
     "name": "stdout",
     "output_type": "stream",
     "text": [
      "[1, 1, 0, 0, 0, 0, 0, 0, 0]\n",
      "[1, 1, 2, 0, 0, 0, 0, 0, 0]\n",
      "[1, 1, 2, 4, 0, 0, 0, 0, 0]\n",
      "[1, 1, 2, 4, 7, 0, 0, 0, 0]\n",
      "[1, 1, 2, 4, 7, 13, 0, 0, 0]\n",
      "[1, 1, 2, 4, 7, 13, 24, 0, 0]\n",
      "[1, 1, 2, 4, 7, 13, 24, 44, 0]\n",
      "[1, 1, 2, 4, 7, 13, 24, 44, 81]\n"
     ]
    },
    {
     "data": {
      "text/plain": [
       "81"
      ]
     },
     "execution_count": 99,
     "metadata": {},
     "output_type": "execute_result"
    }
   ],
   "source": [
    "s = Solution2()\n",
    "s.climbStairs(8)"
   ]
  },
  {
   "cell_type": "code",
   "execution_count": 109,
   "metadata": {},
   "outputs": [],
   "source": [
    "## 一次能爬m个台阶，m为小于n的正整数\n",
    "\n",
    "def func1(n: int, m:int) -> int:\n",
    "    # 更通用的方法\n",
    "    dp = [1]+[0]*n \n",
    "    for i in range(1, n+1): \n",
    "        tmp = [dp[i-j] for j in range(1, m+1) if i>=j]\n",
    "        dp[i] = sum(tmp) \n",
    "    return dp[-1] \n",
    "    \n",
    "def func2(n: int, m:int) -> int:\n",
    "    dp = [1]+[0]*n \n",
    "    for i in range(1, n+1): \n",
    "        if i<m: \n",
    "            for j in range(1, i+1): \n",
    "                dp[i]+=dp[i-j] \n",
    "        if i>=m: \n",
    "            for j in range(1, m+1): \n",
    "                dp[i]+=dp[i-j] \n",
    "    return dp[-1]"
   ]
  },
  {
   "cell_type": "code",
   "execution_count": 108,
   "metadata": {},
   "outputs": [
    {
     "data": {
      "text/plain": [
       "13"
      ]
     },
     "execution_count": 108,
     "metadata": {},
     "output_type": "execute_result"
    }
   ],
   "source": [
    "func1(5, 3)"
   ]
  },
  {
   "cell_type": "code",
   "execution_count": null,
   "metadata": {},
   "outputs": [],
   "source": []
  }
 ],
 "metadata": {
  "kernelspec": {
   "display_name": "Python 3.7.3 64-bit ('base': conda)",
   "language": "python",
   "name": "python37364bitbasecondaabe6c6509053462d980e903b25d40641"
  },
  "language_info": {
   "codemirror_mode": {
    "name": "ipython",
    "version": 3
   },
   "file_extension": ".py",
   "mimetype": "text/x-python",
   "name": "python",
   "nbconvert_exporter": "python",
   "pygments_lexer": "ipython3",
   "version": "3.7.3"
  }
 },
 "nbformat": 4,
 "nbformat_minor": 2
}
