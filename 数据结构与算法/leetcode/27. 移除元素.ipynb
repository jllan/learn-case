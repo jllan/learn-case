{
 "cells": [
  {
   "cell_type": "markdown",
   "source": [
    "## 27. 移除元素\n",
    "\n",
    "给你一个数组 nums 和一个值 val，你需要 原地 移除所有数值等于 val 的元素，并返回移除后数组的新长度。\n",
    "不要使用额外的数组空间，你必须仅使用 O(1) 额外空间并 原地 修改输入数组。\n",
    "元素的顺序可以改变。你不需要考虑数组中超出新长度后面的元素。\n",
    "\n",
    "示例 1：\n",
    ">输入：nums = [3,2,2,3], val = 3  \n",
    "输出：2, nums = [2,2]  \n",
    "解释：函数应该返回新的长度 2, 并且 nums 中的前两个元素均为 2。你不需要考虑数组中超出新长度后面的元素。例如，函数返回的新长度为 2 ，而 nums = [2,2,3,3] 或 nums = [2,2,0,0]，也会被视作正确答案。\n",
    "\n",
    "示例 2：\n",
    ">输入：nums = [0,1,2,2,3,0,4,2], val = 2  \n",
    "输出：5, nums = [0,1,4,0,3]  \n",
    "解释：函数应该返回新的长度 5, 并且 nums 中的前五个元素为 0, 1, 3, 0, 4。注意这五个元素可为任意顺序。你不需要考虑数组中超出新长度后面的元素。\n",
    "\n",
    "链接：https://leetcode-cn.com/problems/remove-element"
   ],
   "metadata": {}
  },
  {
   "cell_type": "code",
   "execution_count": 2,
   "source": [
    "from typing import List\n",
    "\n",
    "# 从前往后，效率低\n",
    "class Solution:\n",
    "    def removeElement(self, nums: List[int], val: int) -> int:\n",
    "        i= 0\n",
    "        while i < len(nums):\n",
    "            print(nums)\n",
    "            if nums[i] == val:\n",
    "                j = i\n",
    "                while j < len(nums)-1:\n",
    "                    nums[j] = nums[j+1]\n",
    "                    j += 1\n",
    "                nums.pop()\n",
    "            else:\n",
    "                i += 1\n",
    "        return len(nums)"
   ],
   "outputs": [],
   "metadata": {}
  },
  {
   "cell_type": "code",
   "execution_count": 47,
   "source": [
    "# 从后往前，效率高\n",
    "class Solution:\n",
    "    def removeElement(self, nums: List[int], val: int) -> int:\n",
    "        i= len(nums)-1\n",
    "        while i >= 0:\n",
    "            print(nums)\n",
    "            if nums[i] == val:\n",
    "                j = i\n",
    "                while j < len(nums)-1:\n",
    "                    nums[j] = nums[j+1]\n",
    "                    j += 1\n",
    "                nums.pop()\n",
    "            i -= 1\n",
    "        return len(nums)"
   ],
   "outputs": [],
   "metadata": {}
  },
  {
   "cell_type": "code",
   "execution_count": 49,
   "source": [
    "# 使用pop(i)函数\n",
    "class Solution:\n",
    "    def removeElement(self, nums: List[int], val: int) -> int:\n",
    "        for i in range(len(nums)-1, -1, -1):\n",
    "            if nums[i] == val:\n",
    "                nums.pop(i)\n",
    "        return len(nums)"
   ],
   "outputs": [],
   "metadata": {}
  },
  {
   "cell_type": "code",
   "execution_count": 48,
   "source": [
    "s = Solution()\n",
    "\n",
    "nums = [3,2,2,3]\n",
    "val = 3\n",
    "s.removeElement(nums, val)\n"
   ],
   "outputs": [
    {
     "output_type": "stream",
     "name": "stdout",
     "text": [
      "[3, 2, 2, 3]\n",
      "[3, 2, 2]\n",
      "[3, 2, 2]\n",
      "[3, 2, 2]\n"
     ]
    },
    {
     "output_type": "execute_result",
     "data": {
      "text/plain": [
       "2"
      ]
     },
     "metadata": {},
     "execution_count": 48
    }
   ],
   "metadata": {}
  },
  {
   "cell_type": "code",
   "execution_count": 3,
   "source": [
    "# 双指针\n",
    "\n",
    "class Solution:\n",
    "    def removeElement(self, nums: List[int], val: int) -> int:\n",
    "        p, q = 0, 0\n",
    "        while q<len(nums):\n",
    "            print(p, q, nums)\n",
    "            if nums[q] != val:\n",
    "                nums[p] = nums[q]\n",
    "                p += 1\n",
    "            q += 1\n",
    "        return p\n"
   ],
   "outputs": [],
   "metadata": {}
  },
  {
   "cell_type": "code",
   "execution_count": 4,
   "source": [
    "s = Solution()\n",
    "\n",
    "nums = [0,1,2,2,3,0,4,2]\n",
    "val = 2\n",
    "s.removeElement(nums, val)"
   ],
   "outputs": [
    {
     "output_type": "stream",
     "name": "stdout",
     "text": [
      "0 0 [0, 1, 2, 2, 3, 0, 4, 2]\n",
      "1 1 [0, 1, 2, 2, 3, 0, 4, 2]\n",
      "2 2 [0, 1, 2, 2, 3, 0, 4, 2]\n",
      "2 3 [0, 1, 2, 2, 3, 0, 4, 2]\n",
      "2 4 [0, 1, 2, 2, 3, 0, 4, 2]\n",
      "3 5 [0, 1, 3, 2, 3, 0, 4, 2]\n",
      "4 6 [0, 1, 3, 0, 3, 0, 4, 2]\n",
      "5 7 [0, 1, 3, 0, 4, 0, 4, 2]\n"
     ]
    },
    {
     "output_type": "execute_result",
     "data": {
      "text/plain": [
       "5"
      ]
     },
     "metadata": {},
     "execution_count": 4
    }
   ],
   "metadata": {}
  },
  {
   "cell_type": "code",
   "execution_count": null,
   "source": [],
   "outputs": [],
   "metadata": {}
  }
 ],
 "metadata": {
  "orig_nbformat": 4,
  "language_info": {
   "name": "python",
   "version": "3.8.3",
   "mimetype": "text/x-python",
   "codemirror_mode": {
    "name": "ipython",
    "version": 3
   },
   "pygments_lexer": "ipython3",
   "nbconvert_exporter": "python",
   "file_extension": ".py"
  },
  "kernelspec": {
   "name": "python3",
   "display_name": "Python 3.8.3 64-bit ('base': conda)"
  },
  "interpreter": {
   "hash": "1b91b148f4b8007e59823b14d9317380dae844febf09e4e24329d7a832eb78b0"
  }
 },
 "nbformat": 4,
 "nbformat_minor": 2
}