{
 "cells": [
  {
   "cell_type": "markdown",
   "metadata": {},
   "source": [
    "## 题目描述\n",
    "\n",
    "给你一个下标从 0 开始的字符串 text 和另一个下标从 0 开始且长度为 2 的字符串 pattern ，两者都只包含小写英文字母。  \n",
    "\n",
    "你可以在 text 中任意位置插入 一个 字符，这个插入的字符必须是 pattern[0] 或者 pattern[1] 。注意，这个字符可以插入在 text 开头或者结尾的位置。  \n",
    "\n",
    "请你返回插入一个字符后，text 中最多包含多少个等于 pattern 的 子序列 。  \n",
    "\n",
    "子序列 指的是将一个字符串删除若干个字符后（也可以不删除），剩余字符保持原本顺序得到的字符串。\n",
    "\n",
    " \n",
    "\n",
    "示例 1：\n",
    ">输入：text = \"abdcdbc\", pattern = \"ac\"  \n",
    "输出：4\n",
    "\n",
    "解释：\n",
    "如果我们在 text[1] 和 text[2] 之间添加 pattern[0] = 'a' ，那么我们得到 \"abadcdbc\" 。那么 \"ac\" 作为子序列出现 4 次。\n",
    "其他得到 4 个 \"ac\" 子序列的方案还有 \"aabdcdbc\" 和 \"abdacdbc\" 。\n",
    "但是，\"abdcadbc\" ，\"abdccdbc\" 和 \"abdcdbcc\" 这些字符串虽然是可行的插入方案，但是只出现了 3 次 \"ac\" 子序列，所以不是最优解。\n",
    "可以证明插入一个字符后，无法得到超过 4 个 \"ac\" 子序列。\n",
    "\n",
    "示例 2：\n",
    ">输入：text = \"aabb\", pattern = \"ab\"  \n",
    "输出：6\n",
    "\n",
    "解释：\n",
    "可以得到 6 个 \"ab\" 子序列的部分方案为 \"aaabb\" ，\"aaabb\" 和 \"aabbb\" 。"
   ]
  },
  {
   "cell_type": "code",
   "execution_count": 11,
   "metadata": {},
   "outputs": [
    {
     "name": "stdout",
     "output_type": "stream",
     "text": [
      "t h\n"
     ]
    },
    {
     "data": {
      "text/plain": [
       "0"
      ]
     },
     "execution_count": 11,
     "metadata": {},
     "output_type": "execute_result"
    }
   ],
   "source": [
    "class Solution:\n",
    "    def maximumSubsequenceCount(self, text: str, pattern: str) -> int:\n",
    "        a, b = pattern\n",
    "        print(a, b)\n",
    "        counts = []\n",
    "        for i in range(len(text)):\n",
    "            if text[i] == a:\n",
    "                tmp = 0\n",
    "                for j in range(i+1, len(text)):\n",
    "                    if text[j] == b:\n",
    "                        tmp += 1\n",
    "                if not tmp:\n",
    "                    return 1\n",
    "                print(counts)\n",
    "                counts.append(tmp)\n",
    "        if not counts:\n",
    "            return 0\n",
    "        return sum(counts)+max(counts)\n",
    "\n",
    "\n",
    "s = Solution()\n",
    "text = 'gkdbwhiys'\n",
    "pattern = 'th'\n",
    "s.maximumSubsequenceCount(text, pattern)      \n",
    "\n",
    "\n"
   ]
  },
  {
   "cell_type": "code",
   "execution_count": 1,
   "metadata": {},
   "outputs": [
    {
     "data": {
      "text/plain": [
       "3"
      ]
     },
     "execution_count": 1,
     "metadata": {},
     "output_type": "execute_result"
    }
   ],
   "source": [
    "'aaab'.count('a')"
   ]
  },
  {
   "cell_type": "code",
   "execution_count": null,
   "metadata": {},
   "outputs": [],
   "source": []
  }
 ],
 "metadata": {
  "interpreter": {
   "hash": "7c5d7306b163118f89fe049a1651390081b6f92596746532cb2761966b8ffecc"
  },
  "kernelspec": {
   "display_name": "Python 3.8.3 ('base')",
   "language": "python",
   "name": "python3"
  },
  "language_info": {
   "codemirror_mode": {
    "name": "ipython",
    "version": 3
   },
   "file_extension": ".py",
   "mimetype": "text/x-python",
   "name": "python",
   "nbconvert_exporter": "python",
   "pygments_lexer": "ipython3",
   "version": "3.8.3"
  },
  "orig_nbformat": 4
 },
 "nbformat": 4,
 "nbformat_minor": 2
}
