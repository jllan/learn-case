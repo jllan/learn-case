{
 "cells": [
  {
   "cell_type": "markdown",
   "metadata": {},
   "source": [
    "## 零钱兑换\n",
    "给定不同面额的硬币 coins 和一个总金额 amount。编写一个函数来计算可以凑成总金额所需的最少的硬币个数。如果没有任何一种硬币组合能组成总金额，返回 -1。\n",
    "\n",
    "示例 1:\n",
    ">输入: coins = [1, 2, 5], amount = 11  \n",
    "输出: 3   \n",
    "解释: 11 = 5 + 5 + 1  \n",
    "\n",
    "示例 2:\n",
    ">输入: coins = [2], amount = 3  \n",
    "输出: -1  \n",
    "\n",
    "说明:你可以认为每种硬币的数量是无限的。\n",
    "\n",
    "链接：https://leetcode-cn.com/problems/coin-change"
   ]
  },
  {
   "cell_type": "code",
   "execution_count": 50,
   "metadata": {},
   "outputs": [],
   "source": [
    "# 典型的动态规划问题：f(w) = min(f(w-1), f(w-2), f(w-5))+1\n",
    "\n",
    "from typing import List\n",
    "\n",
    "class Solution:\n",
    "    def coinChange(self, coins: List[int], amount: int) -> int:\n",
    "        dp = [0]+[-1]*amount  # \n",
    "        print(f'dp: {dp}')\n",
    "        for i in range(1, amount+1):\n",
    "            res = [dp[i-j] for j in coins if i>=j]\n",
    "            res = [i for i in res if i>=0]  # res中值为-1都是无法组成的，如amount=1无法由任何coins组成\n",
    "            if res:\n",
    "                dp[i] = min(res)+1\n",
    "            print(i, res, dp[i])\n",
    "        return dp[-1]"
   ]
  },
  {
   "cell_type": "code",
   "execution_count": 51,
   "metadata": {},
   "outputs": [
    {
     "name": "stdout",
     "output_type": "stream",
     "text": [
      "dp: [0, -1, -1, -1]\n",
      "1 [] -1\n",
      "2 [0] 1\n",
      "3 [] -1\n"
     ]
    },
    {
     "data": {
      "text/plain": [
       "-1"
      ]
     },
     "execution_count": 51,
     "metadata": {},
     "output_type": "execute_result"
    }
   ],
   "source": [
    "s = Solution()\n",
    "s.coinChange(coins=[2], amount=3)"
   ]
  },
  {
   "cell_type": "code",
   "execution_count": 6,
   "metadata": {},
   "outputs": [],
   "source": [
    "import math\n",
    "from typing import List\n",
    "\n",
    "class Solution:\n",
    "    def coinChange(self, coins: List[int], amount: int) -> int:\n",
    "        dp = [0]+[float('inf')]*amount  # \n",
    "        print(f'dp: {dp}')\n",
    "        for i in range(1, amount+1):\n",
    "            for j in coins:    # 更容易理解的写法\n",
    "                if j<=i:\n",
    "                    dp[i] = min(dp[i], dp[i-j]+1)\n",
    "            res = [dp[i-j] for j in coins if i>=j]\n",
    "        if math.isinf(dp[-1]):\n",
    "            return -1\n",
    "        return dp[-1]"
   ]
  },
  {
   "cell_type": "code",
   "execution_count": 7,
   "metadata": {},
   "outputs": [
    {
     "name": "stdout",
     "output_type": "stream",
     "text": [
      "dp: [0, inf, inf, inf]\n"
     ]
    },
    {
     "data": {
      "text/plain": [
       "-1"
      ]
     },
     "execution_count": 7,
     "metadata": {},
     "output_type": "execute_result"
    }
   ],
   "source": [
    "s = Solution()\n",
    "s.coinChange(coins=[2], amount=3)"
   ]
  },
  {
   "cell_type": "code",
   "execution_count": null,
   "metadata": {},
   "outputs": [],
   "source": []
  }
 ],
 "metadata": {
  "kernelspec": {
   "display_name": "Python 3",
   "language": "python",
   "name": "python3"
  },
  "language_info": {
   "codemirror_mode": {
    "name": "ipython",
    "version": 3
   },
   "file_extension": ".py",
   "mimetype": "text/x-python",
   "name": "python",
   "nbconvert_exporter": "python",
   "pygments_lexer": "ipython3",
   "version": "3.7.3"
  }
 },
 "nbformat": 4,
 "nbformat_minor": 2
}
