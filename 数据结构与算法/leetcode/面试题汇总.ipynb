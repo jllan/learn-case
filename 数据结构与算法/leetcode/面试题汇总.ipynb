{
 "cells": [
  {
   "cell_type": "markdown",
   "metadata": {},
   "source": [
    "### 零氪一面\n",
    "\n",
    "反转字符串中的单词，空格保持不变。如对于' Welcome to   China!'，反转后为\" China! to   Welcome\"。\n",
    "\n",
    "备注：与leetcode151类似，不同在于151是如果有多余的空格只保留一个，并且首尾不能有空格。"
   ]
  },
  {
   "cell_type": "code",
   "execution_count": 2,
   "metadata": {},
   "outputs": [
    {
     "name": "stdout",
     "output_type": "stream",
     "text": [
      " Welcome to   China!\n",
      "[' ', 'TOK', ' ', 'TOK', ' ', ' ', ' ', 'TOK']\n",
      "['China!', 'to', 'Welcome']\n",
      "[1, 3, 7]\n",
      "0 1\n",
      "[' ', 'China!', ' ', 'TOK', ' ', ' ', ' ', 'TOK']\n",
      "1 3\n",
      "[' ', 'China!', ' ', 'to', ' ', ' ', ' ', 'TOK']\n",
      "2 7\n",
      "[' ', 'China!', ' ', 'to', ' ', ' ', ' ', 'Welcome']\n"
     ]
    },
    {
     "data": {
      "text/plain": [
       "' China! to   Welcome'"
      ]
     },
     "execution_count": 2,
     "metadata": {},
     "output_type": "execute_result"
    }
   ],
   "source": [
    "def reverseWords(s):\n",
    "    print(s)\n",
    "    l1 = []\n",
    "    l2 = []\n",
    "    special_tok = 'TOK'\n",
    "    special_tok_pos = []\n",
    "    cur_w = ''\n",
    "    for i in s:\n",
    "        if i == ' ':\n",
    "            l1.append(i)\n",
    "            # print(l1)\n",
    "            if cur_w:\n",
    "                l2.append(cur_w)\n",
    "                cur_w = ''\n",
    "        else:\n",
    "            if not cur_w:\n",
    "                l1.append(special_tok)\n",
    "                special_tok_pos.append(len(l1)-1)\n",
    "            cur_w += i\n",
    "    if cur_w:\n",
    "        l2.append(cur_w)\n",
    "        #special_tok_pos.append(len(l1))\n",
    "    l2 = l2[::-1]\n",
    "    print(l1)\n",
    "    print(l2)\n",
    "    print(special_tok_pos)\n",
    "    # l2 = l2[::-1]\n",
    "    for idx, special_tok_p in enumerate(special_tok_pos):\n",
    "        print(idx, special_tok_p)\n",
    "        l1[special_tok_p] = l2[idx]\n",
    "        print(l1)\n",
    "    result = ''\n",
    "    for i in l1:\n",
    "        result += i\n",
    "    return result\n",
    "\n",
    "s = ' Welcome to   China!'\n",
    "reverseWords(s)"
   ]
  },
  {
   "cell_type": "markdown",
   "metadata": {},
   "source": [
    "### 零氪二面\n",
    "给定一个二维数组，每一个子数组代表一个患者，数组内容为患者多次拍摄CT的时间，时间格式为\"YYYY-MM-DD\"。从每一个子数组中，选出3次CT，选择的第1和第2次CT时间间隔>30天，第1次和第3次CT>180天，请筛选出有多少符合条件的子数组。【PS】时间间隔计算不允许调用已有的库，需自己实现\n",
    "```\n",
    "[\n",
    "    ['2018-08-01', '2017-01-01',' 2019-09-09', '2020-10-10', '2021-11-11'],\n",
    "    ['2016-03-01', '2020-01-01',' 2018-01-09', '2020-10-10'],\n",
    "    ['2016-03-01', '2020-01-01',' 2011-01-09', '2022-02-10',' 2017-09-01', '2020-10-11', '2014-10-13']\n",
    "]\n",
    "```"
   ]
  },
  {
   "cell_type": "code",
   "execution_count": 3,
   "metadata": {},
   "outputs": [
    {
     "name": "stdout",
     "output_type": "stream",
     "text": [
      "[['2018-08-01', '2019-09-09', '2020-10-10'], ['2018-08-01', '2019-09-09', '2021-11-11'], ['2018-08-01', '2020-10-10', '2021-11-11'], ['2017-01-01', '2018-08-01', '2019-09-09'], ['2017-01-01', '2018-08-01', '2020-10-10'], ['2017-01-01', '2018-08-01', '2021-11-11'], ['2017-01-01', '2019-09-09', '2020-10-10'], ['2017-01-01', '2019-09-09', '2021-11-11'], ['2017-01-01', '2020-10-10', '2021-11-11'], ['2019-09-09', '2020-10-10', '2021-11-11']]\n",
      "10\n"
     ]
    }
   ],
   "source": [
    "import datetime\n",
    "\n",
    "\n",
    "def date_check(date_list):\n",
    "    if cal_date_interval(date_list[0], date_list[1])<30 and cal_date_interval(date_list[1], date_list[2])<180:\n",
    "        return True\n",
    "    else:\n",
    "        return False\n",
    "\n",
    "\n",
    "def cal_date_interval(date1, date2):\n",
    "    d1 = datetime.datetime.strptime(date1, '%Y-%m-%d')\n",
    "    d2 = datetime.datetime.strptime(date2, '%Y-%m-%d')\n",
    "    return (d1-d2).days\n",
    "\n",
    "\n",
    "def main(nums):\n",
    "    results = []\n",
    "    def dp(nums, result):\n",
    "        if len(result) == 3:\n",
    "            if date_check(result):\n",
    "                results.append(result[:])\n",
    "            return\n",
    "\n",
    "        for i in range(len(nums)):\n",
    "            result.append(nums[i])\n",
    "            dp(nums[:i]+nums[i+1:], result)\n",
    "            result.pop()\n",
    "\n",
    "    dp(nums, [])\n",
    "\n",
    "    return results\n",
    "\n",
    "nums = ['2018-08-01', '2017-01-01', '2019-09-09', '2020-10-10', '2021-11-11']\n",
    "# nums = ['1', '2', '3', '4', '5']\n",
    "res = main(nums)\n",
    "print(res)\n",
    "print(len(res))"
   ]
  },
  {
   "cell_type": "markdown",
   "metadata": {},
   "source": [
    "***"
   ]
  },
  {
   "cell_type": "markdown",
   "metadata": {},
   "source": [
    "### 好未来一面\n",
    "\n",
    "1. 搜索旋转排序数组，\n",
    "   如  \n",
    "   >输入：nums = [4,5,6,7,0,1,2], target = 0    \n",
    "   输出：4\n",
    "   \n",
    "   备注：leetcode33\n",
    "\n",
    "\n",
    "2. 生成所有排列，leetcode46"
   ]
  },
  {
   "cell_type": "markdown",
   "metadata": {},
   "source": []
  }
 ],
 "metadata": {
  "interpreter": {
   "hash": "7c5d7306b163118f89fe049a1651390081b6f92596746532cb2761966b8ffecc"
  },
  "kernelspec": {
   "display_name": "Python 3.8.3 ('base')",
   "language": "python",
   "name": "python3"
  },
  "language_info": {
   "codemirror_mode": {
    "name": "ipython",
    "version": 3
   },
   "file_extension": ".py",
   "mimetype": "text/x-python",
   "name": "python",
   "nbconvert_exporter": "python",
   "pygments_lexer": "ipython3",
   "version": "3.8.3"
  },
  "orig_nbformat": 4
 },
 "nbformat": 4,
 "nbformat_minor": 2
}
