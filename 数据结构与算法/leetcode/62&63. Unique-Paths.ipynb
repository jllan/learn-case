{
 "cells": [
  {
   "cell_type": "markdown",
   "metadata": {},
   "source": [
    "## Unique Paths"
   ]
  },
  {
   "cell_type": "markdown",
   "metadata": {},
   "source": [
    "### 一、题目描述\n",
    "一个机器人位于一个 m x n 网格的左上角 （起始点在下图中标记为“Start” ）。  \n",
    "机器人每次只能向下或者向右移动一步。机器人试图达到网格的右下角（在下图中标记为“Finish”）。  \n",
    "问总共有多少条不同的路径？\n",
    "\n",
    "说明：m 和 n 的值均不超过 100。\n",
    "\n",
    "示例 1:\n",
    ">输入: m = 3, n = 2  \n",
    "输出: 3  \n",
    "解释: 从左上角开始，总共有 3 条路径可以到达右下角。  \n",
    "1. 向右 -> 向右 -> 向下  \n",
    "2. 向右 -> 向下 -> 向右  \n",
    "3. 向下 -> 向右 -> 向右  \n",
    "\n",
    "示例 2:\n",
    ">输入: m = 7, n = 3  \n",
    "输出: 28  "
   ]
  },
  {
   "cell_type": "code",
   "execution_count": 31,
   "metadata": {},
   "outputs": [],
   "source": [
    "class Solution:\n",
    "    def uniquePaths(self, m: int, n: int) -> int:\n",
    "        res = [[0]*n]*m\n",
    "#         print(res)\n",
    "        for i in range(m):\n",
    "            for j in range(n):\n",
    "                if i == 0 or j == 0:  # 当前处于最左边一列或者最上边一列时，只有一种走法能走到该位置\n",
    "                    res[i][j] = 1\n",
    "                else:\n",
    "                    res[i][j] = res[i-1][j]+res[i][j-1]\n",
    "        return res[m-1][n-1]\n",
    "                    "
   ]
  },
  {
   "cell_type": "code",
   "execution_count": 32,
   "metadata": {},
   "outputs": [
    {
     "data": {
      "text/plain": [
       "28"
      ]
     },
     "execution_count": 32,
     "metadata": {},
     "output_type": "execute_result"
    }
   ],
   "source": [
    "s = Solution()\n",
    "s.uniquePaths(m=7, n=3)"
   ]
  },
  {
   "cell_type": "markdown",
   "metadata": {},
   "source": [
    "## 二、题目描述\n",
    "现在考虑网格中有障碍物。那么从左上角到右下角将会有多少条不同的路径？\n",
    "网格中的障碍物和空位置分别用 1 和 0 来表示。\n",
    "说明：m 和 n 的值均不超过 100。\n",
    "示例 1:\n",
    ">输入:  \n",
    "[\n",
    "  [0,0,0],  \n",
    "  [0,1,0],  \n",
    "  [0,0,0]  ]    \n",
    "输出: 2  \n",
    "解释:  \n",
    "3x3 网格的正中间有一个障碍物。  \n",
    "从左上角到右下角一共有 2 条不同的路径：  \n",
    "1. 向右 -> 向右 -> 向下 -> 向下  \n",
    "2. 向下 -> 向下 -> 向右 -> 向右"
   ]
  },
  {
   "cell_type": "code",
   "execution_count": 66,
   "metadata": {},
   "outputs": [],
   "source": [
    "class Solution:\n",
    "    def uniquePathsWithObstacles(self, obstacleGrid: list) -> int:\n",
    "        n = len(obstacleGrid[0])\n",
    "        m = len(obstacleGrid)\n",
    "        # print(n ,m)\n",
    "        res = [[0]*n]*m\n",
    "#         print(res)\n",
    "        for i in range(m):\n",
    "            for j in range(n):\n",
    "                if obstacleGrid[i][j]:\n",
    "                    res[i][j] = 0\n",
    "                elif i == 0 and j == 0:\n",
    "                    res[i][j] = 1\n",
    "                elif i == 0 and j > 0:\n",
    "                    res[i][j] = res[i][j-1]\n",
    "                elif i > 0 and j == 0:\n",
    "                    res[i][j] = res[i-1][j]\n",
    "                else:\n",
    "                    res[i][j] = res[i-1][j]+res[i][j-1]\n",
    "                print(i, j, res)\n",
    "        return res[m-1][n-1]"
   ]
  },
  {
   "cell_type": "code",
   "execution_count": 68,
   "metadata": {},
   "outputs": [
    {
     "name": "stdout",
     "output_type": "stream",
     "text": [
      "0 0 [[1, 0], [1, 0]]\n",
      "0 1 [[1, 0], [1, 0]]\n",
      "1 0 [[0, 0], [0, 0]]\n",
      "1 1 [[0, 0], [0, 0]]\n"
     ]
    },
    {
     "data": {
      "text/plain": [
       "0"
      ]
     },
     "execution_count": 68,
     "metadata": {},
     "output_type": "execute_result"
    }
   ],
   "source": [
    "s = Solution()\n",
    "ob = [[0,1],[1,0]]\n",
    "s.uniquePathsWithObstacles(ob)"
   ]
  },
  {
   "cell_type": "code",
   "execution_count": null,
   "metadata": {},
   "outputs": [],
   "source": []
  }
 ],
 "metadata": {
  "kernelspec": {
   "display_name": "Python 3",
   "language": "python",
   "name": "python3"
  },
  "language_info": {
   "codemirror_mode": {
    "name": "ipython",
    "version": 3
   },
   "file_extension": ".py",
   "mimetype": "text/x-python",
   "name": "python",
   "nbconvert_exporter": "python",
   "pygments_lexer": "ipython3",
   "version": "3.7.3"
  }
 },
 "nbformat": 4,
 "nbformat_minor": 2
}
