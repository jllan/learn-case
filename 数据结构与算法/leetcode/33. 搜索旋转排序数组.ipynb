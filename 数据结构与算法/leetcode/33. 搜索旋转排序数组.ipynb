{
 "cells": [
  {
   "cell_type": "markdown",
   "metadata": {},
   "source": [
    "## 题目描述\n",
    "\n",
    "整数数组 nums 按升序排列，数组中的值 互不相同 。  \n",
    "在传递给函数之前，nums 在预先未知的某个下标 k（0 <= k < nums.length）上进行了 旋转，使数组变为 [nums[k], nums[k+1], ..., nums[n-1], nums[0], nums[1], ..., nums[k-1]]（下标 从 0 开始 计数）。例如， [0,1,2,4,5,6,7] 在下标 3 处经旋转后可能变为 [4,5,6,7,0,1,2] 。\n",
    "\n",
    "给你 旋转后 的数组 nums 和一个整数 target ，如果 nums 中存在这个目标值 target ，则返回它的下标，否则返回 -1 。\n",
    "\n",
    "\n",
    "示例 1：\n",
    ">输入：nums = [4,5,6,7,0,1,2], target = 0  \n",
    "输出：4\n",
    "\n",
    "示例 2：\n",
    ">输入：nums = [4,5,6,7,0,1,2], target = 3  \n",
    "输出：-1\n",
    "\n",
    "示例 3：\n",
    ">输入：nums = [1], target = 0  \n",
    "输出：-1\n",
    "\n",
    "来源：力扣（LeetCode）  \n",
    "链接：https://leetcode-cn.com/problems/search-in-rotated-sorted-array\n",
    "著作权归领扣网络所有。商业转载请联系官方授权，非商业转载请注明出处。"
   ]
  },
  {
   "cell_type": "code",
   "execution_count": 34,
   "metadata": {},
   "outputs": [],
   "source": [
    "from typing import List\n",
    "\n",
    "class Solution:\n",
    "    def search(self, nums: List[int], target: int) -> int:\n",
    "        l = 0\n",
    "        r = len(nums)-1\n",
    "        while l <= r:\n",
    "            mid = (l+r)//2\n",
    "            print(l, mid, r)\n",
    "            if target == nums[mid]:\n",
    "                return mid\n",
    "            if nums[l] <= nums[mid]:  # 左半部分有序\n",
    "                if nums[l] <= target < nums[mid]:\n",
    "                    r = mid - 1\n",
    "                else:\n",
    "                    l = mid + 1\n",
    "            else:\n",
    "                if nums[mid] < target <= nums[r]:\n",
    "                    l = mid + 1\n",
    "                else:\n",
    "                    r = mid - 1\n",
    "        return -1 "
   ]
  },
  {
   "cell_type": "code",
   "execution_count": 35,
   "metadata": {},
   "outputs": [
    {
     "name": "stdout",
     "output_type": "stream",
     "text": [
      "0 3 6\n",
      "4 5 6\n",
      "4 4 4\n"
     ]
    },
    {
     "data": {
      "text/plain": [
       "4"
      ]
     },
     "execution_count": 35,
     "metadata": {},
     "output_type": "execute_result"
    }
   ],
   "source": [
    "s = Solution()\n",
    "nums = [4,5,6,7,0,1,2]\n",
    "s.search(nums, 0)"
   ]
  },
  {
   "cell_type": "code",
   "execution_count": null,
   "metadata": {},
   "outputs": [],
   "source": []
  }
 ],
 "metadata": {
  "interpreter": {
   "hash": "7c5d7306b163118f89fe049a1651390081b6f92596746532cb2761966b8ffecc"
  },
  "kernelspec": {
   "display_name": "Python 3.7.7 ('base')",
   "language": "python",
   "name": "python3"
  },
  "language_info": {
   "codemirror_mode": {
    "name": "ipython",
    "version": 3
   },
   "file_extension": ".py",
   "mimetype": "text/x-python",
   "name": "python",
   "nbconvert_exporter": "python",
   "pygments_lexer": "ipython3",
   "version": "3.7.7"
  },
  "orig_nbformat": 4
 },
 "nbformat": 4,
 "nbformat_minor": 2
}
