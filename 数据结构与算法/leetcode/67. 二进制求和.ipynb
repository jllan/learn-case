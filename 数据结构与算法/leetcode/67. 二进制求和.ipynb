{
 "cells": [
  {
   "cell_type": "markdown",
   "metadata": {},
   "source": [
    "## 题目描述\n",
    "\n",
    "给你两个二进制字符串，返回它们的和（用二进制表示）。\n",
    "输入为 非空 字符串且只包含数字 1 和 0。\n",
    "\n",
    "示例 1:\n",
    ">输入: a = \"11\", b = \"1\"  \n",
    "输出: \"100\"\n",
    "\n",
    "示例 2:\n",
    ">输入: a = \"1010\", b = \"1011\"  \n",
    "输出: \"10101\""
   ]
  },
  {
   "cell_type": "code",
   "execution_count": 13,
   "metadata": {},
   "outputs": [
    {
     "name": "stdout",
     "output_type": "stream",
     "text": [
      "['0', '0', '1']\n",
      "['1', '0', '0']\n"
     ]
    },
    {
     "data": {
      "text/plain": [
       "'100'"
      ]
     },
     "execution_count": 13,
     "metadata": {},
     "output_type": "execute_result"
    }
   ],
   "source": [
    "class Solution:\n",
    "    def addBinary(self, a: str, b: str) -> str:\n",
    "        i = 0\n",
    "        next_value = 0\n",
    "        result = []\n",
    "        a = a[::-1]\n",
    "        b = b[::-1]\n",
    "        while i<len(a) and i<len(b):\n",
    "            tmp = int(a[i]) + int(b[i]) + next_value\n",
    "            current_value = tmp%2\n",
    "            next_value = tmp//2\n",
    "            result.append(str(current_value))\n",
    "            i += 1\n",
    "        \n",
    "        if i < len(b):\n",
    "            while i<len(b):\n",
    "                tmp = int(b[i]) + next_value\n",
    "                current_value = tmp%2\n",
    "                next_value = tmp//2\n",
    "                result.append(str(current_value))\n",
    "                i += 1\n",
    "\n",
    "        if i < len(a):\n",
    "            while i<len(a):\n",
    "                tmp = int(a[i]) + next_value\n",
    "                current_value = tmp%2\n",
    "                next_value = tmp//2\n",
    "                result.append(str(current_value))\n",
    "                i += 1\n",
    "\n",
    "        if next_value:\n",
    "            result.append(str(next_value))\n",
    "        print(result)\n",
    "        print(result[::-1])\n",
    "        return ''.join(result[::-1])\n",
    "\n",
    "\n",
    "s = Solution()\n",
    "\n",
    "a = \"11\"\n",
    "b = \"1\"\n",
    "s.addBinary(a, b)\n"
   ]
  },
  {
   "cell_type": "code",
   "execution_count": 14,
   "metadata": {},
   "outputs": [
    {
     "name": "stdout",
     "output_type": "stream",
     "text": [
      "['0', '0', '1']\n",
      "['1', '0', '0']\n"
     ]
    },
    {
     "data": {
      "text/plain": [
       "'100'"
      ]
     },
     "execution_count": 14,
     "metadata": {},
     "output_type": "execute_result"
    }
   ],
   "source": [
    "class Solution:\n",
    "    def addBinary(self, a: str, b: str) -> str:\n",
    "        i = 0\n",
    "        next_value = 0\n",
    "        result = []\n",
    "        a = a[::-1]\n",
    "        b = b[::-1]\n",
    "        while i < max(len(a), len(b)):\n",
    "            if i < len(a):\n",
    "                cur_a = int(a[i])\n",
    "            else:\n",
    "                cur_a = 0\n",
    "            if i < len(b):\n",
    "                cur_b = int(b[i])\n",
    "            else:\n",
    "                cur_b = 0\n",
    "            tmp = cur_a + cur_b + next_value\n",
    "            current_value = tmp%2\n",
    "            next_value = tmp//2\n",
    "            result.append(str(current_value))\n",
    "            i += 1\n",
    "\n",
    "        if next_value:\n",
    "            result.append(str(next_value))\n",
    "        print(result)\n",
    "        print(result[::-1])\n",
    "        return ''.join(result[::-1])\n",
    "\n",
    "s = Solution()\n",
    "\n",
    "a = \"11\"\n",
    "b = \"1\"\n",
    "s.addBinary(a, b)"
   ]
  },
  {
   "cell_type": "code",
   "execution_count": null,
   "metadata": {},
   "outputs": [],
   "source": []
  }
 ],
 "metadata": {
  "interpreter": {
   "hash": "7c5d7306b163118f89fe049a1651390081b6f92596746532cb2761966b8ffecc"
  },
  "kernelspec": {
   "display_name": "Python 3.8.3 ('base')",
   "language": "python",
   "name": "python3"
  },
  "language_info": {
   "codemirror_mode": {
    "name": "ipython",
    "version": 3
   },
   "file_extension": ".py",
   "mimetype": "text/x-python",
   "name": "python",
   "nbconvert_exporter": "python",
   "pygments_lexer": "ipython3",
   "version": "3.8.3"
  },
  "orig_nbformat": 4
 },
 "nbformat": 4,
 "nbformat_minor": 2
}
