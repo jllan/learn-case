{
 "cells": [
  {
   "cell_type": "markdown",
   "metadata": {},
   "source": [
    "## 题目描述\n",
    "\n",
    "给定两个整数，被除数 dividend 和除数 divisor。将两数相除，要求不使用乘法、除法和 mod 运算符。  \n",
    "返回被除数 dividend 除以除数 divisor 得到的商。  \n",
    "整数除法的结果应当截去（truncate）其小数部分，例如：truncate(8.345) = 8 以及 truncate(-2.7335) = -2\n",
    "\n",
    "示例 1:\n",
    ">输入: dividend = 10, divisor = 3  \n",
    "输出: 3\n",
    "\n",
    "解释: 10/3 = truncate(3.33333..) = truncate(3) = 3\n",
    "\n",
    "示例 2:\n",
    ">输入: dividend = 7, divisor = -3  \n",
    "输出: -2\n",
    "\n",
    "解释: 7/-3 = truncate(-2.33333..) = -2\n"
   ]
  },
  {
   "cell_type": "code",
   "execution_count": 4,
   "metadata": {},
   "outputs": [
    {
     "data": {
      "text/plain": [
       "-2"
      ]
     },
     "execution_count": 4,
     "metadata": {},
     "output_type": "execute_result"
    }
   ],
   "source": [
    "class Solution:\n",
    "    def divide(self, dividend: int, divisor: int) -> int:\n",
    "        result = 0\n",
    "        MIN, MAX = -2**31, 2**31-1\n",
    "        if dividend>0 and divisor>0 or dividend<0 and divisor<0:\n",
    "            is_negative = False\n",
    "        else:\n",
    "            is_negative = True\n",
    "        dividend = abs(dividend)\n",
    "        divisor = abs(divisor)\n",
    "        if divisor == 1:\n",
    "            result = dividend\n",
    "        else:\n",
    "            while dividend>=divisor:\n",
    "                dividend -= divisor\n",
    "                result += 1\n",
    "\n",
    "        if is_negative:\n",
    "            result = -result\n",
    "\n",
    "        if result >= MAX:\n",
    "            result = MAX\n",
    "        if result <= MIN:\n",
    "            result = MIN\n",
    "\n",
    "        return result\n",
    "\n",
    "\n",
    "s = Solution()\n",
    "\n",
    "dividend = 7\n",
    "divisor = -3\n",
    "s.divide(dividend, divisor)\n"
   ]
  },
  {
   "cell_type": "code",
   "execution_count": 9,
   "metadata": {},
   "outputs": [
    {
     "name": "stdout",
     "output_type": "stream",
     "text": [
      "10 3\n",
      "4 3\n",
      "1 3\n"
     ]
    },
    {
     "data": {
      "text/plain": [
       "3"
      ]
     },
     "execution_count": 9,
     "metadata": {},
     "output_type": "execute_result"
    }
   ],
   "source": [
    "\"\"\"\n",
    "参考：https://leetcode-cn.com/problems/divide-two-integers/solution/po-su-de-xiang-fa-mei-you-wei-yun-suan-mei-you-yi-/\n",
    "\n",
    "举个例子：11 除以 3 。\n",
    "首先11比3大，结果至少是1， 然后我让3翻倍，就是6，发现11比3翻倍后还要大，那么结果就至少是2了，\n",
    "那我让这个6再翻倍，得12，11不比12大，吓死我了，差点让就让刚才的最小解2也翻倍得到4了。\n",
    "但是我知道最终结果肯定在2和4之间。也就是说2再加上某个数，这个数是多少呢？\n",
    "我让11减去刚才最后一次的结果6，剩下5，我们计算5是3的几倍，也就是除法，看，递归出现了。\n",
    "\"\"\"\n",
    "\n",
    "class Solution:\n",
    "    def divide(self, dividend: int, divisor: int) -> int:\n",
    "        if dividend>0 and divisor>0 or dividend<0 and divisor<0:\n",
    "            is_negative = False\n",
    "        else:\n",
    "            is_negative = True\n",
    "        dividend = abs(dividend)\n",
    "        divisor = abs(divisor)\n",
    "\n",
    "        def div(x, y):\n",
    "            print(x, y)\n",
    "            if x < y:\n",
    "                return 0\n",
    "            result = 1\n",
    "            while y+y < x:\n",
    "                result = result+result\n",
    "                y = y+y\n",
    "\n",
    "            return result + div(x-y, divisor)\n",
    "\n",
    "        result = div(dividend, divisor)\n",
    "        if is_negative:\n",
    "            result = -result\n",
    "\n",
    "        MIN, MAX = -2**31, 2**31-1\n",
    "        if result >= MAX:\n",
    "            result = MAX\n",
    "        if result <= MIN:\n",
    "            result = MIN\n",
    "\n",
    "        return result\n",
    "\n",
    "\n",
    "s = Solution()\n",
    "\n",
    "dividend = 10\n",
    "divisor = 3\n",
    "s.divide(dividend, divisor)"
   ]
  },
  {
   "cell_type": "code",
   "execution_count": null,
   "metadata": {},
   "outputs": [],
   "source": []
  }
 ],
 "metadata": {
  "interpreter": {
   "hash": "7c5d7306b163118f89fe049a1651390081b6f92596746532cb2761966b8ffecc"
  },
  "kernelspec": {
   "display_name": "Python 3.8.3 ('base')",
   "language": "python",
   "name": "python3"
  },
  "language_info": {
   "codemirror_mode": {
    "name": "ipython",
    "version": 3
   },
   "file_extension": ".py",
   "mimetype": "text/x-python",
   "name": "python",
   "nbconvert_exporter": "python",
   "pygments_lexer": "ipython3",
   "version": "3.8.3"
  },
  "orig_nbformat": 4
 },
 "nbformat": 4,
 "nbformat_minor": 2
}
