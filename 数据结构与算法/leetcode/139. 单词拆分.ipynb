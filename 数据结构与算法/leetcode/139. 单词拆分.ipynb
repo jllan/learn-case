{
 "cells": [
  {
   "cell_type": "markdown",
   "metadata": {},
   "source": [
    "## 单词拆分\n",
    "给定一个非空字符串 s 和一个包含非空单词列表的字典 wordDict，判定 s 是否可以被空格拆分为一个或多个在字典中出现的单词。\n",
    "\n",
    "说明：\n",
    "拆分时可以重复使用字典中的单词。  \n",
    "你可以假设字典中没有重复的单词。  \n",
    "\n",
    "示例 1：\n",
    ">输入: s = \"leetcode\", wordDict = [\"leet\", \"code\"]  \n",
    "输出: true  \n",
    "解释: 返回 true 因为 \"leetcode\" 可以被拆分成 \"leet code\"。  \n",
    "    \n",
    "示例 2：\n",
    ">输入: s = \"applepenapple\", wordDict = [\"apple\", \"pen\"]  \n",
    "输出: true  \n",
    "解释: 返回 true 因为 \"applepenapple\" 可以被拆分成 \"apple pen apple\"。  \n",
    "     注意你可以重复使用字典中的单词。\n",
    "\n",
    "示例 3：\n",
    ">输入: s = \"catsandog\", wordDict = [\"cats\", \"dog\", \"sand\", \"and\", \"cat\"]  \n",
    "输出: false"
   ]
  },
  {
   "cell_type": "code",
   "execution_count": 45,
   "metadata": {},
   "outputs": [],
   "source": [
    "# 该方法有错误\n",
    "from typing import List\n",
    "\n",
    "class Solution:\n",
    "    def wordBreak(self, s: str, wordDict: List[str]) -> bool:\n",
    "        while s:\n",
    "            remove_w = ''\n",
    "            print(f's: {s}')\n",
    "            for w in wordDict:\n",
    "                \n",
    "                print(f'w: {w}; remove_w: {remove_w}')\n",
    "                if not s.startswith(w):\n",
    "                    continue\n",
    "                else:\n",
    "                    print('rem', len(w), len(remove_w))\n",
    "                    # if len(w)>len(remove_w):\n",
    "                    remove_w = w\n",
    "            if not remove_w:\n",
    "                break\n",
    "            else:\n",
    "                s = s.replace(remove_w, '')\n",
    "            \n",
    "        if s:\n",
    "            return False\n",
    "        else:\n",
    "            return True    "
   ]
  },
  {
   "cell_type": "code",
   "execution_count": 44,
   "metadata": {},
   "outputs": [
    {
     "name": "stdout",
     "output_type": "stream",
     "text": [
      "s: leetcode\n",
      "w: leet; remove_w: \n",
      "rem 4 0\n",
      "w: code; remove_w: leet\n",
      "s: code\n",
      "w: leet; remove_w: \n",
      "w: code; remove_w: \n",
      "rem 4 0\n",
      "s: abcd\n",
      "w: a; remove_w: \n",
      "rem 1 0\n",
      "w: abc; remove_w: a\n",
      "rem 3 1\n",
      "w: b; remove_w: abc\n",
      "w: cd; remove_w: abc\n",
      "s: d\n",
      "w: a; remove_w: \n",
      "w: abc; remove_w: \n",
      "w: b; remove_w: \n",
      "w: cd; remove_w: \n"
     ]
    },
    {
     "data": {
      "text/plain": [
       "False"
      ]
     },
     "execution_count": 44,
     "metadata": {},
     "output_type": "execute_result"
    }
   ],
   "source": [
    "s = Solution()\n",
    "s.wordBreak(s=\"leetcode\", wordDict=[\"leet\", \"code\"])\n",
    "s.wordBreak(s=\"abcd\", wordDict=[\"a\",\"abc\",\"b\",\"cd\"])"
   ]
  },
  {
   "cell_type": "code",
   "execution_count": 41,
   "metadata": {},
   "outputs": [],
   "source": [
    "# 解法一：回溯法\n",
    "# 会超时\n",
    "from typing import List\n",
    "\n",
    "class Solution:\n",
    "    def wordBreak(self, s: str, wordDict: List[str]) -> bool:\n",
    "        res = []\n",
    "        def backtrack(s, rws=[]):\n",
    "            if not s:\n",
    "                res.append(rws)\n",
    "                return \n",
    "                    \n",
    "            for w in wordDict:\n",
    "                print(f's: {s}, w: {w}')\n",
    "                if not s.startswith(w):\n",
    "                    continue\n",
    "                else:\n",
    "                    remove_w = w\n",
    "                    print(f'remove_w: {remove_w}')\n",
    "#                     s = s.replace(remove_w, '')\n",
    "                    backtrack(s[len(remove_w):], rws+[remove_w])\n",
    "        backtrack(s)\n",
    "        if not res: \n",
    "            return False\n",
    "        else:\n",
    "            return True"
   ]
  },
  {
   "cell_type": "code",
   "execution_count": 40,
   "metadata": {},
   "outputs": [
    {
     "name": "stdout",
     "output_type": "stream",
     "text": [
      "s: leetcode, w: leet\n",
      "remove_w: leet\n",
      "s: code, w: leet\n",
      "s: code, w: code\n",
      "remove_w: code\n",
      "s: leetcode, w: code\n",
      "s: abcd, w: a\n",
      "remove_w: a\n",
      "s: bcd, w: a\n",
      "s: bcd, w: abc\n",
      "s: bcd, w: b\n",
      "remove_w: b\n",
      "s: cd, w: a\n",
      "s: cd, w: abc\n",
      "s: cd, w: b\n",
      "s: cd, w: cd\n",
      "remove_w: cd\n",
      "s: bcd, w: cd\n",
      "s: abcd, w: abc\n",
      "remove_w: abc\n",
      "s: d, w: a\n",
      "s: d, w: abc\n",
      "s: d, w: b\n",
      "s: d, w: cd\n",
      "s: abcd, w: b\n",
      "s: abcd, w: cd\n"
     ]
    },
    {
     "data": {
      "text/plain": [
       "True"
      ]
     },
     "execution_count": 40,
     "metadata": {},
     "output_type": "execute_result"
    }
   ],
   "source": [
    "s = Solution()\n",
    "s.wordBreak(s=\"leetcode\", wordDict=[\"leet\", \"code\"])\n",
    "s.wordBreak(s=\"abcd\", wordDict=[\"a\",\"abc\",\"b\",\"cd\"])"
   ]
  },
  {
   "cell_type": "code",
   "execution_count": 81,
   "metadata": {},
   "outputs": [],
   "source": [
    "# 解法一：动态规划\n",
    "from typing import List\n",
    "\n",
    "class Solution:\n",
    "    def wordBreak(self, s: str, wordDict: List[str]) -> bool:\n",
    "        dp = [True]+[False] * (len(s))\n",
    "        for i in range(1, len(s)+1):\n",
    "            for w in wordDict:\n",
    "                print(f'w: {w}; i: {i}, {s[i-len(w):i]}')\n",
    "                if i>=len(w) and s[i-len(w):i]==w:\n",
    "                    dp[i] = dp[i] or dp[i-len(w)]\n",
    "            print(f'dp: {dp}\\n')\n",
    "        return dp[-1]"
   ]
  },
  {
   "cell_type": "code",
   "execution_count": 82,
   "metadata": {},
   "outputs": [
    {
     "name": "stdout",
     "output_type": "stream",
     "text": [
      "w: dog; i: 1, \n",
      "w: s; i: 1, d\n",
      "w: gs; i: 1, \n",
      "dp: [True, False, False, False, False]\n",
      "\n",
      "w: dog; i: 2, \n",
      "w: s; i: 2, o\n",
      "w: gs; i: 2, do\n",
      "dp: [True, False, False, False, False]\n",
      "\n",
      "w: dog; i: 3, dog\n",
      "w: s; i: 3, g\n",
      "w: gs; i: 3, og\n",
      "dp: [True, False, False, True, False]\n",
      "\n",
      "w: dog; i: 4, ogs\n",
      "w: s; i: 4, s\n",
      "w: gs; i: 4, gs\n",
      "dp: [True, False, False, True, True]\n",
      "\n"
     ]
    },
    {
     "data": {
      "text/plain": [
       "True"
      ]
     },
     "execution_count": 82,
     "metadata": {},
     "output_type": "execute_result"
    }
   ],
   "source": [
    "s = Solution()\n",
    "# s.wordBreak(s=\"leetcode\", wordDict=[\"leet\", \"code\"])\n",
    "# s.wordBreak(s=\"abcd\", wordDict=[\"a\",\"abc\",\"b\",\"cd\"])\n",
    "\n",
    "s.wordBreak(s=\"dogs\", wordDict=[\"dog\",\"s\",\"gs\"])"
   ]
  },
  {
   "cell_type": "code",
   "execution_count": null,
   "metadata": {},
   "outputs": [],
   "source": []
  }
 ],
 "metadata": {
  "kernelspec": {
   "display_name": "Python 3",
   "language": "python",
   "name": "python3"
  },
  "language_info": {
   "codemirror_mode": {
    "name": "ipython",
    "version": 3
   },
   "file_extension": ".py",
   "mimetype": "text/x-python",
   "name": "python",
   "nbconvert_exporter": "python",
   "pygments_lexer": "ipython3",
   "version": "3.7.3"
  }
 },
 "nbformat": 4,
 "nbformat_minor": 2
}
