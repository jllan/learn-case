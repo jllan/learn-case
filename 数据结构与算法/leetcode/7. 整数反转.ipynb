{
 "cells": [
  {
   "cell_type": "markdown",
   "metadata": {},
   "source": [
    "## Reverse Integer"
   ]
  },
  {
   "cell_type": "markdown",
   "metadata": {},
   "source": [
    "给出一个 32 位的有符号整数，你需要将这个整数中每位上的数字进行反转。\n",
    "\n",
    "示例 1:\n",
    ">输入: 123\n",
    "输出: 321\n",
    "\n",
    "示例 2:\n",
    ">输入: -123\n",
    "输出: -321\n",
    "\n",
    "示例 3:\n",
    ">输入: 120\n",
    "输出: 21\n",
    "\n",
    "注意:\n",
    "假设我们的环境只能存储得下 32 位的有符号整数，则其数值范围为 [−231,  231 − 1]。请根据这个假设，如果反转后整数溢出那么就返回 0。"
   ]
  },
  {
   "cell_type": "markdown",
   "metadata": {},
   "source": [
    "### 解法一\n",
    "52ms 13.2MB"
   ]
  },
  {
   "cell_type": "code",
   "execution_count": 1,
   "metadata": {},
   "outputs": [],
   "source": [
    "class Solution:\n",
    "    def reverse(self, x: int) -> int:\n",
    "        str_x = str(x)\n",
    "        if x < 0:\n",
    "            tag = str_x[0]\n",
    "            str_x = str_x[1:]\n",
    "        else:\n",
    "            tag = ''\n",
    "        str_x_reverse = str_x[::-1]\n",
    "        str_x_reverse = tag+str_x_reverse\n",
    "        x_reverse = int(str_x_reverse)\n",
    "        if x_reverse > 2**31-1 or x_reverse < (-2)**31:\n",
    "            return 0\n",
    "        return x_reverse"
   ]
  },
  {
   "cell_type": "code",
   "execution_count": 16,
   "metadata": {},
   "outputs": [
    {
     "data": {
      "text/plain": [
       "-334021"
      ]
     },
     "execution_count": 16,
     "metadata": {},
     "output_type": "execute_result"
    }
   ],
   "source": [
    "class Solution:\n",
    "    def reverse(self, x: int) -> int:\n",
    "        if x == 0:\n",
    "            return 0\n",
    "        if x<0:\n",
    "            negative = '-'\n",
    "        else:\n",
    "            negative = ''\n",
    "        result = negative\n",
    "        x = abs(x)\n",
    "        while x:\n",
    "            i = x%10\n",
    "            result += str(i)\n",
    "            x = x//10\n",
    "        return int(result)\n",
    "        \n",
    "        \n",
    "s = Solution()\n",
    "s.reverse(-120433)\n"
   ]
  },
  {
   "cell_type": "code",
   "execution_count": null,
   "metadata": {},
   "outputs": [],
   "source": []
  }
 ],
 "metadata": {
  "kernelspec": {
   "display_name": "Python 3",
   "language": "python",
   "name": "python3"
  },
  "language_info": {
   "codemirror_mode": {
    "name": "ipython",
    "version": 3
   },
   "file_extension": ".py",
   "mimetype": "text/x-python",
   "name": "python",
   "nbconvert_exporter": "python",
   "pygments_lexer": "ipython3",
   "version": "3.8.3"
  }
 },
 "nbformat": 4,
 "nbformat_minor": 2
}
