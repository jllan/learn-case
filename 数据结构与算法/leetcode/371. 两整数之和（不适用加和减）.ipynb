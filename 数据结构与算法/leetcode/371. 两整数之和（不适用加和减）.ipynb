{
 "cells": [
  {
   "cell_type": "markdown",
   "source": [
    "## 371. 两整数之和\n",
    "\n",
    "给你两个整数 a 和 b ，不使用 运算符 + 和 - ​​​​​​​，计算并返回两整数之和。\n",
    "\n",
    "示例 1：\n",
    ">输入：a = 1, b = 2  \n",
    "输出：3\n",
    "\n",
    "示例 2：\n",
    ">输入：a = 2, b = 3  \n",
    "输出：5\n",
    "\n",
    "链接：https://leetcode-cn.com/problems/sum-of-two-integers"
   ],
   "metadata": {}
  },
  {
   "cell_type": "code",
   "execution_count": 2,
   "source": [
    "from typing import List\n",
    "\n",
    "# 这个题应该是要用位运算、异或之类的方法，不过这些知识不太懂暂时也不想去深究。\n",
    "# 以下为参考别人的方法\n",
    "class Solution:\n",
    "    def getSum(self, a: int, b: int) -> int:\n",
    "        if a>0:\n",
    "            for i in range(a):\n",
    "                b += 1\n",
    "        else:\n",
    "            for i in range(a, 0):\n",
    "                b -= 1\n",
    "        return b"
   ],
   "outputs": [],
   "metadata": {}
  },
  {
   "cell_type": "code",
   "execution_count": 6,
   "source": [
    "s = Solution()\n",
    "s.getSum(3, 0)"
   ],
   "outputs": [
    {
     "output_type": "execute_result",
     "data": {
      "text/plain": [
       "3"
      ]
     },
     "metadata": {},
     "execution_count": 6
    }
   ],
   "metadata": {}
  },
  {
   "cell_type": "code",
   "execution_count": null,
   "source": [],
   "outputs": [],
   "metadata": {}
  }
 ],
 "metadata": {
  "orig_nbformat": 4,
  "language_info": {
   "name": "python",
   "version": "3.8.3",
   "mimetype": "text/x-python",
   "codemirror_mode": {
    "name": "ipython",
    "version": 3
   },
   "pygments_lexer": "ipython3",
   "nbconvert_exporter": "python",
   "file_extension": ".py"
  },
  "kernelspec": {
   "name": "python3",
   "display_name": "Python 3.8.3 64-bit ('base': conda)"
  },
  "interpreter": {
   "hash": "1b91b148f4b8007e59823b14d9317380dae844febf09e4e24329d7a832eb78b0"
  }
 },
 "nbformat": 4,
 "nbformat_minor": 2
}