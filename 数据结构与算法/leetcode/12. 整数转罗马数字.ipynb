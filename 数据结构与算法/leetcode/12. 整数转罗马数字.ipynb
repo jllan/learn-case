{
 "cells": [
  {
   "cell_type": "markdown",
   "metadata": {},
   "source": [
    "## 12. 整数转罗马数字\n",
    "\n",
    "罗马数字包含以下七种字符： I， V， X， L，C，D 和 M。\n",
    "```\n",
    "字符          数值\n",
    "I             1\n",
    "V             5\n",
    "X             10\n",
    "L             50\n",
    "C             100\n",
    "D             500\n",
    "M             1000\n",
    "```\n",
    "例如， 罗马数字 2 写做 II ，即为两个并列的 1。12 写做 XII ，即为 X + II 。 27 写做  XXVII, 即为 XX + V + II 。  \n",
    "通常情况下，罗马数字中小的数字在大的数字的右边。但也存在特例，例如 4 不写做 IIII，而是 IV。数字 1 在数字 5 的左边，所表示的数等于大数 5 减小数 1 得到的数值 4 。同样地，数字 9 表示为 IX。\n",
    "这个特殊的规则只适用于以下六种情况：\n",
    "\n",
    "- I 可以放在 V (5) 和 X (10) 的左边，来表示 4 和 9。\n",
    "- X 可以放在 L (50) 和 C (100) 的左边，来表示 40 和 90。 \n",
    "- C 可以放在 D (500) 和 M (1000) 的左边，来表示 400 和 900。\n",
    "\n",
    "给你一个整数，将其转为罗马数字。\n",
    "\n",
    "示例 1:\n",
    ">输入: num = 3  \n",
    "输出: \"III\"\n",
    "\n",
    "示例 2:\n",
    ">输入: num = 4  \n",
    "输出: \"IV\"\n",
    "\n",
    "示例 3:\n",
    ">输入: num = 9  \n",
    "输出: \"IX\"\n",
    "\n",
    "示例 4:\n",
    ">输入: num = 58  \n",
    "输出: \"LVIII\"\n",
    "\n",
    "解释: L = 50, V = 5, III = 3.\n",
    "\n",
    "示例 5:\n",
    ">输入: num = 1994  \n",
    "输出: \"MCMXCIV\"\n",
    "\n",
    "解释: M = 1000, CM = 900, XC = 90, IV = 4."
   ]
  },
  {
   "cell_type": "code",
   "execution_count": 4,
   "metadata": {},
   "outputs": [
    {
     "data": {
      "text/plain": [
       "'IX'"
      ]
     },
     "execution_count": 4,
     "metadata": {},
     "output_type": "execute_result"
    }
   ],
   "source": [
    "class Solution:\n",
    "    def intToRoman(self, num: int) -> str:\n",
    "        result = ''\n",
    "        int2roman = {1: 'I', 5: 'V', 10: 'X', 50: 'L', 100: 'C', 500: 'D', 1000: 'M'}\n",
    "        ints = [1000, 500, 100, 50, 10, 5, 1]\n",
    "        while num:\n",
    "            for divisor in ints:\n",
    "                x = num//divisor\n",
    "                if x>0:\n",
    "                    result += int2roman[divisor]*x\n",
    "                    num = num%divisor\n",
    "                if divisor in [500, 1000] and divisor-num<=100:\n",
    "                    result += f'C{int2roman[divisor]}'\n",
    "                    num -= (divisor-100)\n",
    "                if divisor in [50, 100] and divisor-num<=10:\n",
    "                    result += f'X{int2roman[divisor]}'\n",
    "                    num -= (divisor-10)\n",
    "                if divisor in [5, 10] and divisor-num<=1:\n",
    "                    result += f'I{int2roman[divisor]}'\n",
    "                    num -= (divisor-1)\n",
    "\n",
    "        return result\n",
    "\n",
    "\n",
    "s = Solution()\n",
    "s.intToRoman(9)\n"
   ]
  },
  {
   "cell_type": "code",
   "execution_count": 7,
   "metadata": {},
   "outputs": [
    {
     "data": {
      "text/plain": [
       "'IX'"
      ]
     },
     "execution_count": 7,
     "metadata": {},
     "output_type": "execute_result"
    }
   ],
   "source": [
    "class Solution:\n",
    "    def intToRoman(self, num: int) -> str:\n",
    "        result = ''\n",
    "        int2roman = {1: 'I', 4: 'IV', 5: 'V', 9: 'IX', 10: 'X', 40: 'XL', 50: 'L', 90: 'XC', 100: 'C', 400: 'CD', 500: 'D', 900: 'CM', 1000: 'M'}\n",
    "        ints = [1000, 900, 500, 400, 100, 90, 50, 40, 10, 9, 5, 4, 1]\n",
    "        while num:\n",
    "            for divisor in ints:\n",
    "                x = num//divisor\n",
    "                result += int2roman[divisor]*x\n",
    "                num = num%divisor\n",
    "        return result\n",
    "\n",
    "s = Solution()\n",
    "s.intToRoman(9)"
   ]
  },
  {
   "cell_type": "code",
   "execution_count": null,
   "metadata": {},
   "outputs": [],
   "source": []
  }
 ],
 "metadata": {
  "interpreter": {
   "hash": "7c5d7306b163118f89fe049a1651390081b6f92596746532cb2761966b8ffecc"
  },
  "kernelspec": {
   "display_name": "Python 3.7.7 ('base')",
   "language": "python",
   "name": "python3"
  },
  "language_info": {
   "codemirror_mode": {
    "name": "ipython",
    "version": 3
   },
   "file_extension": ".py",
   "mimetype": "text/x-python",
   "name": "python",
   "nbconvert_exporter": "python",
   "pygments_lexer": "ipython3",
   "version": "3.7.7"
  },
  "orig_nbformat": 4
 },
 "nbformat": 4,
 "nbformat_minor": 2
}
