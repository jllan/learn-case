{
 "cells": [
  {
   "cell_type": "markdown",
   "metadata": {},
   "source": [
    "## 打家劫舍1\n",
    "你是一个专业的小偷，计划偷窃沿街的房屋。每间房内都藏有一定的现金，影响你偷窃的唯一制约因素就是相邻的房屋装有相互连通的防盗系统，如果两间相邻的房屋在同一晚上被小偷闯入，系统会自动报警。\n",
    "\n",
    "给定一个代表每个房屋存放金额的非负整数数组，计算你在不触动警报装置的情况下，能够偷窃到的最高金额。\n",
    "\n",
    "示例 1:\n",
    ">输入: [1,2,3,1]  \n",
    "输出: 4  \n",
    "解释: 偷窃 1 号房屋 (金额 = 1) ，然后偷窃 3 号房屋 (金额 = 3)。  \n",
    "     偷窃到的最高金额 = 1 + 3 = 4 。\n",
    "\n",
    "示例 2:\n",
    ">输入: [2,7,9,3,1]  \n",
    "输出: 12  \n",
    "解释: 偷窃 1 号房屋 (金额 = 2), 偷窃 3 号房屋 (金额 = 9)，接着偷窃 5 号房屋 (金额 = 1)。  \n",
    "     偷窃到的最高金额 = 2 + 9 + 1 = 12 。\n",
    "\n",
    "链接：https://leetcode-cn.com/problems/house-robber"
   ]
  },
  {
   "cell_type": "code",
   "execution_count": 6,
   "metadata": {},
   "outputs": [],
   "source": [
    "from typing import List\n",
    "\n",
    "class Solution:\n",
    "    def rob(self, nums: List[int]) -> int:\n",
    "        if not nums:\n",
    "            return 0\n",
    "        if len(nums)==1:\n",
    "            return nums[0]\n",
    "        \n",
    "        dp = [i for i in nums]\n",
    "        for i in range(2, len(nums)):\n",
    "            for j in range(i-1):\n",
    "                dp[i] = max(dp[j]+nums[i], dp[i])\n",
    "        return max(dp)"
   ]
  },
  {
   "cell_type": "code",
   "execution_count": 7,
   "metadata": {},
   "outputs": [
    {
     "data": {
      "text/plain": [
       "4"
      ]
     },
     "execution_count": 7,
     "metadata": {},
     "output_type": "execute_result"
    }
   ],
   "source": [
    "s = Solution()\n",
    "s.rob([2,7,9,3,1])\n",
    "s.rob([1,2,3,1])"
   ]
  },
  {
   "cell_type": "markdown",
   "metadata": {},
   "source": [
    "## 打家劫舍2\n",
    "相对于1，增加限制条件：这个地方所有的房屋都围成一圈，这意味着第一个房屋和最后一个房屋是紧挨着的"
   ]
  },
  {
   "cell_type": "code",
   "execution_count": 13,
   "metadata": {},
   "outputs": [],
   "source": [
    "from typing import List\n",
    "\n",
    "class Solution:\n",
    "    def rob(self, nums: List[int]) -> int:\n",
    "        def dp(nums):\n",
    "            if not nums:\n",
    "                return 0\n",
    "            if len(nums)==1:\n",
    "                return nums[0]\n",
    "\n",
    "            dp = [i for i in nums]\n",
    "            for i in range(2, len(nums)):\n",
    "                for j in range(i-1):\n",
    "                    dp[i] = max(dp[j]+nums[i], dp[i])\n",
    "            return max(dp)\n",
    "        \n",
    "        if not nums: return 0\n",
    "        if len(nums)==1: return nums[0]\n",
    "        return max(dp(nums[:-1]), dp(nums[1:]))"
   ]
  },
  {
   "cell_type": "code",
   "execution_count": 14,
   "metadata": {},
   "outputs": [
    {
     "data": {
      "text/plain": [
       "11"
      ]
     },
     "execution_count": 14,
     "metadata": {},
     "output_type": "execute_result"
    }
   ],
   "source": [
    "s = Solution()\n",
    "s.rob([2,7,9,3,1])\n",
    "# s.rob([1,2,3,1])"
   ]
  },
  {
   "cell_type": "code",
   "execution_count": null,
   "metadata": {},
   "outputs": [],
   "source": []
  }
 ],
 "metadata": {
  "kernelspec": {
   "display_name": "Python 3",
   "language": "python",
   "name": "python3"
  },
  "language_info": {
   "codemirror_mode": {
    "name": "ipython",
    "version": 3
   },
   "file_extension": ".py",
   "mimetype": "text/x-python",
   "name": "python",
   "nbconvert_exporter": "python",
   "pygments_lexer": "ipython3",
   "version": "3.7.3"
  }
 },
 "nbformat": 4,
 "nbformat_minor": 2
}
