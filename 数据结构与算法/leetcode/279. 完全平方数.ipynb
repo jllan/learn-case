{
 "cells": [
  {
   "cell_type": "markdown",
   "metadata": {},
   "source": [
    "# 题目描述\n",
    "\n",
    "给定正整数 n，找到若干个完全平方数（比如 1, 4, 9, 16, ...）使得它们的和等于 n。你需要让组成和的完全平方数的个数最少。\n",
    "\n",
    "示例 1:\n",
    ">输入: n = 12  \n",
    "输出: 3   \n",
    "解释: 12 = 4 + 4 + 4.\n",
    "\n",
    "示例 2:\n",
    ">输入: n = 13  \n",
    "输出: 2  \n",
    "解释: 13 = 4 + 9.\n",
    "\n",
    "链接：https://leetcode-cn.com/problems/perfect-squares"
   ]
  },
  {
   "cell_type": "code",
   "execution_count": 6,
   "metadata": {},
   "outputs": [],
   "source": [
    "import math\n",
    "\n",
    "class Solution:\n",
    "    def numSquares(self, n: int) -> int:\n",
    "        square_nums = [i**2 for i in range(int(math.sqrt(n))+1)]\n",
    "        dp = [0]+[float('inf')]*n\n",
    "        for i in range(1, n+1):\n",
    "            for j in square_nums:\n",
    "                if i<j:\n",
    "                    break\n",
    "                dp[i] = min(dp[i], dp[i-j]+1)\n",
    "        return dp[-1]"
   ]
  },
  {
   "cell_type": "code",
   "execution_count": 9,
   "metadata": {},
   "outputs": [
    {
     "data": {
      "text/plain": [
       "2"
      ]
     },
     "execution_count": 9,
     "metadata": {},
     "output_type": "execute_result"
    }
   ],
   "source": [
    "s = Solution()\n",
    "s.numSquares(6052)"
   ]
  },
  {
   "cell_type": "code",
   "execution_count": null,
   "metadata": {},
   "outputs": [],
   "source": []
  }
 ],
 "metadata": {
  "kernelspec": {
   "display_name": "Python 3.7.3 64-bit ('base': conda)",
   "language": "python",
   "name": "python37364bitbasecondaabe6c6509053462d980e903b25d40641"
  },
  "language_info": {
   "codemirror_mode": {
    "name": "ipython",
    "version": 3
   },
   "file_extension": ".py",
   "mimetype": "text/x-python",
   "name": "python",
   "nbconvert_exporter": "python",
   "pygments_lexer": "ipython3",
   "version": "3.7.3"
  }
 },
 "nbformat": 4,
 "nbformat_minor": 2
}
