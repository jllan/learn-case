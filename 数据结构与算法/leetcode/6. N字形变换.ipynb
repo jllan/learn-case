{
 "cells": [
  {
   "cell_type": "markdown",
   "source": [
    "将一个给定字符串 s 根据给定的行数 numRows ，以从上往下、从左到右进行 Z 字形排列。  \n",
    "比如输入字符串为 \"PAYPALISHIRING\" 行数为 3 时，排列如下：\n",
    "```\n",
    "P   A   H   N\n",
    "A P L S I I G\n",
    "Y   I   R\n",
    "```\n",
    "之后，你的输出需要从左往右逐行读取，产生出一个新的字符串，比如：\"PAHNAPLSIIGYIR\"。  \n",
    "请你实现这个将字符串进行指定行数变换的函数：\n",
    "\n",
    "string convert(string s, int numRows);\n",
    " \n",
    "示例 1：  \n",
    "输入：s = \"PAYPALISHIRING\", numRows = 3  \n",
    "输出：\"PAHNAPLSIIGYIR\"  \n",
    "\n",
    "示例 2：  \n",
    "输入：s = \"PAYPALISHIRING\", numRows = 4  \n",
    "输出：\"PINALSIGYAHRPI\"  \n",
    "\n",
    "解释：\n",
    "```\n",
    "P     I    N\n",
    "A   L S  I G\n",
    "Y A   H R\n",
    "P     I\n",
    "```\n",
    "\n",
    "示例 3：  \n",
    "输入：s = \"A\", numRows = 1  \n",
    "输出：\"A\"  \n",
    "\n",
    "来源：力扣（LeetCode）\n",
    "链接：https://leetcode-cn.com/problems/zigzag-conversion\n"
   ],
   "metadata": {}
  },
  {
   "cell_type": "markdown",
   "source": [
    "## 方法一\n",
    "\n",
    "笨方法，超时了"
   ],
   "metadata": {}
  },
  {
   "cell_type": "code",
   "execution_count": 54,
   "source": [
    "import math\n",
    "\n",
    "\n",
    "class Solution:\n",
    "    def convert(self, s: str, numRows: int) -> str:\n",
    "        if numRows == 1:\n",
    "            return s\n",
    "\n",
    "        tmp = []\n",
    "        n_head = (2*numRows-2)  # 每个N字形的开头，即“|”的开头\n",
    "        n_num = math.ceil(len(s)/n_head)  # 计算有几个“|”\n",
    "        print(len(s), numRows, n_head, n_num)\n",
    "    \n",
    "        for i in range(n_num):\n",
    "\n",
    "            # 把“|”位置的放置好\n",
    "            print(i, i*n_head+numRows)\n",
    "            if i*n_head+numRows < len(s):\n",
    "                sub_s = list(s[i*n_head: i*n_head+numRows])\n",
    "            else:\n",
    "                sub_s = list(s[i*n_head: len(s)])+[' ']\n",
    "                sub_s = sub_s + [' ']*(numRows-len(sub_s))\n",
    "            tmp.append(sub_s)\n",
    "            \n",
    "            # 把两个“|”中间的放置好\n",
    "            j = 0\n",
    "            while j < (numRows-2) and (i*n_head+numRows+j < len(s)):\n",
    "                sub_s = [' ']*(numRows-j-2) + [s[i*n_head+numRows+j]] + [' ']*(j+1)\n",
    "                tmp.append(sub_s)\n",
    "                j += 1\n",
    "\n",
    "        print(tmp)\n",
    "        res = ''\n",
    "        for i in range(numRows):\n",
    "            for sub_s in tmp:\n",
    "                if  sub_s[i].strip():\n",
    "                    res += sub_s[i]\n",
    "        return res\n"
   ],
   "outputs": [],
   "metadata": {}
  },
  {
   "cell_type": "code",
   "execution_count": 55,
   "source": [
    "func = Solution()\n",
    "\n",
    "s = '1234'\n",
    "n = 3\n",
    "func.convert(s, n)"
   ],
   "outputs": [
    {
     "output_type": "stream",
     "name": "stdout",
     "text": [
      "4 3 4 1\n",
      "0 3\n",
      "[['1', '2', '3'], [' ', '4', ' ']]\n"
     ]
    },
    {
     "output_type": "execute_result",
     "data": {
      "text/plain": [
       "'1243'"
      ]
     },
     "metadata": {},
     "execution_count": 55
    }
   ],
   "metadata": {}
  },
  {
   "cell_type": "markdown",
   "source": [
    "## 方法二\n",
    "\n",
    "```\n",
    "0     6      12        18\n",
    "1   5 7   11 13    17\n",
    "2 4   8 10   14 16\n",
    "3     9      15\n",
    "```\n",
    "对于s，当行数为n时，生成一个包含n个list的二维list。  \n",
    "对s中每个字符s<sub>i</sub>，  \n",
    "  k=i%(2n-2)，  \n",
    "  如果k<n, 则把s<sub>i</sub>加入第k个list，  \n",
    "  如果k>=n，则k=(2n-2)-k, 然后把s<sub>i</sub>加入第k个list"
   ],
   "metadata": {}
  },
  {
   "cell_type": "code",
   "execution_count": 56,
   "source": [
    "class Solution:\n",
    "    def convert(self, s: str, numRows: int) -> str:\n",
    "        if numRows == 1:\n",
    "            return s\n",
    "        n = 2*numRows-2\n",
    "        tmp = [[] for _ in range(numRows)]\n",
    "        for i in range(len(s)):\n",
    "            k = i % n\n",
    "            if k >= numRows:\n",
    "                k = n-k\n",
    "            tmp[k].append(s[i])\n",
    "\n",
    "        print(tmp)\n",
    "\n",
    "        res = ''\n",
    "        for i in tmp:\n",
    "            res += ''.join(i)\n",
    "        return res\n"
   ],
   "outputs": [],
   "metadata": {}
  },
  {
   "cell_type": "code",
   "execution_count": 57,
   "source": [
    "func = Solution()\n",
    "\n",
    "s = 'PAYPALISHIRING'\n",
    "n = 4\n",
    "func.convert(s, n)"
   ],
   "outputs": [
    {
     "output_type": "stream",
     "name": "stdout",
     "text": [
      "[['P', 'I', 'N'], ['A', 'L', 'S', 'I', 'G'], ['Y', 'A', 'H', 'R'], ['P', 'I']]\n"
     ]
    },
    {
     "output_type": "execute_result",
     "data": {
      "text/plain": [
       "'PINALSIGYAHRPI'"
      ]
     },
     "metadata": {},
     "execution_count": 57
    }
   ],
   "metadata": {}
  },
  {
   "cell_type": "code",
   "execution_count": null,
   "source": [],
   "outputs": [],
   "metadata": {}
  }
 ],
 "metadata": {
  "orig_nbformat": 4,
  "language_info": {
   "name": "python",
   "version": "3.7.7",
   "mimetype": "text/x-python",
   "codemirror_mode": {
    "name": "ipython",
    "version": 3
   },
   "pygments_lexer": "ipython3",
   "nbconvert_exporter": "python",
   "file_extension": ".py"
  },
  "kernelspec": {
   "name": "python3",
   "display_name": "Python 3.7.7 64-bit ('base': conda)"
  },
  "interpreter": {
   "hash": "1b91b148f4b8007e59823b14d9317380dae844febf09e4e24329d7a832eb78b0"
  }
 },
 "nbformat": 4,
 "nbformat_minor": 2
}