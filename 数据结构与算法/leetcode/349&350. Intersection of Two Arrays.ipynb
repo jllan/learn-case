{
 "cells": [
  {
   "cell_type": "markdown",
   "metadata": {},
   "source": [
    "## Intersection of Two Arrays"
   ]
  },
  {
   "cell_type": "markdown",
   "metadata": {},
   "source": [
    "### 题目一\n",
    "Given two arrays, write a function to compute their intersection.\n",
    "\n",
    "Example 1:\n",
    ">Input: nums1 = [1,2,2,1], nums2 = [2,2]  \n",
    "Output: [2]  \n",
    "\n",
    "Example 2:\n",
    ">Input: nums1 = [4,9,5], nums2 = [9,4,9,8,4]  \n",
    "Output: [9,4]  \n",
    "\n",
    "Note:\n",
    "Each element in the result must be unique.  \n",
    "The result can be in any order."
   ]
  },
  {
   "cell_type": "markdown",
   "metadata": {},
   "source": [
    "### 解法一"
   ]
  },
  {
   "cell_type": "code",
   "execution_count": 1,
   "metadata": {},
   "outputs": [],
   "source": [
    "class Solution:\n",
    "    def intersection(self, nums1: list, nums2: list) -> list:\n",
    "        return set(nums1)&set(nums2)"
   ]
  },
  {
   "cell_type": "markdown",
   "metadata": {},
   "source": [
    "### 解法二"
   ]
  },
  {
   "cell_type": "code",
   "execution_count": 2,
   "metadata": {},
   "outputs": [],
   "source": [
    "class Solution:\n",
    "    def intersection(self, nums1: list, nums2: list) -> list:\n",
    "        res = []\n",
    "        for i in nums:\n",
    "            if i in nums2 and i not in res:\n",
    "                res.append(i)\n",
    "        return res"
   ]
  },
  {
   "cell_type": "markdown",
   "metadata": {},
   "source": [
    "### 题目二\n",
    "Given two arrays, write a function to compute their intersection.\n",
    "\n",
    "Example 1:\n",
    ">Input: nums1 = [1,2,2,1], nums2 = [2,2]  \n",
    "Output: [2,2]  \n",
    "\n",
    "Example 2:\n",
    ">Input: nums1 = [4,9,5], nums2 = [9,4,9,8,4]  \n",
    "Output: [4,9]  \n",
    "\n",
    "Note:\n",
    "Each element in the result should appear as many times as it shows in both arrays.  \n",
    "The result can be in any order."
   ]
  },
  {
   "cell_type": "markdown",
   "metadata": {},
   "source": [
    "### 解法一"
   ]
  },
  {
   "cell_type": "code",
   "execution_count": 3,
   "metadata": {},
   "outputs": [],
   "source": [
    "class Solution:\n",
    "    def intersection(self, nums1: list, nums2: list) -> list:\n",
    "        res = []\n",
    "        for i in nums1:\n",
    "            if i in nums2:\n",
    "                res.append(i)\n",
    "                nums2.remove(i)\n",
    "        return res"
   ]
  },
  {
   "cell_type": "markdown",
   "metadata": {},
   "source": [
    "### 解法而\n",
    "先遍历nums1，用哈希表存储nums1中的元素和出现的次数。然后遍历nums2，在哈希表中找，若找到，哈希表中该元素的次数减一"
   ]
  },
  {
   "cell_type": "code",
   "execution_count": 5,
   "metadata": {},
   "outputs": [],
   "source": [
    "class Solution:\n",
    "    def intersection(self, nums1: list, nums2: list) -> list:\n",
    "        res = []\n",
    "        num_count = dict()\n",
    "        for i in nums1:\n",
    "            if i not in num_count:\n",
    "                num_count[i] = 1\n",
    "            else:\n",
    "                num_count[i] += 1\n",
    "                \n",
    "        for j in nums2:\n",
    "            if num_count[j]:\n",
    "                res.append(j)\n",
    "                num_count[j] -= 1\n",
    "        return res"
   ]
  },
  {
   "cell_type": "code",
   "execution_count": null,
   "metadata": {},
   "outputs": [],
   "source": []
  }
 ],
 "metadata": {
  "kernelspec": {
   "display_name": "Python 3",
   "language": "python",
   "name": "python3"
  },
  "language_info": {
   "codemirror_mode": {
    "name": "ipython",
    "version": 3
   },
   "file_extension": ".py",
   "mimetype": "text/x-python",
   "name": "python",
   "nbconvert_exporter": "python",
   "pygments_lexer": "ipython3",
   "version": "3.7.3"
  }
 },
 "nbformat": 4,
 "nbformat_minor": 2
}
