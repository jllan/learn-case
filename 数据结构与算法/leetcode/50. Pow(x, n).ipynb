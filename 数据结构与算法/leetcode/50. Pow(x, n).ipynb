{
 "cells": [
  {
   "cell_type": "markdown",
   "metadata": {},
   "source": [
    "## Pow(x, n)\n",
    "\n",
    "实现 pow(x, n) ，即计算 x 的 n 次幂函数。\n",
    "\n",
    "示例 1:\n",
    ">输入: 2.00000, 10  \n",
    "输出: 1024.00000  \n",
    "\n",
    "示例 2:\n",
    ">输入: 2.10000, 3  \n",
    "输出: 9.26100  \n",
    "\n",
    "示例 3:\n",
    ">输入: 2.00000, -2  \n",
    "输出: 0.25000  \n",
    "解释: 2-2 = 1/22 = 1/4 = 0.25  \n",
    "\n",
    "说明:\n",
    ">-100.0 < x < 100.0  \n",
    "n 是 32 位有符号整数，其数值范围是 [−231, 231 − 1] 。\n",
    "\n",
    "链接：https://leetcode-cn.com/problems/powx-n"
   ]
  },
  {
   "cell_type": "code",
   "execution_count": 59,
   "metadata": {},
   "outputs": [],
   "source": [
    "class Solution:\n",
    "    def myPow(self, x: float, n: int) -> float:\n",
    "        if n == 0:\n",
    "            return 1\n",
    "        if n < 0:\n",
    "            dao = True\n",
    "        else:\n",
    "            dao = False\n",
    "        n = abs(n)\n",
    "        \n",
    "        # 核心函数，每次x*=x，冥的次数*2，这样把复杂度从O(n)-->O(logn)\n",
    "        def f(x, n):\n",
    "            mm = 0\n",
    "            value = x\n",
    "            count = 1\n",
    "            while True:\n",
    "                print(value, count)\n",
    "                if count*2<=n:\n",
    "                    value *= value\n",
    "                    count *= 2\n",
    "                    mm += 1\n",
    "                else:\n",
    "                    return value, n-count, mm\n",
    "        result = 1\n",
    "        num = 0  # 总的计算次数\n",
    "        while n:\n",
    "            value, n, tmp_num = f(x, n)\n",
    "            result *= value\n",
    "            num += tmp_num\n",
    "            \n",
    "        if dao:\n",
    "            result = 1/result\n",
    "        print('num:', num)\n",
    "        return result"
   ]
  },
  {
   "cell_type": "code",
   "execution_count": 67,
   "metadata": {},
   "outputs": [
    {
     "name": "stdout",
     "output_type": "stream",
     "text": [
      "2.0 1\n",
      "4.0 2\n",
      "16.0 4\n",
      "256.0 8\n",
      "65536.0 16\n",
      "4294967296.0 32\n",
      "2.0 1\n",
      "4.0 2\n",
      "16.0 4\n",
      "256.0 8\n",
      "num: 8\n"
     ]
    },
    {
     "data": {
      "text/plain": [
       "1099511627776.0"
      ]
     },
     "execution_count": 67,
     "metadata": {},
     "output_type": "execute_result"
    }
   ],
   "source": [
    "x, n = 2.00000, 40\n",
    "s = Solution()\n",
    "s.myPow(x, n)"
   ]
  },
  {
   "cell_type": "code",
   "execution_count": null,
   "metadata": {},
   "outputs": [],
   "source": []
  }
 ],
 "metadata": {
  "kernelspec": {
   "display_name": "Python 3.7.3 64-bit ('base': conda)",
   "language": "python",
   "name": "python37364bitbasecondaabe6c6509053462d980e903b25d40641"
  },
  "language_info": {
   "codemirror_mode": {
    "name": "ipython",
    "version": 3
   },
   "file_extension": ".py",
   "mimetype": "text/x-python",
   "name": "python",
   "nbconvert_exporter": "python",
   "pygments_lexer": "ipython3",
   "version": "3.7.3"
  }
 },
 "nbformat": 4,
 "nbformat_minor": 2
}
