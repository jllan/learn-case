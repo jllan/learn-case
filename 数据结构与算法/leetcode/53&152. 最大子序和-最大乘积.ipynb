{
 "cells": [
  {
   "cell_type": "markdown",
   "metadata": {},
   "source": [
    "## 1. 最大子序和\n",
    "给定一个整数数组 nums ，找到一个具有最大和的连续子数组（子数组最少包含一个元素），返回其最大和。\n",
    "\n",
    "示例:\n",
    ">输入: [-2,1,-3,4,-1,2,1,-5,4],  \n",
    "输出: 6  \n",
    "解释: 连续子数组 [4,-1,2,1] 的和最大，为 6。"
   ]
  },
  {
   "cell_type": "code",
   "execution_count": 25,
   "metadata": {},
   "outputs": [],
   "source": [
    "# 解法一\n",
    "class Solution:\n",
    "    def maxSubArray(self, nums: list) -> int:\n",
    "        res = nums[0]\n",
    "        current_sum = 0\n",
    "        i = 0\n",
    "        for i in range(len(nums)):\n",
    "            if current_sum > 0:\n",
    "                current_sum = current_sum + nums[i]\n",
    "#             if current_sum + nums[i] > 0:\n",
    "#                 current_sum = current_sum + nums[i]\n",
    "            else:\n",
    "                current_sum = nums[i]\n",
    "            res = max(res, current_sum)\n",
    "        return res"
   ]
  },
  {
   "cell_type": "code",
   "execution_count": 27,
   "metadata": {},
   "outputs": [
    {
     "data": {
      "text/plain": [
       "8"
      ]
     },
     "execution_count": 27,
     "metadata": {},
     "output_type": "execute_result"
    }
   ],
   "source": [
    "s = Solution()\n",
    "# res = s.maxSubArray([-2,4,-3,4,1,-2,3,-5,4])\n",
    "res = s.maxSubArray([-2,8,-3,-1,2])\n",
    "res"
   ]
  },
  {
   "cell_type": "code",
   "execution_count": 6,
   "metadata": {},
   "outputs": [],
   "source": [
    "# 解法二：动态规划\n",
    "class Solution:\n",
    "    def maxSubArray(self, nums: list) -> int:\n",
    "        dp = [i for i in nums]\n",
    "        for i in range(1, len(nums)):\n",
    "            dp[i] = max(dp[i-1]+nums[i], nums[i])\n",
    "        return max(dp)"
   ]
  },
  {
   "cell_type": "code",
   "execution_count": 7,
   "metadata": {},
   "outputs": [
    {
     "data": {
      "text/plain": [
       "7"
      ]
     },
     "execution_count": 7,
     "metadata": {},
     "output_type": "execute_result"
    }
   ],
   "source": [
    "s = Solution()\n",
    "res = s.maxSubArray([-2,4,-3,4,1,-2,3,-5,4])\n",
    "res"
   ]
  },
  {
   "cell_type": "markdown",
   "metadata": {},
   "source": [
    "## 2. 乘积最大子序列\n",
    "给定一个整数数组 nums ，找出一个序列中乘积最大的连续子序列（该序列至少包含一个数）。\n",
    "\n",
    "示例 1:\n",
    ">输入: [2,3,-2,4]  \n",
    "输出: 6  \n",
    "解释: 子数组 [2,3] 有最大乘积 6。\n",
    "\n",
    "示例 2:\n",
    ">输入: [-2,0,-1]  \n",
    "输出: 0  \n",
    "解释: 结果不能为 2, 因为 [-2,-1] 不是子数组。\n",
    "\n",
    "链接：https://leetcode-cn.com/problems/maximum-product-subarray"
   ]
  },
  {
   "cell_type": "markdown",
   "metadata": {},
   "source": [
    "### 方法1\n",
    "动态规划，类似于求最大子序和对于加法，在遍历数组中始终取max(ma + nums[i], nums[i])即可，因为无论nums[i]的正负如何，最大值一定出现在当前最大值 + 当前值 or 当前值 中的一个。  \n",
    "对于乘法，在遍历数组中，若nums[i]是负数，那么ma * nums[i]（即当前最大值与nums[i]的乘积）会变成当前最小值（负数），因此不能简单的只记录最大值。\n",
    "\n",
    "参考：https://leetcode-cn.com/problems/maximum-product-subarray/solution/maximum-product-subarray-dong-tai-gui-hua-by-jin40/"
   ]
  },
  {
   "cell_type": "code",
   "execution_count": 69,
   "metadata": {},
   "outputs": [],
   "source": [
    "from typing import List\n",
    "\n",
    "class Solution:\n",
    "    def maxProduct(self, nums: List[int]) -> int:\n",
    "        pre_max = nums[0]\n",
    "        pre_min = nums[0]\n",
    "        res = nums[0]\n",
    "        for i in nums[1:]:\n",
    "            cur_max = max(pre_max*i, pre_min*i, i)  # 当前最大的\n",
    "            cur_min = min(pre_max*i, pre_min*i, i)  # 当前最小的\n",
    "            print(res, i, cur_max, cur_min)\n",
    "            res = max(cur_max, cur_min, res)\n",
    "            pre_max = cur_max\n",
    "            pre_min = cur_min\n",
    "        return res"
   ]
  },
  {
   "cell_type": "code",
   "execution_count": 70,
   "metadata": {},
   "outputs": [
    {
     "name": "stdout",
     "output_type": "stream",
     "text": [
      "-1 -2 2 -2\n",
      "2 -9 18 -18\n",
      "18 -6 108 -108\n"
     ]
    },
    {
     "data": {
      "text/plain": [
       "108"
      ]
     },
     "execution_count": 70,
     "metadata": {},
     "output_type": "execute_result"
    }
   ],
   "source": [
    "s = Solution()\n",
    "l = [-1,-2,-9,-6]\n",
    "s.maxProduct(l)"
   ]
  },
  {
   "cell_type": "code",
   "execution_count": 75,
   "metadata": {},
   "outputs": [],
   "source": [
    "from typing import List\n",
    "\n",
    "class Solution:\n",
    "    def maxProduct(self, nums: List[int]) -> int:\n",
    "        max_, min_, res = nums[0], nums[0], nums[0]\n",
    "        for i in nums[1:]:\n",
    "            if i < 0:\n",
    "                max_, min_ = min_, max_\n",
    "            max_ = max(max_*i, i)\n",
    "            min_ = min(min_*i, i)\n",
    "            res = max(max_, res)\n",
    "        return res"
   ]
  },
  {
   "cell_type": "code",
   "execution_count": 76,
   "metadata": {},
   "outputs": [
    {
     "data": {
      "text/plain": [
       "108"
      ]
     },
     "execution_count": 76,
     "metadata": {},
     "output_type": "execute_result"
    }
   ],
   "source": [
    "s = Solution()\n",
    "l = [-1,-2,-9,-6]\n",
    "s.maxProduct(l)"
   ]
  },
  {
   "cell_type": "code",
   "execution_count": null,
   "metadata": {},
   "outputs": [],
   "source": []
  }
 ],
 "metadata": {
  "kernelspec": {
   "display_name": "Python 3",
   "language": "python",
   "name": "python3"
  },
  "language_info": {
   "codemirror_mode": {
    "name": "ipython",
    "version": 3
   },
   "file_extension": ".py",
   "mimetype": "text/x-python",
   "name": "python",
   "nbconvert_exporter": "python",
   "pygments_lexer": "ipython3",
   "version": "3.7.3"
  }
 },
 "nbformat": 4,
 "nbformat_minor": 2
}
