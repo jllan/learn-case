{
 "cells": [
  {
   "cell_type": "markdown",
   "source": [
    "## 118&119. 杨辉三角\n",
    "\n",
    "给定一个非负整数 numRows，生成「杨辉三角」的前 numRows 行。\n",
    "在「杨辉三角」中，每个数是它左上方和右上方的数的和。\n",
    "\n",
    "示例 1:\n",
    ">输入: numRows = 5  \n",
    "输出: [[1],[1,1],[1,2,1],[1,3,3,1],[1,4,6,4,1]]\n",
    "\n",
    "示例 2:\n",
    ">输入: numRows = 1  \n",
    "输出: [[1]]\n",
    "\n",
    "链接：https://leetcode-cn.com/problems/pascals-triangle"
   ],
   "metadata": {}
  },
  {
   "cell_type": "code",
   "execution_count": 2,
   "source": [
    "from typing import List\n",
    "\n",
    "class Solution:\n",
    "    def generate(self, numRows: int) -> List[List[int]]:\n",
    "        first_row = [1]\n",
    "        second_row = [1, 1]\n",
    "        all_rows = [first_row, second_row]\n",
    "        if numRows == 1:\n",
    "            return [first_row]\n",
    "        elif numRows == 2:\n",
    "            return all_rows\n",
    "        else:\n",
    "            for _ in range(3, numRows+1):\n",
    "                current_row = [1]\n",
    "                last_row = all_rows[-1]\n",
    "                j = 0\n",
    "                while j < len(last_row)-1:\n",
    "                    current_row.append(last_row[j]+last_row[j+1])\n",
    "                    j += 1\n",
    "                current_row.append(1)\n",
    "                print(current_row)\n",
    "                all_rows.append(current_row)\n",
    "            return all_rows\n",
    "\n",
    "\n"
   ],
   "outputs": [],
   "metadata": {}
  },
  {
   "cell_type": "code",
   "execution_count": 12,
   "source": [
    "s = Solution()\n",
    "\n",
    "numRows = 5\n",
    "s.generate(numRows)"
   ],
   "outputs": [
    {
     "output_type": "stream",
     "name": "stdout",
     "text": [
      "[1, 2, 1]\n",
      "[1, 3, 3, 1]\n",
      "[1, 4, 6, 4, 1]\n"
     ]
    },
    {
     "output_type": "execute_result",
     "data": {
      "text/plain": [
       "[[1], [1, 1], [1, 2, 1], [1, 3, 3, 1], [1, 4, 6, 4, 1]]"
      ]
     },
     "metadata": {},
     "execution_count": 12
    }
   ],
   "metadata": {}
  },
  {
   "cell_type": "code",
   "execution_count": 9,
   "source": [
    "# 给定一个非负索引 rowIndex，返回「杨辉三角」的第 rowIndex 行。\n",
    "\n",
    "class Solution:\n",
    "    def getRow(self, rowIndex: int) -> List[int]:\n",
    "        first_row = [1]\n",
    "        second_row = [1, 1]\n",
    "        all_rows = [first_row, second_row]\n",
    "        if rowIndex>1:\n",
    "            for _ in range(2, rowIndex+1):\n",
    "                current_row = [1]\n",
    "                last_row = all_rows[-1]\n",
    "                j = 0\n",
    "                while j < len(last_row)-1:\n",
    "                    current_row.append(last_row[j]+last_row[j+1])\n",
    "                    j += 1\n",
    "                current_row.append(1)\n",
    "                print(current_row)\n",
    "                all_rows.append(current_row)\n",
    "        return all_rows[rowIndex]\n"
   ],
   "outputs": [],
   "metadata": {}
  },
  {
   "cell_type": "code",
   "execution_count": 10,
   "source": [
    "s = Solution()\n",
    "s.getRow(3)"
   ],
   "outputs": [
    {
     "output_type": "stream",
     "name": "stdout",
     "text": [
      "[1, 2, 1]\n",
      "[1, 3, 3, 1]\n"
     ]
    },
    {
     "output_type": "execute_result",
     "data": {
      "text/plain": [
       "[1, 3, 3, 1]"
      ]
     },
     "metadata": {},
     "execution_count": 10
    }
   ],
   "metadata": {}
  },
  {
   "cell_type": "code",
   "execution_count": null,
   "source": [],
   "outputs": [],
   "metadata": {}
  }
 ],
 "metadata": {
  "orig_nbformat": 4,
  "language_info": {
   "name": "python",
   "version": "3.8.3",
   "mimetype": "text/x-python",
   "codemirror_mode": {
    "name": "ipython",
    "version": 3
   },
   "pygments_lexer": "ipython3",
   "nbconvert_exporter": "python",
   "file_extension": ".py"
  },
  "kernelspec": {
   "name": "python3",
   "display_name": "Python 3.8.3 64-bit ('base': conda)"
  },
  "interpreter": {
   "hash": "1b91b148f4b8007e59823b14d9317380dae844febf09e4e24329d7a832eb78b0"
  }
 },
 "nbformat": 4,
 "nbformat_minor": 2
}