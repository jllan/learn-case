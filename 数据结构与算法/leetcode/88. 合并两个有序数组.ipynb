{
 "cells": [
  {
   "cell_type": "markdown",
   "source": [
    "## 88. 合并两个有序数组\n",
    "\n",
    "给你两个按 非递减顺序 排列的整数数组 nums1 和 nums2，另有两个整数 m 和 n ，分别表示 nums1 和 nums2 中的元素数目。\n",
    "请你 合并 nums2 到 nums1 中，使合并后的数组同样按 非递减顺序 排列。\n",
    "注意：最终，合并后数组不应由函数返回，而是存储在数组 nums1 中。为了应对这种情况，nums1 的初始长度为 m + n，其中前 m 个元素表示应合并的元素，后 n 个元素为 0 ，应忽略。nums2 的长度为 n 。\n",
    "\n",
    "示例 1：\n",
    ">输入：nums1 = [1,2,3,0,0,0], m = 3, nums2 = [2,5,6], n = 3  \n",
    "输出：[1,2,2,3,5,6]  \n",
    "解释：需要合并 [1,2,3] 和 [2,5,6] 。  \n",
    "合并结果是 [1,2,2,3,5,6] ，其中斜体加粗标注的为 nums1 中的元素。\n",
    "\n",
    "示例 2：\n",
    ">输入：nums1 = [1], m = 1, nums2 = [], n = 0  \n",
    "输出：[1]  \n",
    "解释：需要合并 [1] 和 [] 。  \n",
    "合并结果是 [1] 。\n",
    "\n",
    "示例 3：\n",
    ">输入：nums1 = [0], m = 0, nums2 = [1], n = 1  \n",
    "输出：[1]  \n",
    "解释：需要合并的数组是 [] 和 [1] 。  \n",
    "合并结果是 [1] 。  \n",
    "注意，因为 m = 0 ，所以 nums1 中没有元素。nums1 中仅存的 0 仅仅是为了确保合并结果可以顺利存放到 nums1 中。\n",
    "\n",
    "链接：https://leetcode-cn.com/problems/merge-sorted-array"
   ],
   "metadata": {}
  },
  {
   "cell_type": "code",
   "execution_count": 5,
   "source": [
    "from typing import List\n",
    "\n",
    "class Solution:\n",
    "    def merge(self, nums1: List[int], m: int, nums2: List[int], n: int) -> None:\n",
    "        res = []\n",
    "        i, j = 0, 0\n",
    "        while i<m or j<n:\n",
    "            if i == m:\n",
    "                # res.append(nums2[j])\n",
    "                # j += 1\n",
    "                res += nums2[j:]\n",
    "                break\n",
    "            elif j == n:\n",
    "                # res.append(nums1[i])\n",
    "                # i += 1\n",
    "                res += nums1[i:m]\n",
    "                break\n",
    "            elif nums1[i] < nums2[j]:\n",
    "                res.append(nums1[i])\n",
    "                i += 1\n",
    "            else:\n",
    "                res.append(nums2[j])\n",
    "                j += 1\n",
    "        nums1[:] = res\n",
    "        return nums1\n",
    "\n"
   ],
   "outputs": [],
   "metadata": {}
  },
  {
   "cell_type": "code",
   "execution_count": 6,
   "source": [
    "nums1 = [1,2,4,6,0,0,0]\n",
    "m = 4\n",
    "nums2 = [2,5,6]\n",
    "n = 3\n",
    "\n",
    "s = Solution()\n",
    "s.merge(nums1, m, nums2, n)\n"
   ],
   "outputs": [
    {
     "output_type": "execute_result",
     "data": {
      "text/plain": [
       "[1, 2, 2, 4, 5, 6, 6]"
      ]
     },
     "metadata": {},
     "execution_count": 6
    }
   ],
   "metadata": {}
  },
  {
   "cell_type": "code",
   "execution_count": null,
   "source": [],
   "outputs": [],
   "metadata": {}
  }
 ],
 "metadata": {
  "orig_nbformat": 4,
  "language_info": {
   "name": "python",
   "version": "3.8.3",
   "mimetype": "text/x-python",
   "codemirror_mode": {
    "name": "ipython",
    "version": 3
   },
   "pygments_lexer": "ipython3",
   "nbconvert_exporter": "python",
   "file_extension": ".py"
  },
  "kernelspec": {
   "name": "python3",
   "display_name": "Python 3.8.3 64-bit ('base': conda)"
  },
  "interpreter": {
   "hash": "1b91b148f4b8007e59823b14d9317380dae844febf09e4e24329d7a832eb78b0"
  }
 },
 "nbformat": 4,
 "nbformat_minor": 2
}