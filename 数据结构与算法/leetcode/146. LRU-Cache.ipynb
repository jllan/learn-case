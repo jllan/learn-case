{
 "cells": [
  {
   "cell_type": "markdown",
   "metadata": {},
   "source": [
    "## LRU Cache"
   ]
  },
  {
   "cell_type": "markdown",
   "metadata": {},
   "source": [
    "### 题目描述\n",
    "设计和实现一个  LRU (最近最少使用) 缓存机制。它应该支持以下操作： 获取数据 get 和 写入数据 put 。\n",
    "\n",
    "获取数据 get(key) - 如果密钥 (key) 存在于缓存中，则获取密钥的值（总是正数），否则返回 -1。\n",
    "写入数据 put(key, value) - 如果密钥不存在，则写入其数据值。当缓存容量达到上限时，它应该在写入新数据之前删除最近最少使用的数据值，从而为新的数据值留出空间。\n",
    "\n",
    "进阶:\n",
    "\n",
    "你是否可以在 O(1) 时间复杂度内完成这两种操作？\n",
    "\n",
    "示例:\n",
    ">LRUCache cache = new LRUCache( 2 /* 缓存容量 */ );   \n",
    "cache.put(1, 1);  \n",
    "cache.put(2, 2);  \n",
    "cache.get(1);       // 返回  1  \n",
    "cache.put(3, 3);    // 该操作会使得密钥 2 作废  \n",
    "cache.get(2);       // 返回 -1 (未找到)  \n",
    "cache.put(4, 4);    // 该操作会使得密钥 1 作废  \n",
    "cache.get(1);       // 返回 -1 (未找到)  \n",
    "cache.get(3);       // 返回  3  \n",
    "cache.get(4);       // 返回  4  "
   ]
  },
  {
   "cell_type": "markdown",
   "metadata": {},
   "source": [
    "### 解法一"
   ]
  },
  {
   "cell_type": "code",
   "execution_count": 43,
   "metadata": {},
   "outputs": [],
   "source": [
    "from collections import OrderedDict\n",
    "\n",
    "\n",
    "class LRUCache:\n",
    "\n",
    "    def __init__(self, capacity: int):\n",
    "        self.capcacity = capacity\n",
    "        self.cache = OrderedDict()\n",
    "        \n",
    "\n",
    "    def get(self, key: int) -> int:\n",
    "        res = self.cache.get(key)\n",
    "        print(f'res: {res}')\n",
    "        if res:\n",
    "            self.cache[key][1] += 1\n",
    "            return res[0]\n",
    "        else:\n",
    "            return -1\n",
    "        \n",
    "\n",
    "    def put(self, key: int, value: int) -> None:\n",
    "        if len(self.cache) == self.capcacity:\n",
    "            keys = list(self.cache.keys())\n",
    "            min_use = self.cache[keys[0]][1]\n",
    "            pop_key = keys[0]\n",
    "            for k in keys[1:]:\n",
    "                if self.cache[k][1] < min_use:\n",
    "                    pop_key = k\n",
    "            self.cache.pop(pop_key)\n",
    "        self.cache[key] = [value, 0]\n",
    "        print(f'cache: {self.cache}')\n",
    "        "
   ]
  },
  {
   "cell_type": "code",
   "execution_count": 44,
   "metadata": {},
   "outputs": [
    {
     "name": "stdout",
     "output_type": "stream",
     "text": [
      "cache: OrderedDict([(1, [1, 0])])\n",
      "cache: OrderedDict([(1, [1, 0]), (2, [2, 0])])\n",
      "res: [1, 0]\n",
      "1\n",
      "cache: OrderedDict([(1, [1, 1]), (3, [3, 0])])\n",
      "res: None\n",
      "-1\n",
      "cache: OrderedDict([(1, [1, 1]), (4, [4, 0])])\n",
      "res: [1, 1]\n",
      "1\n",
      "res: None\n",
      "-1\n",
      "res: [4, 0]\n",
      "4\n"
     ]
    }
   ],
   "source": [
    "# Your LRUCache object will be instantiated and called as such:\n",
    "cache = LRUCache(capacity=2)\n",
    "cache.put(1, 1);\n",
    "cache.put(2, 2);\n",
    "print(cache.get(1));       # 返回  1\n",
    "cache.put(3, 3);    # 该操作会使得密钥 2 作废\n",
    "print(cache.get(2));       # 返回 -1 (未找到)\n",
    "cache.put(4, 4);    # 该操作会使得密钥 1 作废\n",
    "print(cache.get(1));       # 返回 -1 (未找到)\n",
    "print(cache.get(3));       # 返回  3\n",
    "print(cache.get(4));       # 返回  4"
   ]
  },
  {
   "cell_type": "code",
   "execution_count": null,
   "metadata": {},
   "outputs": [],
   "source": []
  }
 ],
 "metadata": {
  "kernelspec": {
   "display_name": "Python 3",
   "language": "python",
   "name": "python3"
  },
  "language_info": {
   "codemirror_mode": {
    "name": "ipython",
    "version": 3
   },
   "file_extension": ".py",
   "mimetype": "text/x-python",
   "name": "python",
   "nbconvert_exporter": "python",
   "pygments_lexer": "ipython3",
   "version": "3.7.3"
  }
 },
 "nbformat": 4,
 "nbformat_minor": 2
}
