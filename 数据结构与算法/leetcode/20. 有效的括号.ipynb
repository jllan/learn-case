{
 "cells": [
  {
   "cell_type": "markdown",
   "metadata": {},
   "source": [
    "## 有效的括号\n",
    "给定一个只包括 '('，')'，'{'，'}'，'['，']' 的字符串，判断字符串是否有效。\n",
    "\n",
    "有效字符串需满足：\n",
    ">左括号必须用相同类型的右括号闭合。  \n",
    "左括号必须以正确的顺序闭合。  \n",
    "注意空字符串可被认为是有效字符串。\n",
    "\n",
    "示例 1:\n",
    ">输入: \"()\"  \n",
    "输出: true  \n",
    "\n",
    "示例 2:\n",
    ">输入: \"()[]{}\"  \n",
    "输出: true  \n",
    "\n",
    "示例 3:\n",
    ">输入: \"(]\"  \n",
    "输出: false  \n",
    "\n",
    "示例 4:\n",
    ">输入: \"([)]\"  \n",
    "输出: false  \n",
    "\n",
    "示例 5:\n",
    ">输入: \"{[]}\"  \n",
    "输出: true\n",
    "\n",
    "来源：力扣（LeetCode）\n",
    "链接：https://leetcode-cn.com/problems/valid-parentheses"
   ]
  },
  {
   "cell_type": "code",
   "execution_count": 1,
   "metadata": {},
   "outputs": [],
   "source": [
    "# 使用一个list代表一个栈，先进先出\n",
    "\n",
    "class Solution:\n",
    "    def isValid(self, s: str) -> bool:\n",
    "        puns = {')': '(', '}': '{', ']': '['}\n",
    "        cap = []  # 用来存储当前在栈里边的元素\n",
    "        for i in s:\n",
    "            if i in puns:\n",
    "                if not cap or cap[-1]!=puns[i]:\n",
    "                    return False\n",
    "                else:\n",
    "                    cap.pop()\n",
    "            else:\n",
    "                cap.append(i)\n",
    "        if not cap:\n",
    "            return True\n",
    "        else:\n",
    "            return False"
   ]
  },
  {
   "cell_type": "code",
   "execution_count": 2,
   "metadata": {},
   "outputs": [
    {
     "data": {
      "text/plain": [
       "True"
      ]
     },
     "execution_count": 2,
     "metadata": {},
     "output_type": "execute_result"
    }
   ],
   "source": [
    "s = Solution()\n",
    "s.isValid(\"()[]{}\")"
   ]
  },
  {
   "cell_type": "code",
   "execution_count": null,
   "metadata": {},
   "outputs": [],
   "source": []
  }
 ],
 "metadata": {
  "interpreter": {
   "hash": "1b91b148f4b8007e59823b14d9317380dae844febf09e4e24329d7a832eb78b0"
  },
  "kernelspec": {
   "display_name": "Python 3.8.3 64-bit ('base': conda)",
   "name": "python3"
  },
  "language_info": {
   "codemirror_mode": {
    "name": "ipython",
    "version": 3
   },
   "file_extension": ".py",
   "mimetype": "text/x-python",
   "name": "python",
   "nbconvert_exporter": "python",
   "pygments_lexer": "ipython3",
   "version": "3.8.3"
  }
 },
 "nbformat": 4,
 "nbformat_minor": 2
}