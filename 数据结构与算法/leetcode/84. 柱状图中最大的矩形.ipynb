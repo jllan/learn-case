{
 "cells": [
  {
   "cell_type": "markdown",
   "metadata": {},
   "source": [
    "## 题目描述\n",
    "\n",
    "给定 n 个非负整数，用来表示柱状图中各个柱子的高度。每个柱子彼此相邻，且宽度为 1 。\n",
    "求在该柱状图中，能够勾勒出来的矩形的最大面积。\n",
    "\n",
    "示例 1:\n",
    "![](https://assets.leetcode.com/uploads/2021/01/04/histogram.jpg)\n",
    ">输入：heights = [2,1,5,6,2,3]  \n",
    "输出：10\n",
    "\n",
    "解释：最大的矩形为图中红色区域，面积为 10\n",
    "\n",
    "示例 2：\n",
    "![](https://assets.leetcode.com/uploads/2021/01/04/histogram-1.jpg)\n",
    "\n",
    ">输入： heights = [2,4]  \n",
    "输出： 4\n",
    " \n",
    "\n",
    "链接：https://leetcode-cn.com/problems/largest-rectangle-in-histogram"
   ]
  },
  {
   "cell_type": "code",
   "execution_count": 2,
   "metadata": {},
   "outputs": [
    {
     "data": {
      "text/plain": [
       "10"
      ]
     },
     "execution_count": 2,
     "metadata": {},
     "output_type": "execute_result"
    }
   ],
   "source": [
    "from typing import List\n",
    "\n",
    "# 会超时\n",
    "class Solution:\n",
    "    def largestRectangleArea(self, heights: List[int]) -> int:\n",
    "        dp = heights[:]\n",
    "        max_area = dp[0]\n",
    "        for r in range(len(heights)):\n",
    "            for l in range(r):\n",
    "                if l >=1 and heights[l] <= heights[l-1]:\n",
    "                    continue\n",
    "                dp[r] = max(dp[r], min(heights[l:r+1]) * (r-l+1))\n",
    "            max_area = max(max_area, dp[r])\n",
    "        return max_area\n",
    "\n",
    "\n",
    "s = Solution()\n",
    "heights = [2,1,5,6,2,3]\n",
    "# heights = [5,5,1,7,1,1,5,2,7,6]\n",
    "s.largestRectangleArea(heights)"
   ]
  },
  {
   "cell_type": "code",
   "execution_count": 3,
   "metadata": {},
   "outputs": [
    {
     "data": {
      "text/plain": [
       "10"
      ]
     },
     "execution_count": 3,
     "metadata": {},
     "output_type": "execute_result"
    }
   ],
   "source": [
    "\n",
    "# 遍历每根柱子，以当前柱子 i 的高度作为矩形的高，\n",
    "# 那么矩形的宽度边界即为向左找到第一个高度小于当前柱体 i 的柱体，向右找到第一个高度小于当前柱体 i 的柱体。\n",
    "# 会超时\n",
    "class Solution:\n",
    "    def largestRectangleArea(self, heights: List[int]) -> int:\n",
    "        max_area = 0\n",
    "        for i in range(len(heights)):\n",
    "            h = heights[i]\n",
    "            w = 1\n",
    "            j = i-1\n",
    "            while j>=0 and heights[j]>=h:\n",
    "                j -= 1\n",
    "                w += 1\n",
    "            j = i+1\n",
    "            while j<=len(heights)-1 and heights[j]>=h:\n",
    "                j += 1\n",
    "                w += 1\n",
    "            max_area = max(w*h, max_area)\n",
    "        return max_area\n",
    "\n",
    "\n",
    "s = Solution()\n",
    "heights = [2,1,5,6,2,3]\n",
    "# heights = [5,5,1,7,1,1,5,2,7,6]\n",
    "s.largestRectangleArea(heights)"
   ]
  },
  {
   "cell_type": "code",
   "execution_count": 5,
   "metadata": {},
   "outputs": [
    {
     "name": "stdout",
     "output_type": "stream",
     "text": [
      "2 2\n",
      "6 6\n",
      "10 10\n",
      "3 10\n",
      "8 10\n",
      "6 10\n"
     ]
    },
    {
     "data": {
      "text/plain": [
       "10"
      ]
     },
     "execution_count": 5,
     "metadata": {},
     "output_type": "execute_result"
    }
   ],
   "source": [
    "# 单调栈\n",
    "\n",
    "class Solution:\n",
    "    def largestRectangleArea(self, heights: List[int]) -> int:\n",
    "        max_area = 0\n",
    "        stack = []\n",
    "\n",
    "        heights = [-1] + heights + [-1]  # 两端设置为-1\n",
    "        stack.append(0)\n",
    "        i = 1\n",
    "        while i < len(heights):\n",
    "            if stack and heights[i]<heights[stack[-1]]:\n",
    "                j = stack.pop()\n",
    "                if stack:\n",
    "                    current_area = heights[j]*(i-stack[-1]-1)\n",
    "                    max_area = max(current_area, max_area)\n",
    "                    print(current_area, max_area)\n",
    "                else:\n",
    "                    pass\n",
    "            else:\n",
    "                stack.append(i)\n",
    "                i += 1\n",
    "        return max_area\n",
    "\n",
    "\n",
    "s = Solution()\n",
    "heights = [2,1,5,6,2,3]\n",
    "# heights = [5,5,1,7,1,1,5,2,7,6]\n",
    "# heights = [0]\n",
    "s.largestRectangleArea(heights)"
   ]
  },
  {
   "cell_type": "code",
   "execution_count": null,
   "metadata": {},
   "outputs": [],
   "source": []
  }
 ],
 "metadata": {
  "interpreter": {
   "hash": "7c5d7306b163118f89fe049a1651390081b6f92596746532cb2761966b8ffecc"
  },
  "kernelspec": {
   "display_name": "Python 3.7.7 ('base')",
   "language": "python",
   "name": "python3"
  },
  "language_info": {
   "codemirror_mode": {
    "name": "ipython",
    "version": 3
   },
   "file_extension": ".py",
   "mimetype": "text/x-python",
   "name": "python",
   "nbconvert_exporter": "python",
   "pygments_lexer": "ipython3",
   "version": "3.8.3"
  },
  "orig_nbformat": 4
 },
 "nbformat": 4,
 "nbformat_minor": 2
}
