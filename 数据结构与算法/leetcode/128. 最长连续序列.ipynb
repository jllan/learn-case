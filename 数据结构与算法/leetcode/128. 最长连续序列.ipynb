{
 "cells": [
  {
   "cell_type": "markdown",
   "metadata": {},
   "source": [
    "## 题目描述\n",
    "\n",
    "给定一个未排序的整数数组 nums ，找出数字连续的最长序列（不要求序列元素在原数组中连续）的长度。  \n",
    "请你设计并实现时间复杂度为 O(n) 的算法解决此问题。\n",
    "\n",
    "示例 1：\n",
    ">输入：nums = [100,4,200,1,3,2]  \n",
    "输出：4\n",
    "\n",
    "解释：最长数字连续序列是 [1, 2, 3, 4]。它的长度为 4。\n",
    "\n",
    "示例 2：\n",
    ">输入：nums = [0,3,7,2,5,8,4,6,0,1]  \n",
    "输出：9"
   ]
  },
  {
   "cell_type": "code",
   "execution_count": 18,
   "metadata": {},
   "outputs": [
    {
     "name": "stdout",
     "output_type": "stream",
     "text": [
      "{0: 1}\n",
      "{0: 1, 3: 1}\n",
      "{0: 1, 3: 1, 7: 1}\n",
      "{0: 1, 3: 2, 7: 1, 2: 2}\n",
      "{0: 1, 3: 2, 7: 1, 2: 2, 5: 1}\n",
      "{0: 1, 3: 2, 7: 2, 2: 2, 5: 1, 8: 2}\n",
      "{0: 1, 3: 4, 7: 2, 2: 2, 5: 4, 8: 2, 4: 4}\n",
      "{0: 1, 3: 4, 7: 7, 2: 2, 5: 7, 8: 2, 4: 4, 6: 7}\n",
      "{0: 4, 3: 4, 7: 7, 2: 4, 5: 7, 8: 2, 4: 4, 6: 7, 1: 4}\n"
     ]
    },
    {
     "data": {
      "text/plain": [
       "7"
      ]
     },
     "execution_count": 18,
     "metadata": {},
     "output_type": "execute_result"
    }
   ],
   "source": [
    "from typing import List\n",
    "\n",
    "class Solution:\n",
    "    def longestConsecutive(self, nums: List[int]) -> int:\n",
    "        records = dict()\n",
    "        max_len = 1\n",
    "        for n in nums:\n",
    "            if n not in records:\n",
    "                records[n] = 1\n",
    "                if n-1 in records:\n",
    "                    records[n] = records[n]+records[n-1]\n",
    "                if n+1 in records:\n",
    "                    records[n] = records[n]+records[n+1]\n",
    "                if n-1 in records:\n",
    "                    records[n-1] = records[n]\n",
    "                if n+1 in records:\n",
    "                    records[n+1] = records[n]\n",
    "                max_len = max(max_len, records[n])\n",
    "                print(records)\n",
    "        # print(records)\n",
    "        return max_len\n",
    "\n",
    "\n",
    "s = Solution()\n",
    "# nums = [100,4,200,1, 3,2]\n",
    "nums = [0,3,7,2,5,8,4,6,0,1]\n",
    "s.longestConsecutive(nums)"
   ]
  },
  {
   "cell_type": "code",
   "execution_count": 23,
   "metadata": {},
   "outputs": [
    {
     "data": {
      "text/plain": [
       "0"
      ]
     },
     "execution_count": 23,
     "metadata": {},
     "output_type": "execute_result"
    }
   ],
   "source": [
    "from typing import List\n",
    "\n",
    "class Solution:\n",
    "    def longestConsecutive(self, nums: List[int]) -> int:\n",
    "        records = dict()\n",
    "        max_len = 0\n",
    "        for n in nums:\n",
    "            if n not in records:\n",
    "                records[n] = dict()\n",
    "                ln = records.get(n-1, 0)\n",
    "                rn = records.get(n+1, 0)\n",
    "                cn = ln+1+rn\n",
    "                print(n, ln, rn, cn)\n",
    "                records[n] = cn\n",
    "                records[n-ln] = cn\n",
    "                records[n+rn] = cn\n",
    "                max_len = max(max_len, cn)\n",
    "            print(records)\n",
    "            print('\\n')\n",
    "        return max_len\n",
    "\n",
    "\n",
    "s = Solution()\n",
    "# nums = [100,4,200,1, 3,2]\n",
    "# nums = [0,3,7,2,5,8,4,6,0,1]\n",
    "nums = []\n",
    "s.longestConsecutive(nums)"
   ]
  },
  {
   "cell_type": "code",
   "execution_count": null,
   "metadata": {},
   "outputs": [],
   "source": []
  }
 ],
 "metadata": {
  "interpreter": {
   "hash": "7c5d7306b163118f89fe049a1651390081b6f92596746532cb2761966b8ffecc"
  },
  "kernelspec": {
   "display_name": "Python 3.7.7 ('base')",
   "language": "python",
   "name": "python3"
  },
  "language_info": {
   "codemirror_mode": {
    "name": "ipython",
    "version": 3
   },
   "file_extension": ".py",
   "mimetype": "text/x-python",
   "name": "python",
   "nbconvert_exporter": "python",
   "pygments_lexer": "ipython3",
   "version": "3.7.7"
  },
  "orig_nbformat": 4
 },
 "nbformat": 4,
 "nbformat_minor": 2
}
