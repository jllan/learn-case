{
 "cells": [
  {
   "cell_type": "markdown",
   "metadata": {},
   "source": [
    "## Sort Colors\n",
    "\n",
    "### 题目描述\n",
    "给定一个包含红色、白色和蓝色，一共 n 个元素的数组，原地对它们进行排序，使得相同颜色的元素相邻，并按照红色、白色、蓝色顺序排列。\n",
    "此题中，我们使用整数 0、 1 和 2 分别表示红色、白色和蓝色。\n",
    "注意:\n",
    "不能使用代码库中的排序函数来解决这道题。\n",
    "\n",
    "示例:\n",
    ">输入: [2,0,2,1,1,0]  \n",
    "输出: [0,0,1,1,2,2]"
   ]
  },
  {
   "cell_type": "markdown",
   "metadata": {},
   "source": [
    "### 解法一\n",
    "维护三个指针p0、current、p2，使p0之前的数全是0， p0-current之间的数全是1， current-p2之间的数是待判断的数，p2之后的全是2。当current=p2时循环结束。"
   ]
  },
  {
   "cell_type": "code",
   "execution_count": 14,
   "metadata": {},
   "outputs": [],
   "source": [
    "class Solution:\n",
    "    def sortColors(self, nums: list) -> None:\n",
    "        \"\"\"\n",
    "        Do not return anything, modify nums in-place instead.\n",
    "        \"\"\"\n",
    "        p0 = current = 0\n",
    "        p2 = len(nums)-1\n",
    "        while current <= p2:\n",
    "            if nums[current] == 0:\n",
    "                nums[current], nums[p0] = nums[p0], nums[current]\n",
    "                current += 1\n",
    "                p0 += 1\n",
    "            elif nums[current] == 1:\n",
    "                current += 1\n",
    "            else:\n",
    "                nums[current], nums[p2] = nums[p2], nums[current]\n",
    "                p2 -= 1"
   ]
  },
  {
   "cell_type": "code",
   "execution_count": 13,
   "metadata": {},
   "outputs": [],
   "source": [
    "s = Solution()\n",
    "s.sortColors(nums = [0, 1, 2, 0, 2])"
   ]
  },
  {
   "cell_type": "code",
   "execution_count": null,
   "metadata": {},
   "outputs": [],
   "source": []
  }
 ],
 "metadata": {
  "kernelspec": {
   "display_name": "Python 3",
   "language": "python",
   "name": "python3"
  },
  "language_info": {
   "codemirror_mode": {
    "name": "ipython",
    "version": 3
   },
   "file_extension": ".py",
   "mimetype": "text/x-python",
   "name": "python",
   "nbconvert_exporter": "python",
   "pygments_lexer": "ipython3",
   "version": "3.7.3"
  }
 },
 "nbformat": 4,
 "nbformat_minor": 2
}
