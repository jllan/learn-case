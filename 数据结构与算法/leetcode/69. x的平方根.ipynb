{
 "cells": [
  {
   "cell_type": "markdown",
   "metadata": {},
   "source": [
    "## 给一个正整数，求其平方根，误差为0.001"
   ]
  },
  {
   "cell_type": "code",
   "execution_count": 32,
   "metadata": {},
   "outputs": [],
   "source": [
    "def get_sqrt1(x):\n",
    "    if x<0:\n",
    "        return -1\n",
    "    l = 0\n",
    "    r = x\n",
    "    percision = 0.001\n",
    "    while l<r:\n",
    "        m = (l+r)/2\n",
    "#         print(l, r, m, m**2)\n",
    "        if (x-percision)<=m**2<=(x+percision):\n",
    "            return m\n",
    "        elif m**2>(x+percision):\n",
    "            r = m\n",
    "        else:\n",
    "            l = m\n",
    "    return -1"
   ]
  },
  {
   "cell_type": "code",
   "execution_count": 33,
   "metadata": {},
   "outputs": [
    {
     "data": {
      "text/plain": [
       "3.000091552734375"
      ]
     },
     "execution_count": 33,
     "metadata": {},
     "output_type": "execute_result"
    }
   ],
   "source": [
    "get_sqrt1(9)"
   ]
  },
  {
   "cell_type": "code",
   "execution_count": 36,
   "metadata": {},
   "outputs": [],
   "source": [
    "# 方法二：这个方法更好一些，小数可以无线拆分下去，所以最后总能返回一个符合一定精度的结果\n",
    "def get_sqrt2(x):\n",
    "    if x<0:\n",
    "        return -1\n",
    "    l = 0\n",
    "    r = x\n",
    "    percision = 0.001\n",
    "    while (r-l)>=percision:\n",
    "        m = (l+r)/2\n",
    "#         print(l, r, m, m**2)\n",
    "        if m**2>x:\n",
    "            r = m\n",
    "        else:\n",
    "            l = m\n",
    "    return m"
   ]
  },
  {
   "cell_type": "code",
   "execution_count": 37,
   "metadata": {},
   "outputs": [
    {
     "data": {
      "text/plain": [
       "2.99981689453125"
      ]
     },
     "execution_count": 37,
     "metadata": {},
     "output_type": "execute_result"
    }
   ],
   "source": [
    "get_sqrt2(9)"
   ]
  },
  {
   "cell_type": "markdown",
   "metadata": {},
   "source": [
    "## 第69题：x 的平方根\n",
    "实现 int sqrt(int x) 函数, 计算并返回 x 的平方根，其中 x 是非负整数。\n",
    "\n",
    "由于返回类型是整数，结果只保留整数的部分，小数部分将被舍去。\n",
    "\n",
    "示例 1:\n",
    ">输入: 4  \n",
    "输出: 2  \n",
    "示例 2:  \n",
    "\n",
    ">输入: 8  \n",
    "输出: 2  \n",
    "说明: 8 的平方根是 2.82842..., 由于返回类型是整数，小数部分将被舍去。\n",
    "\n",
    "链接：https://leetcode-cn.com/problems/sqrtx\n"
   ]
  },
  {
   "cell_type": "code",
   "execution_count": 38,
   "metadata": {},
   "outputs": [],
   "source": [
    "class Solution:\n",
    "    def mySqrt(self, x: int) -> int:\n",
    "        if x<0:\n",
    "            return -1\n",
    "        l = 0\n",
    "        r = x\n",
    "        while l<=r:\n",
    "            m = (l+r)//2\n",
    "            if m**2<=x and (m+1)**2>x:\n",
    "                return m\n",
    "            elif m**2<x:\n",
    "                l = m+1\n",
    "            else:\n",
    "                r = m-1\n",
    "        return -1"
   ]
  },
  {
   "cell_type": "code",
   "execution_count": 39,
   "metadata": {},
   "outputs": [
    {
     "data": {
      "text/plain": [
       "2"
      ]
     },
     "execution_count": 39,
     "metadata": {},
     "output_type": "execute_result"
    }
   ],
   "source": [
    "s = Solution()\n",
    "s.mySqrt(8)"
   ]
  },
  {
   "cell_type": "code",
   "execution_count": null,
   "metadata": {},
   "outputs": [],
   "source": []
  }
 ],
 "metadata": {
  "kernelspec": {
   "display_name": "Python 3.7.3 64-bit ('base': conda)",
   "language": "python",
   "name": "python37364bitbasecondaabe6c6509053462d980e903b25d40641"
  },
  "language_info": {
   "codemirror_mode": {
    "name": "ipython",
    "version": 3
   },
   "file_extension": ".py",
   "mimetype": "text/x-python",
   "name": "python",
   "nbconvert_exporter": "python",
   "pygments_lexer": "ipython3",
   "version": "3.7.3"
  }
 },
 "nbformat": 4,
 "nbformat_minor": 2
}
