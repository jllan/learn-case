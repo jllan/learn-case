{
 "cells": [
  {
   "cell_type": "markdown",
   "metadata": {},
   "source": [
    "## 题目描述\n",
    "\n",
    "给你一个只包含 '(' 和 ')' 的字符串，找出最长有效（格式正确且连续）括号子串的长度。\n",
    "\n",
    "示例 1：\n",
    ">输入：s = \"(()\"  \n",
    "输出：2\n",
    "\n",
    "解释：最长有效括号子串是 \"()\"\n",
    "\n",
    "示例 2：\n",
    ">输入：s = \")()())\"  \n",
    "输出：4\n",
    "\n",
    "解释：最长有效括号子串是 \"()()\"\n",
    "\n",
    "示例 3：\n",
    ">输入：s = \"\"  \n",
    "输出：0\n",
    "\n",
    "链接：https://leetcode-cn.com/problems/longest-valid-parentheses\n"
   ]
  },
  {
   "cell_type": "code",
   "execution_count": 50,
   "metadata": {},
   "outputs": [
    {
     "data": {
      "text/plain": [
       "6"
      ]
     },
     "execution_count": 50,
     "metadata": {},
     "output_type": "execute_result"
    }
   ],
   "source": [
    "class Solution:\n",
    "    def longestValidParentheses(self, s: str) -> int:\n",
    "        if not s:\n",
    "            return 0\n",
    "        dp = [0] * len(s)  # 截至到每个位置时对应的最长有效括号\n",
    "        max_length = 0\n",
    "        for i in range(1, len(s)):\n",
    "            if s[i] == ')':\n",
    "                pre = i-dp[i-1]-1\n",
    "                if pre >= 0 and s[pre] == '(':\n",
    "                    dp[i] = dp[i-1]+2\n",
    "                    if pre > 0:   # 处理独立的括号对的情形 类似()()、()(())\n",
    "                        dp[i] += dp[pre-1]\n",
    "                    max_length = max(max_length, dp[i])\n",
    "        return max_length\n",
    "\n",
    "\n",
    "s = Solution()\n",
    "brackets = \"()(())\"\n",
    "s.longestValidParentheses(brackets)"
   ]
  },
  {
   "cell_type": "code",
   "execution_count": null,
   "metadata": {},
   "outputs": [],
   "source": []
  }
 ],
 "metadata": {
  "interpreter": {
   "hash": "7c5d7306b163118f89fe049a1651390081b6f92596746532cb2761966b8ffecc"
  },
  "kernelspec": {
   "display_name": "Python 3.8.3 ('base')",
   "language": "python",
   "name": "python3"
  },
  "language_info": {
   "name": "python",
   "version": "3.8.3"
  },
  "orig_nbformat": 4
 },
 "nbformat": 4,
 "nbformat_minor": 2
}
