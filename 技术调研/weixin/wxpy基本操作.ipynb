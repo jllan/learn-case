{
 "cells": [
  {
   "cell_type": "markdown",
   "metadata": {},
   "source": [
    "## 1. 基本操作"
   ]
  },
  {
   "cell_type": "code",
   "execution_count": 2,
   "metadata": {},
   "outputs": [
    {
     "name": "stderr",
     "output_type": "stream",
     "text": [
      "Getting uuid of QR code.\n",
      "Downloading QR code.\n",
      "Please scan the QR code to log in.\n",
      "Please press confirm on your phone.\n",
      "Loading the contact, this may take a little while.\n",
      "Login successfully as Jlan\n"
     ]
    }
   ],
   "source": [
    "# 导入模块\n",
    "from wxpy import *\n",
    "\n",
    "\n",
    "# 初始化机器人，扫码登陆\n",
    "bot = Bot()"
   ]
  },
  {
   "cell_type": "markdown",
   "metadata": {},
   "source": [
    "### 搜索好友"
   ]
  },
  {
   "cell_type": "code",
   "execution_count": 12,
   "metadata": {},
   "outputs": [],
   "source": [
    "my_friends = bot.friends()\n",
    "lan = my_friends.search('穿林打叶')[0]"
   ]
  },
  {
   "cell_type": "markdown",
   "metadata": {},
   "source": [
    "### 发送消息"
   ]
  },
  {
   "cell_type": "code",
   "execution_count": 13,
   "metadata": {},
   "outputs": [
    {
     "data": {
      "text/plain": [
       "↪ 穿林打叶 : 神经病 (Text)"
      ]
     },
     "execution_count": 13,
     "metadata": {},
     "output_type": "execute_result"
    }
   ],
   "source": [
    "lan.send('神经病')"
   ]
  },
  {
   "cell_type": "markdown",
   "metadata": {},
   "source": [
    "### 自动响应消息"
   ]
  },
  {
   "cell_type": "code",
   "execution_count": 35,
   "metadata": {},
   "outputs": [],
   "source": [
    "# 打印来自其他好友、群聊和公众号的消息\n",
    "@bot.register()\n",
    "def print_others(msg):\n",
    "    print(msg)"
   ]
  },
  {
   "cell_type": "code",
   "execution_count": 40,
   "metadata": {},
   "outputs": [],
   "source": [
    "# 回复 my_friend 的消息 (优先匹配后注册的函数!)\n",
    "@bot.register(lan)\n",
    "def reply_my_friend(msg):\n",
    "    return 'received: {} ({})'.format(msg.text, msg.type)"
   ]
  },
  {
   "cell_type": "code",
   "execution_count": 29,
   "metadata": {},
   "outputs": [
    {
     "name": "stdout",
     "output_type": "stream",
     "text": [
      "澎湃新闻 : 又一名高铁保洁员确诊，曾搭乘这15趟列车 (Sharing)\n"
     ]
    }
   ],
   "source": [
    "# 自动接受新的好友请求\n",
    "@bot.register(msg_types=FRIENDS)\n",
    "def auto_accept_friends(msg):\n",
    "    # 接受好友请求\n",
    "    new_friend = msg.card.accept()\n",
    "    # 向新的好友发送消息\n",
    "    new_friend.send('哈哈，我自动接受了你的好友请求')"
   ]
  },
  {
   "cell_type": "markdown",
   "metadata": {},
   "source": [
    "### 群操作相关"
   ]
  },
  {
   "cell_type": "code",
   "execution_count": 36,
   "metadata": {},
   "outputs": [
    {
     "data": {
      "text/plain": [
       "<Group: wxpy测试>"
      ]
     },
     "execution_count": 36,
     "metadata": {},
     "output_type": "execute_result"
    }
   ],
   "source": [
    "# 查找群\n",
    "my_groups = bot.groups()\n",
    "# my_groups\n",
    "wxpy_test_group = my_groups.search('wxpy测试')[1]\n",
    "wxpy_test_group"
   ]
  },
  {
   "cell_type": "code",
   "execution_count": 17,
   "metadata": {},
   "outputs": [
    {
     "data": {
      "text/plain": [
       "↪ wxpy测试群 : hi (Text)"
      ]
     },
     "execution_count": 17,
     "metadata": {},
     "output_type": "execute_result"
    }
   ],
   "source": [
    "# 发送群消息\n",
    "wxpy_test_group.send('hi')"
   ]
  },
  {
   "cell_type": "code",
   "execution_count": 18,
   "metadata": {},
   "outputs": [
    {
     "data": {
      "text/plain": [
       "[<Member: 兰儿>, <Member: 穿林打叶>, <Member: Jlan>]"
      ]
     },
     "execution_count": 18,
     "metadata": {},
     "output_type": "execute_result"
    }
   ],
   "source": [
    "# 输出群成员\n",
    "wxpy_test_group.members"
   ]
  },
  {
   "cell_type": "code",
   "execution_count": 19,
   "metadata": {},
   "outputs": [
    {
     "data": {
      "text/plain": [
       "True"
      ]
     },
     "execution_count": 19,
     "metadata": {},
     "output_type": "execute_result"
    }
   ],
   "source": [
    "# 测试好友是否在群中\n",
    "lan in wxpy_test_group"
   ]
  },
  {
   "cell_type": "markdown",
   "metadata": {},
   "source": [
    "## 2. 小实战\n",
    "检测指定的微信群，当有人@时，能自动回复"
   ]
  },
  {
   "cell_type": "code",
   "execution_count": 3,
   "metadata": {},
   "outputs": [],
   "source": [
    "# 智能对话机器人接口\n",
    "\n",
    "import urllib\n",
    "import base64\n",
    "import requests\n",
    "import json\n",
    "\n",
    "chatbot_url = 'http://irobot.percent.cn/api/chat'\n",
    "\n",
    "def chatbot_api(input_text):\n",
    "    content_after_quote = urllib.parse.quote(input_text)\n",
    "    content_after_b64encode = base64.b64encode(content_after_quote.encode())  #\n",
    "    content = content_after_b64encode[::-1]  # 字符串反转得到\n",
    "    post_data = {'session_id': '1111', 'content': content.decode()}\n",
    "    reply = requests.post(chatbot_url, data=json.dumps(post_data))\n",
    "    reply = reply.json()[\"content\"]\n",
    "    return reply"
   ]
  },
  {
   "cell_type": "code",
   "execution_count": 4,
   "metadata": {},
   "outputs": [
    {
     "data": {
      "text/plain": [
       "'你终于来和我说话啦'"
      ]
     },
     "execution_count": 4,
     "metadata": {},
     "output_type": "execute_result"
    }
   ],
   "source": [
    "chatbot_api('你好')"
   ]
  },
  {
   "cell_type": "code",
   "execution_count": 15,
   "metadata": {},
   "outputs": [
    {
     "name": "stdout",
     "output_type": "stream",
     "text": [
      "<Group: 工作、吃饭订餐群>\n"
     ]
    }
   ],
   "source": [
    "my_group = bot.groups().search('吃饭')[0]\n",
    "# my_friend = my_group.search('穿林打叶')[0]\n",
    "\n",
    "print(my_group)"
   ]
  },
  {
   "cell_type": "code",
   "execution_count": 16,
   "metadata": {},
   "outputs": [
    {
     "name": "stdout",
     "output_type": "stream",
     "text": [
      "input msg: 那就\n",
      "input msg: 我去\n",
      "input msg: 今天好像小区通知从今天开始，外地到京的要自行隔离14天\n"
     ]
    }
   ],
   "source": [
    "# 回复指定群聊中被 @ 的消息\n",
    "import jieba\n",
    "\n",
    "kws = ['傻逼', 'sb']\n",
    "\n",
    "@bot.register(my_group, TEXT)\n",
    "def auto_reply(msg):\n",
    "    # 如果是群聊，但没有被 @，则不回复\n",
    "    print(f'input msg: {msg.text}')\n",
    "    if isinstance(msg.chat, Group):\n",
    "        for kw in kws:\n",
    "            if kw in msg.text:\n",
    "                return '请文明讲话'\n",
    "        return ''.join(jieba.lcut(msg.text)[-3:])\n",
    "    if msg.is_at:\n",
    "        # 回复消息内容和类型\n",
    "#         return '收到消息: {} ({})'.format(msg.text, msg.type)\n",
    "        reply = chatbot_api(msg.text.split()[-1])\n",
    "        print(f'reply: {reply}')\n",
    "        return reply"
   ]
  },
  {
   "cell_type": "code",
   "execution_count": null,
   "metadata": {},
   "outputs": [],
   "source": []
  }
 ],
 "metadata": {
  "kernelspec": {
   "display_name": "Python 3",
   "language": "python",
   "name": "python3"
  },
  "language_info": {
   "codemirror_mode": {
    "name": "ipython",
    "version": 3
   },
   "file_extension": ".py",
   "mimetype": "text/x-python",
   "name": "python",
   "nbconvert_exporter": "python",
   "pygments_lexer": "ipython3",
   "version": "3.7.3"
  }
 },
 "nbformat": 4,
 "nbformat_minor": 2
}
