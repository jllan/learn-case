{
 "cells": [
  {
   "cell_type": "markdown",
   "metadata": {},
   "source": [
    "## 34. Find First and Last Position of Element in Sorted Array"
   ]
  },
  {
   "cell_type": "markdown",
   "metadata": {},
   "source": [
    "### 题目描述\n",
    "Given an array of integers nums sorted in ascending order, find the starting and ending position of a given target value.\n",
    "Your algorithm's runtime complexity must be in the order of O(log n).\n",
    "If the target is not found in the array, return [-1, -1].\n",
    "\n",
    "Example 1:\n",
    ">Input: nums = [5,7,7,8,8,10], target = 8  \n",
    "Output: [3,4]\n",
    "    \n",
    "Example 2:\n",
    ">Input: nums = [5,7,7,8,8,10], target = 6  \n",
    "Output: [-1,-1]\n"
   ]
  },
  {
   "cell_type": "markdown",
   "metadata": {},
   "source": [
    "### 方法一\n",
    "直接使用python list的index和count两个方法"
   ]
  },
  {
   "cell_type": "code",
   "execution_count": 5,
   "metadata": {},
   "outputs": [],
   "source": [
    "class Solution:\n",
    "    def searchRange(self, nums: list, target: int) -> list:\n",
    "        if target not in nums:\n",
    "            return [-1, -1]\n",
    "        start = nums.index(target)\n",
    "        count = nums.count(target)\n",
    "        return [start, start+count-1]"
   ]
  },
  {
   "cell_type": "markdown",
   "metadata": {},
   "source": [
    "### 方法二\n",
    "二分法"
   ]
  },
  {
   "cell_type": "code",
   "execution_count": 32,
   "metadata": {},
   "outputs": [],
   "source": [
    "class Solution:\n",
    "    def searchRange(self, nums: list, target: int) -> list:\n",
    "        start = 0\n",
    "        end = len(nums)-1\n",
    "        while start <= end:\n",
    "            middle = (start+end)//2\n",
    "            print(f'start: {start}; end: {end}; middle: {middle}; value: {nums[middle]}')\n",
    "            if nums[middle] > target:\n",
    "                end = middle-1  # 很重要的点，end=middle-1而不是end=middle，这样可以比较简单地处理当流程走到最左边的时候，start=middle+1同理\n",
    "            elif nums[middle] < target:\n",
    "                start = middle+1\n",
    "            else:\n",
    "                i = middle\n",
    "                while i>start:\n",
    "                    print(f'i: {i}; start: {start}')\n",
    "                    if nums[i-1] == target:\n",
    "                        i -= 1\n",
    "                    else:\n",
    "                        break\n",
    "                j = middle\n",
    "                while j < end:\n",
    "                    print(f'j: {j}; end: {end}')\n",
    "                    if nums[j+1] == target:\n",
    "                        j += 1\n",
    "                    else:\n",
    "                        break\n",
    "                return [i, j]\n",
    "        return [-1, -1]\n",
    "        "
   ]
  },
  {
   "cell_type": "code",
   "execution_count": 40,
   "metadata": {},
   "outputs": [
    {
     "name": "stdout",
     "output_type": "stream",
     "text": [
      "start: 0; end: 5; middle: 2; value: 7\n",
      "start: 3; end: 5; middle: 4; value: 8\n",
      "start: 5; end: 5; middle: 5; value: 10\n"
     ]
    },
    {
     "data": {
      "text/plain": [
       "[5, 5]"
      ]
     },
     "execution_count": 40,
     "metadata": {},
     "output_type": "execute_result"
    }
   ],
   "source": [
    "so = Solution()\n",
    "so.searchRange(nums=[5,7,7,8,8,10], target=10)"
   ]
  },
  {
   "cell_type": "code",
   "execution_count": null,
   "metadata": {},
   "outputs": [],
   "source": []
  }
 ],
 "metadata": {
  "kernelspec": {
   "display_name": "Python 3",
   "language": "python",
   "name": "python3"
  },
  "language_info": {
   "codemirror_mode": {
    "name": "ipython",
    "version": 3
   },
   "file_extension": ".py",
   "mimetype": "text/x-python",
   "name": "python",
   "nbconvert_exporter": "python",
   "pygments_lexer": "ipython3",
   "version": "3.7.3"
  }
 },
 "nbformat": 4,
 "nbformat_minor": 2
}
