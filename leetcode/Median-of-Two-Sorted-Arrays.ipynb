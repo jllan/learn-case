{
 "cells": [
  {
   "cell_type": "markdown",
   "metadata": {},
   "source": [
    "## Median of Two Sorted Arrays"
   ]
  },
  {
   "cell_type": "markdown",
   "metadata": {},
   "source": [
    "题目描述\n",
    "There are two sorted arrays nums1 and nums2 of size m and n respectively.  \n",
    "Find the median of the two sorted arrays. The overall run time complexity should be O(log (m+n)).  \n",
    "You may assume nums1 and nums2 cannot be both empty.  \n",
    "\n",
    "Example 1:\n",
    ">nums1 = [1, 3]  \n",
    "nums2 = [2]  \n",
    "The median is 2.0\n",
    "\n",
    "Example 2:\n",
    ">nums1 = [1, 2]  \n",
    "nums2 = [3, 4]    \n",
    "The median is (2 + 3)/2 = 2.5"
   ]
  },
  {
   "cell_type": "markdown",
   "metadata": {},
   "source": [
    "### 解法一\n",
    "首先进行两个list的有序合并，用两个指针分别指向两个list的开头"
   ]
  },
  {
   "cell_type": "code",
   "execution_count": 15,
   "metadata": {},
   "outputs": [],
   "source": [
    "class Solution:\n",
    "    def findMedianSortedArrays(self, nums1: list, nums2: list) -> float:\n",
    "        if not nums1:\n",
    "            sorted_combine_list = nums2\n",
    "        elif not nums2:\n",
    "            sorted_combine_list = nums1\n",
    "        elif nums1[-1]<=nums2[0]:\n",
    "            sorted_combine_list = nums1+nums2\n",
    "        elif nums2[-1]<=nums1[0]:\n",
    "            sorted_combine_list = nums2+nums1\n",
    "        else:\n",
    "            p, q = 0, 0\n",
    "            sorted_combine_list = []\n",
    "            while p < len(nums1) and q < len(nums2):\n",
    "                print(f'p: {p}; q: {q}; sorted_combine_list: {sorted_combine_list}')\n",
    "                if nums1[p] < nums2[q]:\n",
    "                    sorted_combine_list.append(nums1[p])\n",
    "                    p += 1\n",
    "                else:\n",
    "                    sorted_combine_list.append(nums2[q])\n",
    "                    q += 1\n",
    "            if p < len(nums1):\n",
    "                sorted_combine_list.extend(nums1[p:])\n",
    "            elif q < len(nums2):\n",
    "                sorted_combine_list.extend(nums2[q:])\n",
    "        print(sorted_combine_list)\n",
    "        mid = len(sorted_combine_list)//2\n",
    "        if len(sorted_combine_list)%2:\n",
    "            return sorted_combine_list[mid]\n",
    "        else:\n",
    "            return (sorted_combine_list[mid-1]+sorted_combine_list[mid])/2"
   ]
  },
  {
   "cell_type": "code",
   "execution_count": 16,
   "metadata": {},
   "outputs": [
    {
     "name": "stdout",
     "output_type": "stream",
     "text": [
      "[1, 2, 3, 4]\n"
     ]
    },
    {
     "data": {
      "text/plain": [
       "2.5"
      ]
     },
     "execution_count": 16,
     "metadata": {},
     "output_type": "execute_result"
    }
   ],
   "source": [
    "s = Solution()\n",
    "s.findMedianSortedArrays(nums1=[1,2], nums2=[3, 4])"
   ]
  },
  {
   "cell_type": "code",
   "execution_count": null,
   "metadata": {},
   "outputs": [],
   "source": []
  }
 ],
 "metadata": {
  "kernelspec": {
   "display_name": "Python 3",
   "language": "python",
   "name": "python3"
  },
  "language_info": {
   "codemirror_mode": {
    "name": "ipython",
    "version": 3
   },
   "file_extension": ".py",
   "mimetype": "text/x-python",
   "name": "python",
   "nbconvert_exporter": "python",
   "pygments_lexer": "ipython3",
   "version": "3.7.3"
  }
 },
 "nbformat": 4,
 "nbformat_minor": 2
}
