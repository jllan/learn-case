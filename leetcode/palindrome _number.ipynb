{
 "cells": [
  {
   "cell_type": "markdown",
   "metadata": {},
   "source": [
    "## 9. 回文数"
   ]
  },
  {
   "cell_type": "markdown",
   "metadata": {},
   "source": [
    "判断一个整数是否是回文数。回文数是指正序（从左向右）和倒序（从右向左）读都是一样的整数。\n",
    "\n",
    "示例 1:\n",
    ">输入: 121\n",
    "输出: true\n",
    "\n",
    "示例 2:\n",
    ">输入: -121\n",
    "输出: false\n",
    "解释: 从左向右读, 为 -121 。 从右向左读, 为 121- 。因此它不是一个回文数。\n",
    "\n",
    "示例 3:\n",
    ">输入: 10\n",
    "输出: false\n",
    "解释: 从右向左读, 为 01 。因此它不是一个回文数。\n",
    "进阶:\n",
    "\n",
    "你能不将整数转为字符串来解决这个问题吗？\n",
    "\n",
    "链接：https://leetcode-cn.com/problems/palindrome-number\n"
   ]
  },
  {
   "cell_type": "markdown",
   "metadata": {},
   "source": [
    "### 解法一\n",
    "72 ms\t13.3 MB"
   ]
  },
  {
   "cell_type": "code",
   "execution_count": 1,
   "metadata": {},
   "outputs": [],
   "source": [
    "class Solution:\n",
    "    def isPalindrome(self, x: int) -> bool:\n",
    "        if x < 0:\n",
    "            return False\n",
    "        if str(x) == str(x)[::-1]:\n",
    "            return True\n",
    "        else:\n",
    "            return False"
   ]
  },
  {
   "cell_type": "markdown",
   "metadata": {},
   "source": [
    "### 解法二\n",
    "96 ms\t13.2 MB"
   ]
  },
  {
   "cell_type": "code",
   "execution_count": 2,
   "metadata": {},
   "outputs": [],
   "source": [
    "class Solution:\n",
    "    def isPalindrome(self, x: int) -> bool:\n",
    "        if x < 0:\n",
    "            return False\n",
    "        \n",
    "        str_x = str(x)\n",
    "        head, tail = 0, len(str_x)-1\n",
    "        while head < tail:\n",
    "            if str_x[head] == str_x[tail]:\n",
    "                head += 1\n",
    "                tail -= 1\n",
    "            else:\n",
    "                return False\n",
    "        return True"
   ]
  },
  {
   "cell_type": "markdown",
   "metadata": {},
   "source": [
    "### 解法三\n",
    "248 ms\t13.4 MB"
   ]
  },
  {
   "cell_type": "code",
   "execution_count": 22,
   "metadata": {},
   "outputs": [],
   "source": [
    "class Solution:\n",
    "    def isPalindrome(self, x: int) -> bool:\n",
    "        if x < 0:\n",
    "            return False\n",
    "        \n",
    "        c = 0\n",
    "        x2 = x\n",
    "        \n",
    "        # 计算ｘ是几位数\n",
    "        while x2:\n",
    "            x2 = x2//10\n",
    "            c += 1\n",
    "\n",
    "        # 计算ｘ的末位和首位，判断是否相等\n",
    "        while x:\n",
    "            tail = x%10\n",
    "            head = x//10**(c-1)\n",
    "            print(f'x: {x}; tail: {tail}; head: {head}')\n",
    "            if head == tail:\n",
    "                x = ｘ-head*10**(c-1)  # 去除首位\n",
    "                x = x//10　　　　　　　　# 去除末位\n",
    "                c -= 2\n",
    "                \n",
    "            else:\n",
    "                return False\n",
    "        return True"
   ]
  },
  {
   "cell_type": "code",
   "execution_count": 24,
   "metadata": {},
   "outputs": [
    {
     "name": "stdout",
     "output_type": "stream",
     "text": [
      "c: 9\n",
      "x: 123454321; tail: 1; head: 1\n",
      "x: 2345432; tail: 2; head: 2\n",
      "x: 34543; tail: 3; head: 3\n",
      "x: 454; tail: 4; head: 4\n",
      "x: 5; tail: 5; head: 5\n"
     ]
    },
    {
     "data": {
      "text/plain": [
       "True"
      ]
     },
     "execution_count": 24,
     "metadata": {},
     "output_type": "execute_result"
    }
   ],
   "source": [
    "s = Solution()\n",
    "s.isPalindrome(123454321)"
   ]
  },
  {
   "cell_type": "code",
   "execution_count": null,
   "metadata": {},
   "outputs": [],
   "source": []
  }
 ],
 "metadata": {
  "kernelspec": {
   "display_name": "Python 3",
   "language": "python",
   "name": "python3"
  },
  "language_info": {
   "codemirror_mode": {
    "name": "ipython",
    "version": 3
   },
   "file_extension": ".py",
   "mimetype": "text/x-python",
   "name": "python",
   "nbconvert_exporter": "python",
   "pygments_lexer": "ipython3",
   "version": "3.7.3"
  }
 },
 "nbformat": 4,
 "nbformat_minor": 2
}
