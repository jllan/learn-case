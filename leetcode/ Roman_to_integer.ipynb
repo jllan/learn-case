{
 "cells": [
  {
   "cell_type": "markdown",
   "metadata": {},
   "source": [
    "##  Roman to Integer"
   ]
  },
  {
   "cell_type": "markdown",
   "metadata": {},
   "source": [
    "### 题目描述\n",
    "Roman numerals are represented by seven different symbols: I, V, X, L, C, D and M.\n",
    "\n",
    "```\n",
    "Symbol       Value\n",
    "I             1\n",
    "V             5\n",
    "X             10\n",
    "L             50\n",
    "C             100\n",
    "D             500\n",
    "M             1000\n",
    "```\n",
    "\n",
    "- I can be placed before V (5) and X (10) to make 4 and 9. \n",
    "- X can be placed before L (50) and C (100) to make 40 and 90. \n",
    "- C can be placed before D (500) and M (1000) to make 400 and 900.\n",
    "\n",
    "Example 1:\n",
    ">Input: \"III\"  \n",
    "Output: 3\n",
    "\n",
    "Example 2:\n",
    ">Input: \"IV\"  \n",
    "Output: 4\n",
    "\n",
    "Example 3:\n",
    ">Input: \"IX\"  \n",
    "Output: 9\n",
    "\n",
    "Example 4:\n",
    ">Input: \"LVIII\"  \n",
    "Output: 58  \n",
    "Explanation: L = 50, V= 5, III = 3.\n",
    "\n",
    "Example 5:\n",
    ">\n",
    "Input: \"MCMXCIV\"  \n",
    "Output: 1994  \n",
    "Explanation: M = 1000, CM = 900, XC = 90 and IV = 4.\n",
    "\n",
    "\n",
    "链接：https://leetcode-cn.com/problems/roman-to-integer\n"
   ]
  },
  {
   "cell_type": "markdown",
   "metadata": {},
   "source": [
    "### 方法一"
   ]
  },
  {
   "cell_type": "code",
   "execution_count": 18,
   "metadata": {},
   "outputs": [],
   "source": [
    "class Solution:\n",
    "    def romanToInt(self, s: str) -> int:\n",
    "        rom2int = {'I': 1, 'V': 5, 'X': 10, 'L':50, 'C': 100, 'D': 500, 'M': 1000}\n",
    "        result = 0\n",
    "\n",
    "        inx = 0\n",
    "        while inx < len(s)-1:\n",
    "            cur_int = rom2int[s[inx]]\n",
    "            next_int = rom2int[s[inx+1]]\n",
    "            if cur_int < next_int:\n",
    "                result += (next_int-cur_int)\n",
    "                inx += 2\n",
    "            else:\n",
    "                result += cur_int\n",
    "                inx += 1\n",
    "        if inx == len(s)-1:\n",
    "            result += rom2int[s[inx]]\n",
    "        return result"
   ]
  },
  {
   "cell_type": "markdown",
   "metadata": {},
   "source": [
    "### 方法二\n",
    "参考：https://leetcode-cn.com/problems/roman-to-integer/solution/2-xing-python-on-by-knifezhu/"
   ]
  },
  {
   "cell_type": "code",
   "execution_count": 19,
   "metadata": {},
   "outputs": [],
   "source": [
    "class Solution:\n",
    "    def romanToInt(self, s: str) -> int:\n",
    "        d = {'I':1, 'IV':3, 'V':5, 'IX':8, 'X':10, 'XL':30, 'L':50, 'XC':80, 'C':100, 'CD':300, 'D':500, 'CM':800, 'M':1000}\n",
    "        return sum(d.get(s[max(i-1, 0):i+1], d[n]) for i, n in enumerate(s))"
   ]
  },
  {
   "cell_type": "code",
   "execution_count": null,
   "metadata": {},
   "outputs": [],
   "source": []
  }
 ],
 "metadata": {
  "kernelspec": {
   "display_name": "Python 3",
   "language": "python",
   "name": "python3"
  },
  "language_info": {
   "codemirror_mode": {
    "name": "ipython",
    "version": 3
   },
   "file_extension": ".py",
   "mimetype": "text/x-python",
   "name": "python",
   "nbconvert_exporter": "python",
   "pygments_lexer": "ipython3",
   "version": "3.7.3"
  }
 },
 "nbformat": 4,
 "nbformat_minor": 2
}
