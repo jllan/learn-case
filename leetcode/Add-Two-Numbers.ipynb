{
 "cells": [
  {
   "cell_type": "markdown",
   "metadata": {},
   "source": [
    "# Add Two Numbers\n",
    "You are given two non-empty linked lists representing two non-negative integers. The digits are stored in reverse order and each of their nodes contain a single digit. Add the two numbers and return it as a linked list.\n",
    "You may assume the two numbers do not contain any leading zero, except the number 0 itself.\n",
    "\n",
    "Example:\n",
    ">Input: (2 -> 4 -> 3) + (5 -> 6 -> 4)  \n",
    "Output: 7 -> 0 -> 8  \n",
    "Explanation: 342 + 465 = 807."
   ]
  },
  {
   "cell_type": "markdown",
   "metadata": {},
   "source": [
    "## 方法一"
   ]
  },
  {
   "cell_type": "code",
   "execution_count": 19,
   "metadata": {},
   "outputs": [],
   "source": [
    "# Definition for singly-linked list.\n",
    "class ListNode:\n",
    "    def __init__(self, x, next=None):\n",
    "        self.val = x\n",
    "        self.next = next\n",
    "\n",
    "class Solution:\n",
    "    def addTwoNumbers(self, l1: ListNode, l2: ListNode) -> ListNode:\n",
    "        result = ListNode(0)\n",
    "        head = result   # 用来记录result的头节点，最后需要返回head\n",
    "        result_pre = ListNode(0)  # 用来记录result的前一个节点，因为最后如果result.val是0，该节点是不需要的，所以上一个节点的next需要设为None\n",
    "        while l1 and l2:\n",
    "            one_sum = l1.val+l2.val+result.val\n",
    "            result.val = one_sum%10  # 当前节点的值取除10的余数\n",
    "            result.next = ListNode(one_sum//10)  # 直接用进位的值来创建下一个节点\n",
    "            print(f'one_sum: {one_sum}; current val: {result.val}; next val: {result.next.val}')\n",
    "            \n",
    "            result_pre = result  # 记录当前节点\n",
    "            result = result.next  # 往下走一步\n",
    "            l1 = l1.next\n",
    "            l2 = l2.next\n",
    "            \n",
    "        if l1:\n",
    "            while l1:\n",
    "                one_sum = l1.val+result.val\n",
    "                result.val = one_sum%10\n",
    "                result.next = ListNode(one_sum//10)\n",
    "                print(f'one_sum: {one_sum}; current val: {result.val}; next val: {result.next.val}')\n",
    "                result_pre = result\n",
    "                result = result.next\n",
    "                l1 = l1.next\n",
    "        if l2:\n",
    "            while l2:\n",
    "                one_sum = l2.val+result.val\n",
    "                result.val = one_sum%10\n",
    "                result.next = ListNode(one_sum//10)\n",
    "                print(f'one_sum: {one_sum}; current val: {result.val}; next val: {result.next.val}')\n",
    "                result_pre = result\n",
    "                result = result.next\n",
    "                l2 = l2.next\n",
    "        if not result.val:\n",
    "            result = result_pre\n",
    "            result.next = None\n",
    "        else:\n",
    "            result.next = None\n",
    "        return head"
   ]
  },
  {
   "cell_type": "code",
   "execution_count": 14,
   "metadata": {},
   "outputs": [],
   "source": [
    "l1 = ListNode(2, ListNode(8, ListNode(9)))"
   ]
  },
  {
   "cell_type": "code",
   "execution_count": 13,
   "metadata": {},
   "outputs": [],
   "source": [
    "l2 = ListNode(5, ListNode(6, ListNode(7, ListNode(9))))"
   ]
  },
  {
   "cell_type": "code",
   "execution_count": 20,
   "metadata": {},
   "outputs": [
    {
     "name": "stdout",
     "output_type": "stream",
     "text": [
      "one_sum: 7; current val: 7; next val: 0\n",
      "one_sum: 14; current val: 4; next val: 1\n",
      "one_sum: 17; current val: 7; next val: 1\n",
      "l2: 9\n",
      "one_sum: 10; current val: 0; next val: 1\n"
     ]
    }
   ],
   "source": [
    "s = Solution()\n",
    "res = s.addTwoNumbers(l1, l2)"
   ]
  },
  {
   "cell_type": "code",
   "execution_count": 21,
   "metadata": {},
   "outputs": [
    {
     "name": "stdout",
     "output_type": "stream",
     "text": [
      "7\n",
      "4\n",
      "7\n",
      "0\n",
      "1\n"
     ]
    }
   ],
   "source": [
    "while res:\n",
    "    print(res.val)\n",
    "    res = res.next"
   ]
  }
 ],
 "metadata": {
  "kernelspec": {
   "display_name": "Python 3",
   "language": "python",
   "name": "python3"
  },
  "language_info": {
   "codemirror_mode": {
    "name": "ipython",
    "version": 3
   },
   "file_extension": ".py",
   "mimetype": "text/x-python",
   "name": "python",
   "nbconvert_exporter": "python",
   "pygments_lexer": "ipython3",
   "version": "3.7.3"
  }
 },
 "nbformat": 4,
 "nbformat_minor": 2
}
