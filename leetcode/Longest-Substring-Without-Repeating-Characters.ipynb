{
 "cells": [
  {
   "cell_type": "markdown",
   "metadata": {},
   "source": [
    "## Longest Substring Without Repeating Characters"
   ]
  },
  {
   "cell_type": "markdown",
   "metadata": {},
   "source": [
    "### 题目描述\n",
    "Given a string, find the length of the longest substring without repeating characters.\n",
    "\n",
    "Example 1:\n",
    ">Input: \"abcabcbb\"  \n",
    "Output: 3   \n",
    "Explanation: The answer is \"abc\", with the length of 3. \n",
    "\n",
    "Example 2:\n",
    ">Input: \"bbbbb\"  \n",
    "Output: 1  \n",
    "Explanation: The answer is \"b\", with the length of 1.\n",
    "\n",
    "Example 3:\n",
    ">Input: \"pwwkew\"  \n",
    "Output: 3"
   ]
  },
  {
   "cell_type": "markdown",
   "metadata": {},
   "source": [
    "### 解法一"
   ]
  },
  {
   "cell_type": "code",
   "execution_count": 22,
   "metadata": {},
   "outputs": [],
   "source": [
    "class Solution:\n",
    "    def lengthOfLongestSubstring(self, s: str) -> int:\n",
    "        max_len = 0\n",
    "        sub_str = ''\n",
    "        i = 0\n",
    "        while i < len(s):\n",
    "            ss = s[i:]  \n",
    "            for cur_str in ss:\n",
    "                if cur_str not in sub_str:\n",
    "                    sub_str += cur_str  # 如果当前字符没出现过，就把当前字符追加到子串后\n",
    "                else:\n",
    "                    if len(sub_str) > max_len:  \n",
    "                        max_len = len(sub_str)\n",
    "                    i = i+sub_str.index(cur_str)+1  # 如果当前字符在子串中出现过，从出现当前字符的位置的下一位开始新一轮的查找\n",
    "                    sub_str = ''\n",
    "                    break\n",
    "            if len(sub_str) > max_len:  # for循环一直执行到结束\n",
    "                max_len = len(sub_str)\n",
    "        return max_len\n",
    "                "
   ]
  },
  {
   "cell_type": "code",
   "execution_count": 6,
   "metadata": {},
   "outputs": [
    {
     "data": {
      "text/plain": [
       "3"
      ]
     },
     "execution_count": 6,
     "metadata": {},
     "output_type": "execute_result"
    }
   ],
   "source": [
    "s = Solution()\n",
    "s.lengthOfLongestSubstring('bacabbc')"
   ]
  },
  {
   "cell_type": "markdown",
   "metadata": {},
   "source": [
    "### 解法二\n",
    "其实和解法一差不多，只是做了很多简化，如果感觉难以理解，把样例的数据亲自走一遍就理解了  \n",
    "子串就是s[i:j]，如果当前字符未在子串中出现过，子串就会自动扩充以为；如果当前字符在子串中出现过，新的子串的开始位置(i)是前一个子串的开始位置+当前字符在前一个子串中的位置"
   ]
  },
  {
   "cell_type": "code",
   "execution_count": 5,
   "metadata": {},
   "outputs": [],
   "source": [
    "class Solution:\n",
    "    def lengthOfLongestSubstring(self, s: str) -> int:\n",
    "        max_len = 0\n",
    "        i = 0\n",
    "        for j in range(len(s)):\n",
    "            if s[j] not in s[i:j]:  # 子串就是s[i:j]，如果当前字符未在子串中出现过，子串就会自动扩充以为\n",
    "                max_len = max(max_len, j-i+1)                    \n",
    "            else:\n",
    "                i = i+s[i:j].index(s[j])+1  # 如果当前字符在子串中出现过，新的子串的开始位置(i)是前一个子串的开始位置+当前字符在前一个子串中的位置\n",
    "        return max_len"
   ]
  },
  {
   "cell_type": "code",
   "execution_count": null,
   "metadata": {},
   "outputs": [],
   "source": []
  }
 ],
 "metadata": {
  "kernelspec": {
   "display_name": "Python 3",
   "language": "python",
   "name": "python3"
  },
  "language_info": {
   "codemirror_mode": {
    "name": "ipython",
    "version": 3
   },
   "file_extension": ".py",
   "mimetype": "text/x-python",
   "name": "python",
   "nbconvert_exporter": "python",
   "pygments_lexer": "ipython3",
   "version": "3.7.3"
  }
 },
 "nbformat": 4,
 "nbformat_minor": 2
}
