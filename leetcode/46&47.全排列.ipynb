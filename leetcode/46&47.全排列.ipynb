{
 "cells": [
  {
   "cell_type": "markdown",
   "metadata": {},
   "source": [
    "## 全排列一\n",
    "给定一个没有重复数字的序列，返回其所有可能的全排列。\n",
    "\n",
    "示例:\n",
    ">输入: [1,2,3]  \n",
    "输出:  \n",
    "[  \n",
    "  [1,2,3],  \n",
    "  [1,3,2],  \n",
    "  [2,1,3],  \n",
    "  [2,3,1],  \n",
    "  [3,1,2],  \n",
    "  [3,2,1]  \n",
    "]"
   ]
  },
  {
   "cell_type": "code",
   "execution_count": 2,
   "metadata": {},
   "outputs": [],
   "source": [
    "class Solution:\n",
    "    def permute(self, nums: list) -> list:\n",
    "        state = [[]]\n",
    "        for num in nums:\n",
    "            state_new = []\n",
    "            for s in state:\n",
    "                s.append(num)\n",
    "                state_new.append(s)\n",
    "            state = state_new\n",
    "        return state"
   ]
  },
  {
   "cell_type": "code",
   "execution_count": 3,
   "metadata": {},
   "outputs": [
    {
     "data": {
      "text/plain": [
       "[[1, 2, 3]]"
      ]
     },
     "execution_count": 3,
     "metadata": {},
     "output_type": "execute_result"
    }
   ],
   "source": [
    "s = Solution()\n",
    "s.permute([1,2,3])"
   ]
  },
  {
   "cell_type": "code",
   "execution_count": 18,
   "metadata": {},
   "outputs": [],
   "source": [
    "class Solution:\n",
    "    def permute(self, nums: list) -> list:\n",
    "        results = []\n",
    "        def backtracking(res, inx):\n",
    "            if len(res)==len(nums):\n",
    "                results.append(res)\n",
    "                return\n",
    "            for i in range(inx, len(nums)):\n",
    "                print(res, nums[i])\n",
    "                backtracking(res+[nums[i]], inx+1)\n",
    "        backtracking([], 0)\n",
    "        return results"
   ]
  },
  {
   "cell_type": "code",
   "execution_count": 19,
   "metadata": {},
   "outputs": [
    {
     "name": "stdout",
     "output_type": "stream",
     "text": [
      "[] 1\n",
      "[1] 2\n",
      "[1, 2] 3\n",
      "[1] 3\n",
      "[1, 3] 3\n",
      "[] 2\n",
      "[2] 2\n",
      "[2, 2] 3\n",
      "[2] 3\n",
      "[2, 3] 3\n",
      "[] 3\n",
      "[3] 2\n",
      "[3, 2] 3\n",
      "[3] 3\n",
      "[3, 3] 3\n"
     ]
    },
    {
     "data": {
      "text/plain": [
       "[[1, 2, 3], [1, 3, 3], [2, 2, 3], [2, 3, 3], [3, 2, 3], [3, 3, 3]]"
      ]
     },
     "execution_count": 19,
     "metadata": {},
     "output_type": "execute_result"
    }
   ],
   "source": [
    "s = Solution()\n",
    "s.permute([1,2,3])"
   ]
  },
  {
   "cell_type": "code",
   "execution_count": null,
   "metadata": {},
   "outputs": [],
   "source": []
  }
 ],
 "metadata": {
  "kernelspec": {
   "display_name": "Python 3",
   "language": "python",
   "name": "python3"
  },
  "language_info": {
   "codemirror_mode": {
    "name": "ipython",
    "version": 3
   },
   "file_extension": ".py",
   "mimetype": "text/x-python",
   "name": "python",
   "nbconvert_exporter": "python",
   "pygments_lexer": "ipython3",
   "version": "3.7.3"
  }
 },
 "nbformat": 4,
 "nbformat_minor": 2
}
