{
 "cells": [
  {
   "cell_type": "markdown",
   "metadata": {},
   "source": [
    "## 最长公共前缀\n",
    "编写一个函数来查找字符串数组中的最长公共前缀。\n",
    "如果不存在公共前缀，返回空字符串 \"\"。\n",
    "\n",
    "示例 1:\n",
    ">输入: [\"flower\",\"flow\",\"flight\"]  \n",
    "输出: \"fl\"  \n",
    "\n",
    "示例 2:\n",
    ">输入: [\"dog\",\"racecar\",\"car\"]  \n",
    "输出: \"\"  \n",
    "解释: 输入不存在公共前缀。  \n",
    "\n",
    "说明:\n",
    "所有输入只包含小写字母 a-z 。\n",
    "\n",
    "来源：力扣（LeetCode）\n",
    "链接：https://leetcode-cn.com/problems/longest-common-prefix"
   ]
  },
  {
   "cell_type": "code",
   "execution_count": 4,
   "metadata": {},
   "outputs": [],
   "source": [
    "from typing import List\n",
    "\n",
    "class Solution:\n",
    "    def longestCommonPrefix(self, strs: List[str]) -> str:\n",
    "        res = ''\n",
    "        min_len = min([len(s) for s in strs])\n",
    "        for i in range(min_len):\n",
    "            if len({s[i] for s in strs})==1:\n",
    "                res += strs[0][i]\n",
    "            else:\n",
    "                break\n",
    "        return res"
   ]
  },
  {
   "cell_type": "code",
   "execution_count": 5,
   "metadata": {},
   "outputs": [
    {
     "data": {
      "text/plain": [
       "'fl'"
      ]
     },
     "execution_count": 5,
     "metadata": {},
     "output_type": "execute_result"
    }
   ],
   "source": [
    "s = Solution()\n",
    "s.longestCommonPrefix([\"flower\",\"flow\",\"flight\"])"
   ]
  },
  {
   "cell_type": "code",
   "execution_count": null,
   "metadata": {},
   "outputs": [],
   "source": []
  }
 ],
 "metadata": {
  "kernelspec": {
   "display_name": "Python 3",
   "language": "python",
   "name": "python3"
  },
  "language_info": {
   "codemirror_mode": {
    "name": "ipython",
    "version": 3
   },
   "file_extension": ".py",
   "mimetype": "text/x-python",
   "name": "python",
   "nbconvert_exporter": "python",
   "pygments_lexer": "ipython3",
   "version": "3.7.3"
  }
 },
 "nbformat": 4,
 "nbformat_minor": 2
}
