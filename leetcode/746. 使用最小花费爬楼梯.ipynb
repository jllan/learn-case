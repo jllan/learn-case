{
 "cells": [
  {
   "cell_type": "markdown",
   "metadata": {},
   "source": [
    "## 使用最小花费爬楼梯\n",
    "数组的每个索引做为一个阶梯，第 i个阶梯对应着一个非负数的体力花费值 cost[i](索引从0开始)。  \n",
    "每当你爬上一个阶梯你都要花费对应的体力花费值，然后你可以选择继续爬一个阶梯或者爬两个阶梯。  \n",
    "您需要找到达到楼层顶部的最低花费。在开始时，你可以选择从索引为 0 或 1 的元素作为初始阶梯。\n",
    "\n",
    "示例 1:\n",
    ">输入: cost = [10, 15, 20]  \n",
    "输出: 15  \n",
    "解释: 最低花费是从cost[1]开始，然后走两步即可到阶梯顶，一共花费15。  \n",
    "\n",
    "示例 2:\n",
    ">输入: cost = [1, 100, 1, 1, 1, 100, 1, 1, 100, 1]  \n",
    "输出: 6  \n",
    "解释: 最低花费方式是从cost[0]开始，逐个经过那些1，跳过cost[3]，一共花费6。  \n",
    "\n",
    "注意：\n",
    ">cost 的长度将会在 [2, 1000]。  \n",
    "每一个 cost[i] 将会是一个Integer类型，范围为 [0, 999]。\n",
    "\n",
    "\n",
    "链接：https://leetcode-cn.com/problems/min-cost-climbing-stairs"
   ]
  },
  {
   "cell_type": "code",
   "execution_count": 9,
   "metadata": {},
   "outputs": [],
   "source": [
    "# 解法一\n",
    "# 每次能爬一个或两个台阶，想象下我们平时爬台阶时，最后一个台阶是可以从前一个直接台阶跨过去或者从前前一个台阶登上去\n",
    "from typing import List\n",
    "\n",
    "class Solution:\n",
    "    def minCostClimbingStairs(self, cost: List[int]) -> int:\n",
    "        dp = [i for i in cost]\n",
    "        for i in range(2, len(cost)):\n",
    "            dp[i] = min(dp[i-1]+cost[i], dp[i-2]+cost[i])\n",
    "        return min(dp[-1], dp[-2])"
   ]
  },
  {
   "cell_type": "code",
   "execution_count": 8,
   "metadata": {},
   "outputs": [
    {
     "data": {
      "text/plain": [
       "15"
      ]
     },
     "execution_count": 8,
     "metadata": {},
     "output_type": "execute_result"
    }
   ],
   "source": [
    "s = Solution()\n",
    "s.minCostClimbingStairs([1, 100, 1, 1, 1, 100, 1, 1, 100, 1])\n",
    "s.minCostClimbingStairs([10, 15, 20])"
   ]
  },
  {
   "cell_type": "code",
   "execution_count": null,
   "metadata": {},
   "outputs": [],
   "source": []
  }
 ],
 "metadata": {
  "kernelspec": {
   "display_name": "Python 3",
   "language": "python",
   "name": "python3"
  },
  "language_info": {
   "codemirror_mode": {
    "name": "ipython",
    "version": 3
   },
   "file_extension": ".py",
   "mimetype": "text/x-python",
   "name": "python",
   "nbconvert_exporter": "python",
   "pygments_lexer": "ipython3",
   "version": "3.7.3"
  }
 },
 "nbformat": 4,
 "nbformat_minor": 2
}
