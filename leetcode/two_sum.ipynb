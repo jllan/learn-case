{
 "cells": [
  {
   "cell_type": "markdown",
   "metadata": {},
   "source": [
    "## 1. two sum"
   ]
  },
  {
   "cell_type": "markdown",
   "metadata": {},
   "source": [
    "### 题目描述\n",
    "给定一个整数数组 nums 和一个目标值 target，请你在该数组中找出和为目标值的那 两个 整数，并返回他们的数组下标。\n",
    "\n",
    "你可以假设每种输入只会对应一个答案。但是，你不能重复利用这个数组中同样的元素。\n",
    "\n",
    "示例:\n",
    ">给定 nums = [2, 7, 11, 15], target = 9  \n",
    "因为 nums[0] + nums[1] = 2 + 7 = 9  \n",
    "所以返回 [0, 1]"
   ]
  },
  {
   "cell_type": "markdown",
   "metadata": {},
   "source": [
    "### 解法一\n",
    "80 ms    13.5 MB"
   ]
  },
  {
   "cell_type": "code",
   "execution_count": 6,
   "metadata": {},
   "outputs": [],
   "source": [
    "class Solution:\n",
    "    def twoSum(self, nums: list, target: int):\n",
    "        nums2 = sorted(nums)\n",
    "        deviation = 0\n",
    "        while nums2[0] + nums2[-1] < target:\n",
    "            deviation += 1\n",
    "            nums2 = nums2[deviation:]\n",
    "            \n",
    "        i = 0\n",
    "        while i < len(nums2):\n",
    "            for inx, j in enumerate(nums2[i+1:]):\n",
    "                if nums2[i]+j == target:\n",
    "                    if nums2[i] != j:\n",
    "                        return [nums.index(nums2[i]), nums.index(j)]\n",
    "                    else:\n",
    "                        return [nums.index(nums2[i]), nums.index(nums2[i])+1+nums[nums.index(nums2[i])+1:].index(j)]\n",
    "            i += 1"
   ]
  },
  {
   "cell_type": "markdown",
   "metadata": {},
   "source": [
    "### 解法二"
   ]
  },
  {
   "cell_type": "code",
   "execution_count": null,
   "metadata": {},
   "outputs": [],
   "source": [
    "class Solution:\n",
    "    def twoSum(self, nums: list, target: int):\n",
    "        sorted_inx = sorted(range(len(nums)), key=lambda x: nums[x])\n",
    "        head = 0\n",
    "        tail = len(nums)-1\n",
    "        sum = nums[sorted_inx[head]] + nums[sorted_inx[tail]]\n",
    "        while sum != target:\n",
    "            if sum > target:\n",
    "                tail -= 1\n",
    "            elif sum < target:\n",
    "                head += 1\n",
    "            sum = nums[sorted_inx[head]] + nums[sorted_inx[tail]]\n",
    "        return sorted_inx[head], sorted_inx[tail]"
   ]
  }
 ],
 "metadata": {
  "kernelspec": {
   "display_name": "Python 3",
   "language": "python",
   "name": "python3"
  },
  "language_info": {
   "codemirror_mode": {
    "name": "ipython",
    "version": 3
   },
   "file_extension": ".py",
   "mimetype": "text/x-python",
   "name": "python",
   "nbconvert_exporter": "python",
   "pygments_lexer": "ipython3",
   "version": "3.7.3"
  }
 },
 "nbformat": 4,
 "nbformat_minor": 2
}
