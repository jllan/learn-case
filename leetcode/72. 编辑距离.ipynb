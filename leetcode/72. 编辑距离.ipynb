{
 "cells": [
  {
   "cell_type": "markdown",
   "metadata": {},
   "source": [
    "## 编辑距离\n",
    "给定两个单词 word1 和 word2，计算出将 word1 转换成 word2 所使用的最少操作数 。\n",
    "\n",
    "你可以对一个单词进行如下三种操作：\n",
    ">插入一个字符  \n",
    "删除一个字符  \n",
    "替换一个字符\n",
    "\n",
    "示例 1:\n",
    ">输入: word1 = \"horse\", word2 = \"ros\"  \n",
    "输出: 3  \n",
    "解释:   \n",
    "horse -> rorse (将 'h' 替换为 'r')  \n",
    "rorse -> rose (删除 'r')  \n",
    "rose -> ros (删除 'e')  \n",
    "\n",
    "示例 2:\n",
    ">输入: word1 = \"intention\", word2 = \"execution\"  \n",
    "输出: 5  \n",
    "解释:   \n",
    "intention -> inention (删除 't')  \n",
    "inention -> enention (将 'i' 替换为 'e')  \n",
    "enention -> exention (将 'n' 替换为 'x')  \n",
    "exention -> exection (将 'n' 替换为 'c')  \n",
    "exection -> execution (插入 'u')\n",
    "\n",
    "来源：力扣（LeetCode）\n",
    "链接：https://leetcode-cn.com/problems/edit-distance"
   ]
  },
  {
   "cell_type": "code",
   "execution_count": 17,
   "metadata": {},
   "outputs": [],
   "source": [
    "# 动态规划\n",
    "class Solution:\n",
    "    def minDistance(self, word1: str, word2: str) -> int:\n",
    "        if not (word1 and word2):\n",
    "            return max(len(word1), len(word2))\n",
    "        \n",
    "        m = len(word1)\n",
    "        n = len(word2)\n",
    "        \n",
    "        dp = [[0 for _ in range(m+1)] for _ in range(n+1)]  # 存储word1[:i]到word2[j]的min_ed\n",
    "        \n",
    "        for i in range(m+1):\n",
    "            dp[0][i] = i\n",
    "        for j in range(n+1):\n",
    "            dp[j][0] = j\n",
    "            \n",
    "        for i in range(1, m+1):\n",
    "            for j in range(1, n+1):\n",
    "                if word1[i-1]==word2[j-1]:\n",
    "                    dp[j][i] = dp[j-1][i-1]\n",
    "                else:\n",
    "                    dp[j][i] = min(dp[j][i-1], dp[j-1][i], dp[j-1][i-1])+1\n",
    "        return dp[-1][-1]"
   ]
  },
  {
   "cell_type": "code",
   "execution_count": 18,
   "metadata": {},
   "outputs": [
    {
     "data": {
      "text/plain": [
       "3"
      ]
     },
     "execution_count": 18,
     "metadata": {},
     "output_type": "execute_result"
    }
   ],
   "source": [
    "s = Solution()\n",
    "s.minDistance(word1=\"horse\", word2=\"ros\")"
   ]
  },
  {
   "cell_type": "code",
   "execution_count": null,
   "metadata": {},
   "outputs": [],
   "source": []
  }
 ],
 "metadata": {
  "kernelspec": {
   "display_name": "Python 3",
   "language": "python",
   "name": "python3"
  },
  "language_info": {
   "codemirror_mode": {
    "name": "ipython",
    "version": 3
   },
   "file_extension": ".py",
   "mimetype": "text/x-python",
   "name": "python",
   "nbconvert_exporter": "python",
   "pygments_lexer": "ipython3",
   "version": "3.7.3"
  }
 },
 "nbformat": 4,
 "nbformat_minor": 2
}
