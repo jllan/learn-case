{
 "cells": [
  {
   "cell_type": "markdown",
   "metadata": {},
   "source": [
    "## 二叉树的层次遍历\n",
    "给定一个二叉树，返回其按层次遍历的节点值。 （即逐层地，从左到右访问所有节点）。\n",
    "\n",
    "例如:\n",
    "给定二叉树: [3,9,20,null,null,15,7],  \n",
    "```\n",
    "    3  \n",
    "   / \\  \n",
    "  9  20  \n",
    "    /  \\  \n",
    "   15   7  \n",
    "```\n",
    "返回其层次遍历结果：  \n",
    "```\n",
    "[  \n",
    "  [3],  \n",
    "  [9,20],  \n",
    "  [15,7]  \n",
    "]\n",
    "```\n",
    "\n",
    "链接：https://leetcode-cn.com/problems/binary-tree-level-order-traversal"
   ]
  },
  {
   "cell_type": "code",
   "execution_count": null,
   "metadata": {},
   "outputs": [],
   "source": [
    "from typing import List\n",
    "\n",
    "# Definition for a binary tree node.\n",
    "class TreeNode:\n",
    "    def __init__(self, x):\n",
    "        self.val = x\n",
    "        self.left = None\n",
    "        self.right = None\n",
    "\n",
    "class Solution:\n",
    "    def levelOrder(self, root: TreeNode) -> List[List[int]]:\n",
    "        nodes = [root]\n",
    "        levels = []\n",
    "        while nodes:\n",
    "            levels.append(root.val)\n",
    "            if root.left:\n",
    "                nodes.append(root.left)\n",
    "            if root.right:\n",
    "                nodes.append(root.right)\n",
    "            nodes = "
   ]
  }
 ],
 "metadata": {
  "kernelspec": {
   "display_name": "Python 3",
   "language": "python",
   "name": "python3"
  },
  "language_info": {
   "codemirror_mode": {
    "name": "ipython",
    "version": 3
   },
   "file_extension": ".py",
   "mimetype": "text/x-python",
   "name": "python",
   "nbconvert_exporter": "python",
   "pygments_lexer": "ipython3",
   "version": "3.7.3"
  }
 },
 "nbformat": 4,
 "nbformat_minor": 2
}
