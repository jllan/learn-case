{
 "cells": [
  {
   "cell_type": "markdown",
   "metadata": {},
   "source": [
    "## 最大子序和"
   ]
  },
  {
   "cell_type": "markdown",
   "metadata": {},
   "source": [
    "给定一个整数数组 nums ，找到一个具有最大和的连续子数组（子数组最少包含一个元素），返回其最大和。\n",
    "\n",
    "示例:\n",
    ">输入: [-2,1,-3,4,-1,2,1,-5,4],  \n",
    "输出: 6  \n",
    "解释: 连续子数组 [4,-1,2,1] 的和最大，为 6。"
   ]
  },
  {
   "cell_type": "code",
   "execution_count": 25,
   "metadata": {},
   "outputs": [],
   "source": [
    "# 解法一\n",
    "class Solution:\n",
    "    def maxSubArray(self, nums: list) -> int:\n",
    "        res = nums[0]\n",
    "        current_sum = 0\n",
    "        i = 0\n",
    "        for i in range(len(nums)):\n",
    "            if current_sum > 0:\n",
    "                current_sum = current_sum + nums[i]\n",
    "#             if current_sum + nums[i] > 0:\n",
    "#                 current_sum = current_sum + nums[i]\n",
    "            else:\n",
    "                current_sum = nums[i]\n",
    "            res = max(res, current_sum)\n",
    "        return res"
   ]
  },
  {
   "cell_type": "code",
   "execution_count": 27,
   "metadata": {},
   "outputs": [
    {
     "data": {
      "text/plain": [
       "8"
      ]
     },
     "execution_count": 27,
     "metadata": {},
     "output_type": "execute_result"
    }
   ],
   "source": [
    "s = Solution()\n",
    "# res = s.maxSubArray([-2,4,-3,4,1,-2,3,-5,4])\n",
    "res = s.maxSubArray([-2,8,-3,-1,2])\n",
    "res"
   ]
  },
  {
   "cell_type": "code",
   "execution_count": 18,
   "metadata": {},
   "outputs": [],
   "source": [
    "# 解法二\n",
    "# 用each_max存储每一个[:i]的的最大子串和\n",
    "class Solution:\n",
    "    def maxSubArray(self, nums: list) -> int:\n",
    "        each_max = dict()\n",
    "        res = nums[0]\n",
    "        i = 0\n",
    "        while i < len(nums):\n",
    "            if i == 0:\n",
    "                each_max[i] = nums[i]\n",
    "            else:\n",
    "                each_max[i] = max(each_max[i-1]+nums[i], nums[i])\n",
    "            res = max(res, each_max[i])\n",
    "            i += 1\n",
    "        return res"
   ]
  },
  {
   "cell_type": "code",
   "execution_count": 17,
   "metadata": {},
   "outputs": [
    {
     "data": {
      "text/plain": [
       "7"
      ]
     },
     "execution_count": 17,
     "metadata": {},
     "output_type": "execute_result"
    }
   ],
   "source": [
    "s = Solution()\n",
    "res = s.maxSubArray([-2,4,-3,4,1,-2,3,-5,4])\n",
    "res"
   ]
  },
  {
   "cell_type": "code",
   "execution_count": null,
   "metadata": {},
   "outputs": [],
   "source": []
  }
 ],
 "metadata": {
  "kernelspec": {
   "display_name": "Python 3",
   "language": "python",
   "name": "python3"
  },
  "language_info": {
   "codemirror_mode": {
    "name": "ipython",
    "version": 3
   },
   "file_extension": ".py",
   "mimetype": "text/x-python",
   "name": "python",
   "nbconvert_exporter": "python",
   "pygments_lexer": "ipython3",
   "version": "3.7.3"
  }
 },
 "nbformat": 4,
 "nbformat_minor": 2
}
