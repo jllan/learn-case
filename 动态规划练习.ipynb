{
 "cells": [
  {
   "cell_type": "markdown",
   "metadata": {},
   "source": [
    "## 动态规划练习"
   ]
  },
  {
   "cell_type": "markdown",
   "metadata": {},
   "source": [
    "### 题一\n",
    "爬台阶问题，一次可以爬一级也可以爬两级，共有10级台阶，共有多少种方法  \n",
    "f(n) = f(n-1)+f(n-2)"
   ]
  },
  {
   "cell_type": "code",
   "execution_count": 35,
   "metadata": {},
   "outputs": [],
   "source": [
    "def palouti(n):\n",
    "    counts = dict()\n",
    "    for i in range(n+1):\n",
    "        if i > 2:\n",
    "            counts[i] = counts[i-1]+counts[i-2]\n",
    "            print(counts[i])\n",
    "        else:\n",
    "            counts[i] = i\n",
    "        \n",
    "    return counts[n]\n",
    "        "
   ]
  },
  {
   "cell_type": "code",
   "execution_count": 36,
   "metadata": {},
   "outputs": [
    {
     "name": "stdout",
     "output_type": "stream",
     "text": [
      "3\n",
      "5\n",
      "8\n",
      "13\n",
      "21\n",
      "34\n",
      "55\n",
      "89\n"
     ]
    },
    {
     "data": {
      "text/plain": [
       "89"
      ]
     },
     "execution_count": 36,
     "metadata": {},
     "output_type": "execute_result"
    }
   ],
   "source": [
    "palouti(10)"
   ]
  },
  {
   "cell_type": "markdown",
   "metadata": {},
   "source": [
    "### 题二\n",
    "有面额为1、5、11的钱币，现在要用最少的张数凑出来w  \n",
    "f(w) = min(f(w-1), f(w-5), f(w-11)) + 1"
   ]
  },
  {
   "cell_type": "code",
   "execution_count": 37,
   "metadata": {},
   "outputs": [],
   "source": [
    "def f(w):\n",
    "    counts = dict()\n",
    "    counts[0] = 0\n",
    "    for i in range(w+1):\n",
    "        if i-11 >= 0:\n",
    "            counts[i] = min(counts[i-11], counts[i-5], counts[i-1])+1\n",
    "        elif i-5 >= 0:\n",
    "            counts[i] = min(counts[i-5], counts[i-1])+1\n",
    "        elif i-1 >= 0:\n",
    "            counts[i] = counts[i-1]+1\n",
    "        else:\n",
    "            continue\n",
    "    print(counts[w])\n",
    "    \n",
    "    \n",
    "    # 倒推回去看下每个币种用几张\n",
    "    j = w\n",
    "    while j>0:\n",
    "        if j>=11:\n",
    "            cur = sorted([1, 5, 11], key=lambda x: counts[j-x])[0]\n",
    "        elif j>=5:\n",
    "            cur = sorted([1, 5], key=lambda x: counts[j-x])[0]\n",
    "        else:\n",
    "            cur = 1\n",
    "        j = j-cur\n",
    "        print(cur, j)"
   ]
  },
  {
   "cell_type": "code",
   "execution_count": 38,
   "metadata": {},
   "outputs": [
    {
     "name": "stdout",
     "output_type": "stream",
     "text": [
      "7\n",
      "1 50\n",
      "1 49\n",
      "5 44\n",
      "11 33\n",
      "11 22\n",
      "11 11\n",
      "11 0\n"
     ]
    }
   ],
   "source": [
    "f(51)"
   ]
  },
  {
   "cell_type": "code",
   "execution_count": null,
   "metadata": {},
   "outputs": [],
   "source": []
  }
 ],
 "metadata": {
  "kernelspec": {
   "display_name": "Python 3",
   "language": "python",
   "name": "python3"
  },
  "language_info": {
   "codemirror_mode": {
    "name": "ipython",
    "version": 3
   },
   "file_extension": ".py",
   "mimetype": "text/x-python",
   "name": "python",
   "nbconvert_exporter": "python",
   "pygments_lexer": "ipython3",
   "version": "3.7.3"
  }
 },
 "nbformat": 4,
 "nbformat_minor": 2
}
