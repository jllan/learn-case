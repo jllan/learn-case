{
 "cells": [
  {
   "cell_type": "markdown",
   "metadata": {},
   "source": [
    "## 动态规划练习"
   ]
  },
  {
   "cell_type": "markdown",
   "metadata": {},
   "source": [
    "### 题一：爬台阶\n",
    "爬台阶问题，一次可以爬一级也可以爬两级，共有10级台阶，共有多少种方法  \n",
    "f(n) = f(n-1)+f(n-2)"
   ]
  },
  {
   "cell_type": "code",
   "execution_count": 35,
   "metadata": {},
   "outputs": [],
   "source": [
    "def palouti(n):\n",
    "    counts = dict()\n",
    "    for i in range(n+1):\n",
    "        if i > 2:\n",
    "            counts[i] = counts[i-1]+counts[i-2]\n",
    "            print(counts[i])\n",
    "        else:\n",
    "            counts[i] = i\n",
    "        \n",
    "    return counts[n]\n",
    "        "
   ]
  },
  {
   "cell_type": "code",
   "execution_count": 36,
   "metadata": {},
   "outputs": [
    {
     "name": "stdout",
     "output_type": "stream",
     "text": [
      "3\n",
      "5\n",
      "8\n",
      "13\n",
      "21\n",
      "34\n",
      "55\n",
      "89\n"
     ]
    },
    {
     "data": {
      "text/plain": [
       "89"
      ]
     },
     "execution_count": 36,
     "metadata": {},
     "output_type": "execute_result"
    }
   ],
   "source": [
    "palouti(10)"
   ]
  },
  {
   "cell_type": "markdown",
   "metadata": {},
   "source": [
    "### 题二：凑钱\n",
    "有面额为1、5、11的钱币，现在要用最少的张数凑出来w  \n",
    "f(w) = min(f(w-1), f(w-5), f(w-11)) + 1"
   ]
  },
  {
   "cell_type": "code",
   "execution_count": 37,
   "metadata": {},
   "outputs": [],
   "source": [
    "def f(w):\n",
    "    counts = dict()\n",
    "    counts[0] = 0\n",
    "    for i in range(w+1):\n",
    "        if i-11 >= 0:\n",
    "            counts[i] = min(counts[i-11], counts[i-5], counts[i-1])+1\n",
    "        elif i-5 >= 0:\n",
    "            counts[i] = min(counts[i-5], counts[i-1])+1\n",
    "        elif i-1 >= 0:\n",
    "            counts[i] = counts[i-1]+1\n",
    "        else:\n",
    "            continue\n",
    "    print(counts[w])\n",
    "    \n",
    "    \n",
    "    # 倒推回去看下每个币种用几张\n",
    "    j = w\n",
    "    while j>0:\n",
    "        if j>=11:\n",
    "            cur = sorted([1, 5, 11], key=lambda x: counts[j-x])[0]\n",
    "        elif j>=5:\n",
    "            cur = sorted([1, 5], key=lambda x: counts[j-x])[0]\n",
    "        else:\n",
    "            cur = 1\n",
    "        j = j-cur\n",
    "        print(cur, j)"
   ]
  },
  {
   "cell_type": "code",
   "execution_count": 38,
   "metadata": {},
   "outputs": [
    {
     "name": "stdout",
     "output_type": "stream",
     "text": [
      "7\n",
      "1 50\n",
      "1 49\n",
      "5 44\n",
      "11 33\n",
      "11 22\n",
      "11 11\n",
      "11 0\n"
     ]
    }
   ],
   "source": [
    "f(51)"
   ]
  },
  {
   "cell_type": "markdown",
   "metadata": {},
   "source": [
    "### 题三-1：连续最长递增子串\n",
    "连续最长上升子序列（LIS）问题：给定长度为n的序列a，从a中抽取出一个连续子序列，这个子序列需要单调递增。问最长的连续上升子序列（LIS）的长度。  \n",
    "例：\n",
    "> input: 1,5,3,4,6,9,7,8  \n",
    "output: 3,4,6,9，长度为4"
   ]
  },
  {
   "cell_type": "code",
   "execution_count": 3,
   "metadata": {},
   "outputs": [],
   "source": [
    "# 用each_max存储每一个[:i]的的最大子串和\n",
    "class Solution:\n",
    "    def lis(self, nums: list) -> int:\n",
    "        if not nums:\n",
    "            return None\n",
    "        if len(nums) == 1:\n",
    "            return 1\n",
    "        dp = [1]*len(nums)\n",
    "        dp[0] = 1\n",
    "        for i in range(1, len(nums)):\n",
    "            if nums[i]>nums[i-1]:\n",
    "                dp[i] = dp[i-1] + 1\n",
    "        return max(dp)"
   ]
  },
  {
   "cell_type": "code",
   "execution_count": 4,
   "metadata": {},
   "outputs": [
    {
     "data": {
      "text/plain": [
       "4"
      ]
     },
     "execution_count": 4,
     "metadata": {},
     "output_type": "execute_result"
    }
   ],
   "source": [
    "s = Solution()\n",
    "res = s.lis([1,5,3,4,6,9,7,8])\n",
    "res"
   ]
  },
  {
   "cell_type": "markdown",
   "metadata": {},
   "source": [
    "### 题三-2：最长递增子串（不需要连续）\n",
    "最长上升子序列（LIS）问题：给定长度为n的序列a，从a中抽取出一个子序列，这个子序列需要单调递增。问最长的上升子序列（LIS）的长度。  \n",
    "例：\n",
    "> input: 1,5,3,4,6,9,7,8  \n",
    "output: 1,3,4,6,7,8，长度为6"
   ]
  },
  {
   "cell_type": "code",
   "execution_count": 8,
   "metadata": {},
   "outputs": [],
   "source": [
    "class Solution:\n",
    "    def lis(self, nums: list) -> int:\n",
    "        if not nums:\n",
    "            return None\n",
    "        if len(nums) == 1:\n",
    "            return 1\n",
    "        dp = [1]*len(nums)\n",
    "        for i in range(1, len(nums)):\n",
    "            for j in range(i):\n",
    "                if nums[i]>nums[j]:\n",
    "                    dp[i] = max(dp[j]+1, dp[i])\n",
    "        return max(dp)"
   ]
  },
  {
   "cell_type": "code",
   "execution_count": 9,
   "metadata": {},
   "outputs": [
    {
     "data": {
      "text/plain": [
       "6"
      ]
     },
     "execution_count": 9,
     "metadata": {},
     "output_type": "execute_result"
    }
   ],
   "source": [
    "s = Solution()\n",
    "res = s.lis([1,5,3,4,6,9,7,8])\n",
    "res"
   ]
  },
  {
   "cell_type": "markdown",
   "metadata": {},
   "source": [
    "### 题四：采药\n",
    "山洞里有一些不同的草药，采每一株都需要一些时间，每一株也有它自身的价值。我会给你一段时间，在这段时间里，你可以采到一些草药。如果你是一个聪明的孩子，你应该可以让采到的草药的总价值最大。\n",
    "\n",
    "第一行有2个整数T(1≤T≤1000)和M(1≤M≤100)，用一个空格隔开，T代表总共能够用来采药的时间，M代表山洞里的草药的数目。\n",
    "接下来的M行每行包括两个在1到100之间（包括1和100）的整数，分别表示采摘某株草药的时间和这株草药的价值\n",
    "\n",
    "例：\n",
    "input\n",
    ">70 3  \n",
    "71 100  \n",
    "69 1  \n",
    "1 2\n",
    "\n",
    "output\n",
    ">3"
   ]
  },
  {
   "cell_type": "code",
   "execution_count": null,
   "metadata": {},
   "outputs": [],
   "source": [
    "def caiyao(all_time, yao_count, yao_dict):\n",
    "    res = dict()\n",
    "    per_times = sorted(yao_dict.keys(), reverse=True)\n",
    "    for t in range(all_time):\n",
    "        while i\n",
    "        if t>per_times[i]:\n",
    "            res[t] = [res[t-per_times[i]]+yao_dict[per_times[i]] for i in range(yao_count)]\n",
    "        elif t"
   ]
  }
 ],
 "metadata": {
  "kernelspec": {
   "display_name": "Python 3",
   "language": "python",
   "name": "python3"
  },
  "language_info": {
   "codemirror_mode": {
    "name": "ipython",
    "version": 3
   },
   "file_extension": ".py",
   "mimetype": "text/x-python",
   "name": "python",
   "nbconvert_exporter": "python",
   "pygments_lexer": "ipython3",
   "version": "3.7.3"
  }
 },
 "nbformat": 4,
 "nbformat_minor": 2
}
