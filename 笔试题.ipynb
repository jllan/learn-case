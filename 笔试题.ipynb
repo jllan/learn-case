{
 "cells": [
  {
   "cell_type": "markdown",
   "metadata": {
    "collapsed": true,
    "deletable": true,
    "editable": true
   },
   "source": [
    "### 1. 搜狐笔试题，生成一个无限自生序列\n",
    "输入 2, 1, 3, 1    10\n",
    "\n",
    "输出 2,2,1,1,3,1,2,2,2,1"
   ]
  },
  {
   "cell_type": "code",
   "execution_count": 2,
   "metadata": {
    "collapsed": false
   },
   "outputs": [
    {
     "name": "stdout",
     "output_type": "stream",
     "text": [
      "请输入原始序列: 3 1 2\n",
      "请输入要生成的序列长度: 30\n",
      "[3, 3, 3, 1, 1, 1, 2, 2, 2, 3, 1, 2, 3, 3, 1, 1, 2, 2, 3, 3, 3, 1, 2, 2, 3, 3, 3, 1, 1, 1, 2]\n",
      "31\n"
     ]
    }
   ],
   "source": [
    "l = input('请输入原始序列: ').split()\n",
    "l = [int(i) for i in l]\n",
    "count = int(input('请输入要生成的序列长度: '))\n",
    "\n",
    "result = []\n",
    "start = l[0]\n",
    "result.extend([start] * start)\n",
    "\n",
    "tmp = result.copy()\n",
    "tmp.pop()\n",
    "i = 1\n",
    "\n",
    "def f(tmp, i):\n",
    "    tmp2 = []\n",
    "    for j in tmp:\n",
    "        if len(result) > count:\n",
    "            return\n",
    "        res = [l[i % len(l)]] * j\n",
    "        tmp2.extend(res)\n",
    "        result.extend(res)\n",
    "        i = i + 1\n",
    "    f(tmp2, i)\n",
    "\n",
    "\n",
    "f(tmp, i)\n",
    "print(result)\n",
    "print(len(result))"
   ]
  },
  {
   "cell_type": "markdown",
   "metadata": {},
   "source": [
    "### 2. 腾讯笔试题，对于一个正整数，计算有几对质数之和等于该数\n",
    "给定一个正整数，编写程序计算有多少对质数的和等于输入的这个正整数，并输出结果。输入值小于1000。\n",
    "如，输入为10, 程序应该输出结果为2。（共有两对质数的和为10,分别为(5,5),(3,7)） "
   ]
  },
  {
   "cell_type": "code",
   "execution_count": 6,
   "metadata": {
    "collapsed": false
   },
   "outputs": [
    {
     "name": "stdout",
     "output_type": "stream",
     "text": [
      "20\n",
      "[(3, 17), (7, 13)]\n"
     ]
    }
   ],
   "source": [
    "def iszs(num):\n",
    "    i = 2\n",
    "    while i <= num/2:\n",
    "        if num % i == 0:\n",
    "            return False\n",
    "        else:\n",
    "            i += 1\n",
    "    return True\n",
    "\n",
    "def ff(num):\n",
    "    count = 0\n",
    "    result = []\n",
    "    i = 2\n",
    "    while i <= num/2:\n",
    "        if iszs(i):\n",
    "            rest = num - i\n",
    "            if iszs(rest):\n",
    "                count += 1\n",
    "                result.append((i, rest))\n",
    "        i += 1\n",
    "    return result\n",
    "\n",
    "num = int(input())\n",
    "print(ff(num))"
   ]
  },
  {
   "cell_type": "markdown",
   "metadata": {},
   "source": [
    "### 3. geohash编码：geohash常用于将二维的经纬度转换为字符串，分为两步：第一步是经纬度的二进制编码，第二步是base32转码。\n",
    "\n",
    "此题考察纬度的二进制编码：算法对纬度[-90, 90]通过二分法进行无限逼近（取决于所需精度，本题精度为6）。注意，本题进行二分法逼近过程中只采用向下取整来进行二分，针对二分中间值属于右区间。算法举例如下： 针对纬度为80进行二进制编码过程：\n",
    "1) 区间[-90, 90]进行二分为[-90, 0),[0, 90]，成为左右区间，可以确定80为右区间，标记为1；\n",
    "\n",
    "2) 针对上一步的右区间[0, 90]进行二分为[0, 45),[45, 90]，可以确定80是右区间，标记为1；\n",
    "\n",
    "3) 针对[45, 90]进行二分为[45, 67),[67,90],可以确定80为右区间，标记为1；\n",
    "\n",
    "4) 针对[67,90]进行二分为[67, 78),[78,90]，可以确定80为右区间，标记为1；\n",
    "\n",
    "5) 针对[78, 90]进行二分为[78, 84),[84, 90]，可以确定80为左区间，标记为0；\n",
    "\n",
    "6) 针对[78, 84)进行二分为[78, 81), [81, 84)，可以确定80为左区间，标记为0；"
   ]
  },
  {
   "cell_type": "code",
   "execution_count": 18,
   "metadata": {
    "collapsed": false
   },
   "outputs": [
    {
     "name": "stdout",
     "output_type": "stream",
     "text": [
      "5\n",
      "100010\n"
     ]
    }
   ],
   "source": [
    "def cal(num, l, h):\n",
    "    if len(result) >= 6:\n",
    "        return \n",
    "    m = (l+h)//2\n",
    "    if num >= m:\n",
    "        result.append(1)\n",
    "        l = m\n",
    "        cal(num, l, h)\n",
    "    else:\n",
    "        result.append(0)\n",
    "        h = m\n",
    "        cal(num, l, h)\n",
    "        \n",
    "result = []\n",
    "l, h = -90, 90\n",
    "num = int(input())\n",
    "cal(num, l, h)\n",
    "print(''.join(str(i) for i in result))"
   ]
  },
  {
   "cell_type": "code",
   "execution_count": null,
   "metadata": {
    "collapsed": true
   },
   "outputs": [],
   "source": []
  }
 ],
 "metadata": {
  "kernelspec": {
   "display_name": "Python 3",
   "language": "python",
   "name": "python3"
  },
  "language_info": {
   "codemirror_mode": {
    "name": "ipython",
    "version": 3
   },
   "file_extension": ".py",
   "mimetype": "text/x-python",
   "name": "python",
   "nbconvert_exporter": "python",
   "pygments_lexer": "ipython3",
   "version": "3.5.3"
  }
 },
 "nbformat": 4,
 "nbformat_minor": 2
}
