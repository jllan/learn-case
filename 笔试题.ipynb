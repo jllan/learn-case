{
 "cells": [
  {
   "cell_type": "markdown",
   "metadata": {
    "collapsed": true,
    "deletable": true,
    "editable": true
   },
   "source": [
    "### 1. 搜狐笔试题，生成一个无限自生序列\n",
    "输入 2, 1, 3, 1    10\n",
    "\n",
    "输出 2,2,1,1,3,1,2,2,2,1"
   ]
  },
  {
   "cell_type": "code",
   "execution_count": 2,
   "metadata": {
    "collapsed": false,
    "deletable": true,
    "editable": true
   },
   "outputs": [
    {
     "name": "stdout",
     "output_type": "stream",
     "text": [
      "请输入原始序列: 3 1 2\n",
      "请输入要生成的序列长度: 30\n",
      "[3, 3, 3, 1, 1, 1, 2, 2, 2, 3, 1, 2, 3, 3, 1, 1, 2, 2, 3, 3, 3, 1, 2, 2, 3, 3, 3, 1, 1, 1, 2]\n",
      "31\n"
     ]
    }
   ],
   "source": [
    "l = input('请输入原始序列: ').split()\n",
    "l = [int(i) for i in l]\n",
    "count = int(input('请输入要生成的序列长度: '))\n",
    "\n",
    "result = []\n",
    "start = l[0]\n",
    "result.extend([start] * start)\n",
    "\n",
    "tmp = result.copy()\n",
    "tmp.pop()\n",
    "i = 1\n",
    "\n",
    "def f(tmp, i):\n",
    "    tmp2 = []\n",
    "    for j in tmp:\n",
    "        if len(result) > count:\n",
    "            return\n",
    "        res = [l[i % len(l)]] * j\n",
    "        tmp2.extend(res)\n",
    "        result.extend(res)\n",
    "        i = i + 1\n",
    "    f(tmp2, i)\n",
    "\n",
    "\n",
    "f(tmp, i)\n",
    "print(result)\n",
    "print(len(result))"
   ]
  },
  {
   "cell_type": "markdown",
   "metadata": {
    "deletable": true,
    "editable": true
   },
   "source": [
    "### 2. 腾讯笔试题，对于一个正整数，计算有几对质数之和等于该数\n",
    "给定一个正整数，编写程序计算有多少对质数的和等于输入的这个正整数，并输出结果。输入值小于1000。\n",
    "如，输入为10, 程序应该输出结果为2。（共有两对质数的和为10,分别为(5,5),(3,7)） "
   ]
  },
  {
   "cell_type": "code",
   "execution_count": 6,
   "metadata": {
    "collapsed": false,
    "deletable": true,
    "editable": true
   },
   "outputs": [
    {
     "name": "stdout",
     "output_type": "stream",
     "text": [
      "20\n",
      "[(3, 17), (7, 13)]\n"
     ]
    }
   ],
   "source": [
    "def iszs(num):\n",
    "    i = 2\n",
    "    while i <= num/2:\n",
    "        if num % i == 0:\n",
    "            return False\n",
    "        else:\n",
    "            i += 1\n",
    "    return True\n",
    "\n",
    "def ff(num):\n",
    "    count = 0\n",
    "    result = []\n",
    "    i = 2\n",
    "    while i <= num/2:\n",
    "        if iszs(i):\n",
    "            rest = num - i\n",
    "            if iszs(rest):\n",
    "                count += 1\n",
    "                result.append((i, rest))\n",
    "        i += 1\n",
    "    return result\n",
    "\n",
    "num = int(input())\n",
    "print(ff(num))"
   ]
  },
  {
   "cell_type": "markdown",
   "metadata": {
    "deletable": true,
    "editable": true
   },
   "source": [
    "### 3. geohash编码：geohash常用于将二维的经纬度转换为字符串，分为两步：第一步是经纬度的二进制编码，第二步是base32转码。\n",
    "\n",
    "此题考察纬度的二进制编码：算法对纬度[-90, 90]通过二分法进行无限逼近（取决于所需精度，本题精度为6）。注意，本题进行二分法逼近过程中只采用向下取整来进行二分，针对二分中间值属于右区间。算法举例如下： 针对纬度为80进行二进制编码过程：\n",
    "1) 区间[-90, 90]进行二分为[-90, 0),[0, 90]，成为左右区间，可以确定80为右区间，标记为1；\n",
    "\n",
    "2) 针对上一步的右区间[0, 90]进行二分为[0, 45),[45, 90]，可以确定80是右区间，标记为1；\n",
    "\n",
    "3) 针对[45, 90]进行二分为[45, 67),[67,90],可以确定80为右区间，标记为1；\n",
    "\n",
    "4) 针对[67,90]进行二分为[67, 78),[78,90]，可以确定80为右区间，标记为1；\n",
    "\n",
    "5) 针对[78, 90]进行二分为[78, 84),[84, 90]，可以确定80为左区间，标记为0；\n",
    "\n",
    "6) 针对[78, 84)进行二分为[78, 81), [81, 84)，可以确定80为左区间，标记为0；"
   ]
  },
  {
   "cell_type": "code",
   "execution_count": 18,
   "metadata": {
    "collapsed": false,
    "deletable": true,
    "editable": true
   },
   "outputs": [
    {
     "name": "stdout",
     "output_type": "stream",
     "text": [
      "5\n",
      "100010\n"
     ]
    }
   ],
   "source": [
    "def cal(num, l, h):\n",
    "    if len(result) >= 6:\n",
    "        return \n",
    "    m = (l+h)//2\n",
    "    if num >= m:\n",
    "        result.append(1)\n",
    "        l = m\n",
    "        cal(num, l, h)\n",
    "    else:\n",
    "        result.append(0)\n",
    "        h = m\n",
    "        cal(num, l, h)\n",
    "        \n",
    "result = []\n",
    "l, h = -90, 90\n",
    "num = int(input())\n",
    "cal(num, l, h)\n",
    "print(''.join(str(i) for i in result))"
   ]
  },
  {
   "cell_type": "markdown",
   "metadata": {
    "collapsed": true,
    "deletable": true,
    "editable": true
   },
   "source": [
    "### 4.回文串问题\n",
    "给一个字符串s=\"abab\"，请添加0个或多个字使得s成为一个回文串，如添加一个'a'变成'ababa'，并计算出该回文串的长度"
   ]
  },
  {
   "cell_type": "code",
   "execution_count": 9,
   "metadata": {
    "collapsed": false,
    "deletable": true,
    "editable": true
   },
   "outputs": [
    {
     "name": "stdout",
     "output_type": "stream",
     "text": [
      "请输入初始字符串:abaca\n",
      "abacaba\n"
     ]
    }
   ],
   "source": [
    "def f(s):\n",
    "    i = 0\n",
    "    while True:\n",
    "        s2 = s[i:]\n",
    "        if s2 == s2[::-1]:\n",
    "            break\n",
    "        else:\n",
    "            i += 1\n",
    "    result = s+s[:i][::-1]\n",
    "    return result\n",
    "\n",
    "s = input('请输入初始字符串:')\n",
    "print(f(s))"
   ]
  },
  {
   "cell_type": "markdown",
   "metadata": {
    "collapsed": true,
    "deletable": true,
    "editable": true
   },
   "source": [
    "### 5.1223334444....每个数n都会重复n次\n",
    "有这样一个序列：1,2,2,3,3,3,4,4,4,4...........每个数n都会重复n次，现在给出一个数m，判断序列第m位是什么，如第11位是5"
   ]
  },
  {
   "cell_type": "code",
   "execution_count": 8,
   "metadata": {
    "collapsed": false,
    "deletable": true,
    "editable": true
   },
   "outputs": [
    {
     "name": "stdout",
     "output_type": "stream",
     "text": [
      "请输入:8\n"
     ]
    },
    {
     "data": {
      "text/plain": [
       "4"
      ]
     },
     "execution_count": 8,
     "metadata": {},
     "output_type": "execute_result"
    }
   ],
   "source": [
    "def f(p):\n",
    "    sum = 1\n",
    "    i = 1\n",
    "    while sum<p:\n",
    "        i += 1\n",
    "        sum += i\n",
    "    return i\n",
    "\n",
    "s = int(input('请输入:'))\n",
    "f(s)"
   ]
  },
  {
   "cell_type": "code",
   "execution_count": 79,
   "metadata": {
    "collapsed": false,
    "deletable": true,
    "editable": true
   },
   "outputs": [
    {
     "name": "stdout",
     "output_type": "stream",
     "text": [
      "8\n",
      "8\n",
      "3\n",
      "1\n",
      "112\n"
     ]
    }
   ],
   "source": [
    "import sys\n",
    "\n",
    "\n",
    "def is_odd(n):\n",
    "    if n % 2 == 0:\n",
    "        return False\n",
    "    else:\n",
    "        return True\n",
    "\n",
    "\n",
    "def magic(m):\n",
    "    result = []\n",
    "    while m > 0:\n",
    "        print(m)\n",
    "        if is_odd(m):\n",
    "            m = (m - 1) // 2\n",
    "            result.append('1')\n",
    "        else:\n",
    "            m = (m - 2) // 2\n",
    "            result.append('2')\n",
    "    return ''.join(result[::-1])\n",
    "\n",
    "\n",
    "# m = int(sys.stdin.readline().strip('\\n'))\n",
    "m = int(input())\n",
    "print(magic(m))"
   ]
  },
  {
   "cell_type": "markdown",
   "metadata": {
    "collapsed": true,
    "deletable": true,
    "editable": true
   },
   "source": [
    "### 连续子数组和最大\n",
    "如[-1,2,1]，最大连续子数组为[2,1]，其和为3"
   ]
  },
  {
   "cell_type": "code",
   "execution_count": 30,
   "metadata": {
    "collapsed": false,
    "deletable": true,
    "editable": true
   },
   "outputs": [
    {
     "name": "stdout",
     "output_type": "stream",
     "text": [
      "[[3], [2, 1], [0, 2, 3, 1, 9], [9], [], [], [13, 0], [], [], [], [], [90]]\n",
      "[3, 3, 15, 9, 13, 90]\n",
      "90\n"
     ]
    }
   ],
   "source": [
    "import sys\n",
    "\n",
    "def f(l):\n",
    "    result = []\n",
    "    res = []\n",
    "    while l:\n",
    "        if l[0]>=0:\n",
    "            res.append(l[0])\n",
    "            del l[0]\n",
    "        else:\n",
    "            result.append(res)\n",
    "            res = []\n",
    "            del l[0]\n",
    "    result.append(res)\n",
    "    return result\n",
    "        \n",
    "l = [3, -1, 2, 1, -3, 0, 2,3,1,9, -5, 9, -5,-6,-7, 13,0,-1,-2,-3,-4,-5,90]\n",
    "result = f(l)\n",
    "print(result)\n",
    "sums = [sum(n) for n in result if n]\n",
    "print(sums)\n",
    "if sums:\n",
    "    print(max(sums))"
   ]
  },
  {
   "cell_type": "markdown",
   "metadata": {
    "deletable": true,
    "editable": true
   },
   "source": [
    "### 冒泡排序"
   ]
  },
  {
   "cell_type": "code",
   "execution_count": 76,
   "metadata": {
    "collapsed": false,
    "deletable": true,
    "editable": true
   },
   "outputs": [
    {
     "name": "stdout",
     "output_type": "stream",
     "text": [
      "[108, 161, 265, 293, 330, 376, 598, 646, 783, 812]\n"
     ]
    }
   ],
   "source": [
    "def bubble_sort(l, j):\n",
    "    if j:\n",
    "        for i in range(j-1):\n",
    "            if l[i]>l[i+1]:\n",
    "                l[i+1], l[i] = l[i], l[i+1]\n",
    "            i += 1\n",
    "        j -= 1\n",
    "        bubble_sort(l, j)\n",
    "    else:\n",
    "        print(l)\n",
    "        \n",
    "    \n",
    "# l = [2,5,0,9,3,6,1,8]\n",
    "l = [293,108,161,783,376,265,330,598,646,812]\n",
    "bubble_sort(l, len(l))"
   ]
  },
  {
   "cell_type": "markdown",
   "metadata": {
    "collapsed": true,
    "deletable": true,
    "editable": true
   },
   "source": [
    "### 硬币组合\n",
    "有1、5、10、50、100、500的硬币，输入每种硬币的数量，和需要的金额，然后计算该金额需要最少硬币数量，如\n",
    "输入：3 2 1 3 0 2 620\n",
    "输出：6"
   ]
  },
  {
   "cell_type": "code",
   "execution_count": 44,
   "metadata": {
    "collapsed": false
   },
   "outputs": [
    {
     "name": "stdout",
     "output_type": "stream",
     "text": [
      "3 2 1 2 0 3 620\n",
      "6\n"
     ]
    }
   ],
   "source": [
    "import sys\n",
    "def cost(coins_num, left):\n",
    "    coins = [500, 100, 50, 10, 5, 1]\n",
    "    coin_dict = dict(zip(coins[::-1], coins_num))\n",
    "    result = 0\n",
    "    i = 0\n",
    "    while i<=5:\n",
    "        coin = coins[i]\n",
    "        if coin_dict[coin]>0:\n",
    "            n = left//coin\n",
    "            if n>coin_dict[coin]:\n",
    "                left = left-coin*coin_dict[coin]\n",
    "                result += coin_dict[coin]\n",
    "            else:\n",
    "                left = left%coin\n",
    "                result += n\n",
    "        i += 1\n",
    "    if left>0:\n",
    "        print('NOWAY')\n",
    "    else:\n",
    "        print(result)\n",
    "# nums = sys.stdin.readline().strip().split()\n",
    "nums = input().strip().split()\n",
    "coins_num = [int(i) for i in nums[:6]]\n",
    "total = int(nums[-1])\n",
    "cost(coins_num, total)"
   ]
  },
  {
   "cell_type": "markdown",
   "metadata": {},
   "source": [
    "### 题目描述：\n",
    "LRU全称是Least Recently Used, LRU Cache的核心设计思想是, 如果一个数据在最近一段时间没有被访问到，那么在将来它被访问的可能性也很小。 在cache大小固定的情况下, 如果cache满了, 会把最近最久没有访问的元素删掉.\n",
    "实现程序禁用各种语言基础库中的LinkedHashMap.\n",
    "\n",
    "在第一行给定cache的大小 m, 对cache执行读写操作的次数n.\n",
    "从第二行开始, 有n行操作命令.\n",
    "操作有两种情况, put和get.\n",
    "put命令格式是 put key value, 表示向cache写入数据.\n",
    "get命令格式是 get key, 标示从cache读取数据.\n",
    "\n",
    "例如，输入：\n",
    "\n",
    "3 5\n",
    "\n",
    "put a b\n",
    "\n",
    "put x y\n",
    "\n",
    "put d kkk\n",
    "\n",
    "put zzz lll\n",
    "\n",
    "get a\n",
    "\n",
    "输出：\n",
    "null\n"
   ]
  },
  {
   "cell_type": "markdown",
   "metadata": {},
   "source": [
    "d = {}\n",
    "def f(cs, size, m):\n",
    "    if m<=size:\n",
    "        print\n",
    "        \n",
    "        \n",
    "           "
   ]
  }
 ],
 "metadata": {
  "kernelspec": {
   "display_name": "Python 3",
   "language": "python",
   "name": "python3"
  },
  "language_info": {
   "codemirror_mode": {
    "name": "ipython",
    "version": 3
   },
   "file_extension": ".py",
   "mimetype": "text/x-python",
   "name": "python",
   "nbconvert_exporter": "python",
   "pygments_lexer": "ipython3",
   "version": "3.5.3"
  }
 },
 "nbformat": 4,
 "nbformat_minor": 2
}
